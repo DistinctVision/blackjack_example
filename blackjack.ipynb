{
 "cells": [
  {
   "cell_type": "markdown",
   "metadata": {},
   "source": [
    "Environment setup"
   ]
  },
  {
   "cell_type": "code",
   "execution_count": 1,
   "metadata": {},
   "outputs": [],
   "source": [
    "import typing as tp\n",
    "import numpy as np\n",
    "import gymnasium as gym\n",
    "\n",
    "cards = [1, 2, 3, 4, 5, 6, 7, 8, 9, 10, 10, 10, 10]\n",
    "card_names = ['A', '2', '3', '4', '5', '6', '7', '8', '9', '10']\n",
    "\n",
    "player_scores_axis = np.arange(12, 22, 1)\n",
    "dealer_card_offset = 1\n",
    "player_scores_offset = 12\n",
    "\n",
    "def default_player_policy_func(dealer_card: int, player_scores: int, player_has_ace: bool) -> int:\n",
    "    if player_has_ace:\n",
    "        if player_scores < 20:\n",
    "            return 1\n",
    "    else:\n",
    "        if player_scores < 16:\n",
    "            return 1\n",
    "    return 0\n",
    "\n",
    "policy_grids: tp.Dict[str, np.ndarray] = {\n",
    "    'no_ace': np.zeros((10, 10), dtype=int),\n",
    "    'ace': np.zeros((10, 10), dtype=int)\n",
    "}\n",
    "\n",
    "for dealer_card in range(1, 10):\n",
    "    for player_scores in range(12, 22):\n",
    "        cell_idx = (dealer_card - dealer_card_offset, player_scores - player_scores_offset)\n",
    "        policy_grids['no_ace'][cell_idx] = default_player_policy_func(dealer_card, player_scores, False)\n",
    "        policy_grids['ace'][cell_idx] = default_player_policy_func(dealer_card, player_scores, True)\n",
    "        \n",
    "def take_action_from_policy_grid(dealer_card: int, player_scores: int, player_has_ace: bool) -> int:\n",
    "    global policy_grids\n",
    "    if player_scores < player_scores_offset:\n",
    "        return 1\n",
    "    cell_idx = (dealer_card - dealer_card_offset, player_scores - player_scores_offset)\n",
    "    assert cell_idx[0] >= 0 and cell_idx[1] >= 0\n",
    "    action = policy_grids['ace' if player_has_ace else 'no_ace'][cell_idx]\n",
    "    return action\n"
   ]
  },
  {
   "cell_type": "code",
   "execution_count": 2,
   "metadata": {},
   "outputs": [
    {
     "name": "stderr",
     "output_type": "stream",
     "text": [
      "100%|██████████| 100000/100000 [00:13<00:00, 7578.71it/s]\n",
      "IMAGEIO FFMPEG_WRITER WARNING: input image is not divisible by macro_block_size=16, resizing from (600, 500) to (608, 512) to ensure video compatibility with most codecs and players. To prevent resizing, make your input image divisible by the macro_block_size or set the macro_block_size to 1 (risking incompatibility).\n"
     ]
    },
    {
     "data": {
      "text/plain": [
       "-0.08682"
      ]
     },
     "execution_count": 2,
     "metadata": {},
     "output_type": "execute_result"
    }
   ],
   "source": [
    "from tqdm import tqdm\n",
    "import cv2\n",
    "import imageio\n",
    "\n",
    "def estimate_policy(n_experiments: int = 100_000, out_file_name = None, render_every_n_episode: int = 1_000) -> float:\n",
    "    \n",
    "    env = gym.make(\"Blackjack-v1\", sab=True, render_mode='rgb_array' if out_file_name is not None else None)\n",
    "    \n",
    "    frames = []\n",
    "    \n",
    "    sum_reward = 0\n",
    "    for ep_idx in tqdm(range(n_experiments)):\n",
    "        \n",
    "        if out_file_name is not None and ep_idx % render_every_n_episode == 0:\n",
    "            render_flag = True\n",
    "            cur_avg_reward = (sum_reward / ep_idx) if ep_idx > 0 else 0\n",
    "        else:\n",
    "            render_flag = False\n",
    "    \n",
    "        obs, info = env.reset()\n",
    "        done = False\n",
    "        ep_reward = 0\n",
    "\n",
    "        # play one episode\n",
    "        while not done:\n",
    "            player_scores, dealer_card, player_has_ace = obs\n",
    "            \n",
    "            action = take_action_from_policy_grid(dealer_card, player_scores, player_has_ace)\n",
    "            next_obs, reward, terminated, truncated, info = env.step(action)\n",
    "            ep_reward += reward\n",
    "            \n",
    "            done = terminated or truncated\n",
    "            obs = next_obs\n",
    "            \n",
    "            if render_flag:\n",
    "                frame = env.render()\n",
    "                cv2.putText(frame, f'Mean reward: {cur_avg_reward:.2f}', (230, 40),\n",
    "                            cv2.FONT_HERSHEY_SIMPLEX, 1.1, (255, 255, 0), 2, 2)\n",
    "                frames.append(frame)\n",
    "        sum_reward += ep_reward\n",
    "    \n",
    "    if out_file_name is not None:\n",
    "        imageio.mimsave(out_file_name, frames)\n",
    "    \n",
    "    return sum_reward / n_experiments\n",
    "\n",
    "default_policy_reward = estimate_policy(out_file_name=\"default_policy_game.mp4\")\n",
    "default_policy_reward"
   ]
  },
  {
   "cell_type": "code",
   "execution_count": 3,
   "metadata": {},
   "outputs": [
    {
     "name": "stderr",
     "output_type": "stream",
     "text": [
      "  0%|          | 0/303000 [00:00<?, ?it/s]C:\\Users\\Alex\\AppData\\Roaming\\Python\\Python37\\site-packages\\ipykernel_launcher.py:105: DeprecationWarning:\n",
      "\n",
      "Starting with ImageIO v3 the behavior of this function will switch to that of iio.v3.imread. To keep the current behavior (and make this warning disappear) use `import imageio.v2 as imageio` or call `imageio.v2.imread` directly.\n",
      "\n",
      "100%|██████████| 303000/303000 [02:54<00:00, 1733.53it/s]\n",
      "IMAGEIO FFMPEG_WRITER WARNING: input image is not divisible by macro_block_size=16, resizing from (1000, 500) to (1008, 512) to ensure video compatibility with most codecs and players. To prevent resizing, make your input image divisible by the macro_block_size or set the macro_block_size to 1 (risking incompatibility).\n"
     ]
    }
   ],
   "source": [
    "from tqdm import tqdm\n",
    "from pathlib import Path\n",
    "import shutil\n",
    "import imageio\n",
    "import plotly.graph_objects as go\n",
    "from plotly.subplots import make_subplots\n",
    "\n",
    "camera = dict(\n",
    "    up=dict(x=0, y=0, z=1),\n",
    "    center=dict(x=0, y=0, z=0),\n",
    "    eye=dict(x=-1.25, y=1.25, z=1.25)\n",
    ")\n",
    "\n",
    "def draw_value_function(title: str, values: tp.Dict[str, np.ndarray]) -> go.Figure:\n",
    "\n",
    "    fig = make_subplots(rows=1, cols=2,\n",
    "                        shared_xaxes=False,\n",
    "                        specs=[[{'type': 'surface'}, {'type': 'surface'}]],\n",
    "                        subplot_titles=[\"No ace\", \"Ace\"])\n",
    "\n",
    "    fig.add_trace(go.Surface(y=card_names, x=player_scores_axis,\n",
    "                             z=values['no_ace'], colorscale='YlGnBu'), col=1, row=1)\n",
    "    fig.layout.scene1.camera = camera\n",
    "    fig.layout.scene1.xaxis.nticks = 9\n",
    "    fig.layout.scene1.yaxis.nticks = 10\n",
    "    fig.add_trace(go.Surface(y=cards, x=player_scores_axis, z=values['ace'], colorscale='YlGnBu'), col=2, row=1)\n",
    "    fig.layout.scene2.camera = camera\n",
    "    fig.layout.scene2.xaxis.nticks = 10\n",
    "    fig.layout.scene2.yaxis.nticks = 10\n",
    "    fig.update_layout(scene_camera=camera, title=title,\n",
    "                      margin=dict(r=25, l=25, b=10, t=80),\n",
    "                      width=1000,\n",
    "                      showlegend=False)\n",
    "    fig.update_scenes(xaxis_title_text='Player',  \n",
    "                      yaxis_title_text='Dealer',  \n",
    "                      zaxis_title_text='Reward')\n",
    "    return fig\n",
    "\n",
    "\n",
    "def estimate_value_function(num_episodes: int = 300_000, frame_step: int = 3_000):\n",
    "    \n",
    "    env = gym.make(\"Blackjack-v1\", sab=True)\n",
    "\n",
    "    temp_dir = Path('tmp')\n",
    "    if temp_dir.exists():\n",
    "        shutil.rmtree(temp_dir)\n",
    "    temp_dir.mkdir()\n",
    "    \n",
    "    value_grid_count: tp.Dict[str, np.ndarray] = {\n",
    "        'no_ace': np.zeros((10, 10), dtype=int),\n",
    "        'ace': np.zeros((10, 10), dtype=int)\n",
    "    }\n",
    "    value_grid: tp.Dict[str, np.ndarray] = {\n",
    "        'no_ace': np.zeros((10, 10), dtype=float),\n",
    "        'ace': np.zeros((10, 10), dtype=float)\n",
    "    }\n",
    "    \n",
    "    # fill a state with a score of 21 as a winning position\n",
    "    value_grid['no_ace'][:, -1] = 1\n",
    "    value_grid['ace'][:, -1] = 1\n",
    "    \n",
    "    image_paths = []\n",
    "    \n",
    "    for ep_idx in tqdm(range(num_episodes + frame_step)):\n",
    "    \n",
    "        obs, info = env.reset()\n",
    "        done = False\n",
    "\n",
    "        # play one episode\n",
    "        while not done:\n",
    "            player_scores, dealer_card, player_has_ace = obs\n",
    "            action = take_action_from_policy_grid(dealer_card, player_scores, player_has_ace)\n",
    "            \n",
    "            next_obs, reward, terminated, truncated, info = env.step(action)\n",
    "            \n",
    "            done = terminated or truncated\n",
    "            \n",
    "            if player_scores >= player_scores_offset:\n",
    "                \n",
    "                v_g_count = value_grid_count['ace' if player_has_ace else 'no_ace']\n",
    "                v_g = value_grid['ace' if player_has_ace else 'no_ace']\n",
    "                \n",
    "                cell_idx = (dealer_card - dealer_card_offset, player_scores - player_scores_offset)\n",
    "                \n",
    "                N = v_g_count[cell_idx] + 1\n",
    "                v_g_count[cell_idx] = N\n",
    "                if done:\n",
    "                    td_target = reward\n",
    "                else:\n",
    "                    next_player_scores, next_dealer_card, next_player_has_ace = next_obs\n",
    "                    next_v_g = value_grid['ace' if next_player_has_ace else 'no_ace']\n",
    "                \n",
    "                    next_cell_idx = (next_dealer_card - dealer_card_offset, next_player_scores - player_scores_offset)\n",
    "                    td_target = reward + next_v_g[next_cell_idx]\n",
    "                v_g[cell_idx] += (td_target - v_g[cell_idx]) / N\n",
    "                \n",
    "            obs = next_obs\n",
    "        \n",
    "        if ep_idx % frame_step == 0:\n",
    "            ep_name = str(ep_idx) if ep_idx > 0 else '1'\n",
    "            fig = draw_value_function(f'Value function on step: {ep_name}', value_grid)\n",
    "\n",
    "            image_path = temp_dir / f'{ep_name}.png'\n",
    "            fig.write_image(image_path)\n",
    "            image_paths.append(imageio.imread(image_path))\n",
    "            \n",
    "    imageio.mimsave('blackjack_default_value_function.mp4', image_paths, fps=20)\n",
    "\n",
    "estimate_value_function()"
   ]
  },
  {
   "cell_type": "code",
   "execution_count": 12,
   "metadata": {},
   "outputs": [
    {
     "name": "stderr",
     "output_type": "stream",
     "text": [
      "  0%|          | 0/10100000 [00:00<?, ?it/s]C:\\Users\\Alex\\AppData\\Roaming\\Python\\Python37\\site-packages\\ipykernel_launcher.py:77: DeprecationWarning:\n",
      "\n",
      "Starting with ImageIO v3 the behavior of this function will switch to that of iio.v3.imread. To keep the current behavior (and make this warning disappear) use `import imageio.v2 as imageio` or call `imageio.v2.imread` directly.\n",
      "\n",
      "100%|██████████| 10100000/10100000 [22:42<00:00, 7415.55it/s] \n",
      "IMAGEIO FFMPEG_WRITER WARNING: input image is not divisible by macro_block_size=16, resizing from (1000, 500) to (1008, 512) to ensure video compatibility with most codecs and players. To prevent resizing, make your input image divisible by the macro_block_size or set the macro_block_size to 1 (risking incompatibility).\n"
     ]
    }
   ],
   "source": [
    "import math\n",
    "import random\n",
    "    \n",
    "q_grid: tp.Dict[str, np.ndarray] = {\n",
    "    'no_ace': np.zeros((10, 10, 2), dtype=float),\n",
    "    'ace': np.zeros((10, 10, 2), dtype=float)\n",
    "}\n",
    "    \n",
    "# fill a state with a score of 21 as a winning position\n",
    "q_grid['no_ace'][:, -1, :] = [1, 0]\n",
    "q_grid['ace'][:, -1, :] = [1, 0]\n",
    "\n",
    "def estimate_q_function(update_factor: float = 1e-3, num_episodes: int = 10_000_000, frame_step: int = 100_000):\n",
    "    \n",
    "    global q_grid\n",
    "    \n",
    "    env = gym.make(\"Blackjack-v1\", sab=True)\n",
    "\n",
    "    temp_dir = Path('tmp')\n",
    "    if temp_dir.exists():\n",
    "        shutil.rmtree(temp_dir)\n",
    "    temp_dir.mkdir()\n",
    "    \n",
    "    eps_from = 1.0\n",
    "    eps_to = 1e-2\n",
    "    n_epochs_of_decays = math.ceil(num_episodes * 0.95)\n",
    "    \n",
    "    image_paths = []\n",
    "    \n",
    "    for ep_idx in tqdm(range(num_episodes + frame_step)):\n",
    "        if ep_idx > n_epochs_of_decays:\n",
    "            eps_greedy_coeff = 0.0\n",
    "        else:\n",
    "            step_coeff = min(max(ep_idx / n_epochs_of_decays, 0.0), 1.0)\n",
    "            eps_greedy_coeff = eps_from * math.exp(math.log(eps_to / eps_from) * step_coeff)\n",
    "    \n",
    "        obs, info = env.reset()\n",
    "        done = False\n",
    "\n",
    "        while not done:\n",
    "            player_scores, dealer_card, player_has_ace = obs\n",
    "            cell_idx = (dealer_card - dealer_card_offset, player_scores - player_scores_offset)\n",
    "            q = q_grid['ace' if player_has_ace else 'no_ace']\n",
    "            if random.uniform(0, 1) < eps_greedy_coeff:\n",
    "                action = np.random.choice([0, 1])\n",
    "            else:\n",
    "                action = q[cell_idx].argmax()\n",
    "            \n",
    "            next_obs, reward, terminated, truncated, info = env.step(action)\n",
    "            \n",
    "            done = terminated or truncated\n",
    "            \n",
    "            if player_scores >= player_scores_offset:\n",
    "                if terminated:\n",
    "                    td_target = reward\n",
    "                else:\n",
    "                    next_player_scores, next_dealer_card, next_player_has_ace = next_obs\n",
    "                    next_cell_idx = (next_dealer_card - dealer_card_offset, next_player_scores - player_scores_offset)\n",
    "                    next_q = q_grid['ace' if next_player_has_ace else 'no_ace']\n",
    "                    \n",
    "                    td_target = reward + next_q[next_cell_idx].max()\n",
    "                q[cell_idx][action] += (td_target - q[cell_idx][action]) * update_factor\n",
    "                \n",
    "            obs = next_obs\n",
    "        \n",
    "        if ep_idx % frame_step == 0:\n",
    "            ep_name = str(ep_idx) if ep_idx > 0 else '1'\n",
    "            \n",
    "            values = {\n",
    "                'no_ace': q_grid['no_ace'].max(axis=2),\n",
    "                'ace': q_grid['ace'].max(axis=2)\n",
    "            }\n",
    "            fig = draw_value_function(f'Value-function from Q-function on step: {ep_name}', values)\n",
    "\n",
    "            image_path = temp_dir / f'{ep_name}.png'\n",
    "            fig.write_image(image_path)\n",
    "            image_paths.append(imageio.imread(image_path))\n",
    "            \n",
    "    imageio.mimsave('blackjack_optimal_value_function.mp4', image_paths)\n",
    "\n",
    "estimate_q_function()"
   ]
  },
  {
   "cell_type": "code",
   "execution_count": 13,
   "metadata": {},
   "outputs": [
    {
     "name": "stderr",
     "output_type": "stream",
     "text": [
      "100%|██████████| 100000/100000 [00:12<00:00, 7919.74it/s]\n",
      "IMAGEIO FFMPEG_WRITER WARNING: input image is not divisible by macro_block_size=16, resizing from (600, 500) to (608, 512) to ensure video compatibility with most codecs and players. To prevent resizing, make your input image divisible by the macro_block_size or set the macro_block_size to 1 (risking incompatibility).\n"
     ]
    },
    {
     "data": {
      "text/plain": [
       "-0.04101"
      ]
     },
     "execution_count": 13,
     "metadata": {},
     "output_type": "execute_result"
    }
   ],
   "source": [
    "policy_grids['no_ace'] = q_grid['no_ace'].argmax(axis=2)\n",
    "policy_grids['ace'] = q_grid['ace'].argmax(axis=2)\n",
    "\n",
    "new_policy_reward = estimate_policy(out_file_name='optimal_policy_game.mp4')\n",
    "new_policy_reward"
   ]
  },
  {
   "cell_type": "code",
   "execution_count": 22,
   "metadata": {},
   "outputs": [
    {
     "data": {
      "application/vnd.plotly.v1+json": {
       "config": {
        "plotlyServerURL": "https://plot.ly"
       },
       "data": [
        {
         "colorscale": [
          [
           0,
           "rgb(150,150,150)"
          ],
          [
           1,
           "rgb(155,230,155)"
          ]
         ],
         "showscale": false,
         "text": [
          [
           "Hit",
           "Hit",
           "Hit",
           "Hit",
           "Hit",
           "Stick",
           "Stick",
           "Stick",
           "Stick",
           "Stick"
          ],
          [
           "Hit",
           "Hit",
           "Stick",
           "Stick",
           "Stick",
           "Stick",
           "Stick",
           "Stick",
           "Stick",
           "Stick"
          ],
          [
           "Hit",
           "Stick",
           "Stick",
           "Stick",
           "Stick",
           "Stick",
           "Stick",
           "Stick",
           "Stick",
           "Stick"
          ],
          [
           "Hit",
           "Stick",
           "Stick",
           "Stick",
           "Stick",
           "Stick",
           "Stick",
           "Stick",
           "Stick",
           "Stick"
          ],
          [
           "Stick",
           "Stick",
           "Stick",
           "Stick",
           "Stick",
           "Stick",
           "Stick",
           "Stick",
           "Stick",
           "Stick"
          ],
          [
           "Stick",
           "Stick",
           "Stick",
           "Stick",
           "Stick",
           "Stick",
           "Stick",
           "Stick",
           "Stick",
           "Stick"
          ],
          [
           "Hit",
           "Hit",
           "Hit",
           "Hit",
           "Hit",
           "Stick",
           "Stick",
           "Stick",
           "Stick",
           "Stick"
          ],
          [
           "Hit",
           "Hit",
           "Hit",
           "Hit",
           "Hit",
           "Stick",
           "Stick",
           "Stick",
           "Stick",
           "Stick"
          ],
          [
           "Hit",
           "Hit",
           "Hit",
           "Hit",
           "Hit",
           "Stick",
           "Stick",
           "Stick",
           "Stick",
           "Stick"
          ],
          [
           "Hit",
           "Hit",
           "Hit",
           "Hit",
           "Hit",
           "Stick",
           "Stick",
           "Stick",
           "Stick",
           "Stick"
          ]
         ],
         "texttemplate": "%{text}",
         "type": "heatmap",
         "x": [
          12,
          13,
          14,
          15,
          16,
          17,
          18,
          19,
          20,
          21
         ],
         "xaxis": "x",
         "y": [
          "A",
          "2",
          "3",
          "4",
          "5",
          "6",
          "7",
          "8",
          "9",
          "10"
         ],
         "yaxis": "y",
         "z": [
          [
           1,
           1,
           1,
           1,
           1,
           0,
           0,
           0,
           0,
           0
          ],
          [
           1,
           1,
           0,
           0,
           0,
           0,
           0,
           0,
           0,
           0
          ],
          [
           1,
           0,
           0,
           0,
           0,
           0,
           0,
           0,
           0,
           0
          ],
          [
           1,
           0,
           0,
           0,
           0,
           0,
           0,
           0,
           0,
           0
          ],
          [
           0,
           0,
           0,
           0,
           0,
           0,
           0,
           0,
           0,
           0
          ],
          [
           0,
           0,
           0,
           0,
           0,
           0,
           0,
           0,
           0,
           0
          ],
          [
           1,
           1,
           1,
           1,
           1,
           0,
           0,
           0,
           0,
           0
          ],
          [
           1,
           1,
           1,
           1,
           1,
           0,
           0,
           0,
           0,
           0
          ],
          [
           1,
           1,
           1,
           1,
           1,
           0,
           0,
           0,
           0,
           0
          ],
          [
           1,
           1,
           1,
           1,
           1,
           0,
           0,
           0,
           0,
           0
          ]
         ]
        },
        {
         "colorscale": [
          [
           0,
           "rgb(150,150,150)"
          ],
          [
           1,
           "rgb(155,230,155)"
          ]
         ],
         "showscale": false,
         "text": [
          [
           "Hit",
           "Hit",
           "Hit",
           "Hit",
           "Hit",
           "Stick",
           "Stick",
           "Stick",
           "Stick",
           "Stick"
          ],
          [
           "Hit",
           "Hit",
           "Stick",
           "Stick",
           "Stick",
           "Stick",
           "Stick",
           "Stick",
           "Stick",
           "Stick"
          ],
          [
           "Hit",
           "Stick",
           "Stick",
           "Stick",
           "Stick",
           "Stick",
           "Stick",
           "Stick",
           "Stick",
           "Stick"
          ],
          [
           "Hit",
           "Stick",
           "Stick",
           "Stick",
           "Stick",
           "Stick",
           "Stick",
           "Stick",
           "Stick",
           "Stick"
          ],
          [
           "Stick",
           "Stick",
           "Stick",
           "Stick",
           "Stick",
           "Stick",
           "Stick",
           "Stick",
           "Stick",
           "Stick"
          ],
          [
           "Stick",
           "Stick",
           "Stick",
           "Stick",
           "Stick",
           "Stick",
           "Stick",
           "Stick",
           "Stick",
           "Stick"
          ],
          [
           "Hit",
           "Hit",
           "Hit",
           "Hit",
           "Hit",
           "Stick",
           "Stick",
           "Stick",
           "Stick",
           "Stick"
          ],
          [
           "Hit",
           "Hit",
           "Hit",
           "Hit",
           "Hit",
           "Stick",
           "Stick",
           "Stick",
           "Stick",
           "Stick"
          ],
          [
           "Hit",
           "Hit",
           "Hit",
           "Hit",
           "Hit",
           "Stick",
           "Stick",
           "Stick",
           "Stick",
           "Stick"
          ],
          [
           "Hit",
           "Hit",
           "Hit",
           "Hit",
           "Hit",
           "Stick",
           "Stick",
           "Stick",
           "Stick",
           "Stick"
          ]
         ],
         "texttemplate": "%{text}",
         "type": "heatmap",
         "x": [
          12,
          13,
          14,
          15,
          16,
          17,
          18,
          19,
          20,
          21
         ],
         "xaxis": "x2",
         "y": [
          "A",
          "2",
          "3",
          "4",
          "5",
          "6",
          "7",
          "8",
          "9",
          "10"
         ],
         "yaxis": "y2",
         "z": [
          [
           1,
           1,
           1,
           1,
           1,
           1,
           1,
           0,
           0,
           0
          ],
          [
           1,
           1,
           1,
           1,
           1,
           1,
           0,
           0,
           0,
           0
          ],
          [
           1,
           1,
           1,
           1,
           1,
           1,
           0,
           0,
           0,
           0
          ],
          [
           1,
           1,
           1,
           1,
           1,
           1,
           0,
           0,
           0,
           0
          ],
          [
           1,
           1,
           1,
           1,
           1,
           1,
           0,
           0,
           0,
           0
          ],
          [
           1,
           1,
           1,
           1,
           1,
           1,
           0,
           0,
           0,
           0
          ],
          [
           1,
           1,
           1,
           1,
           1,
           1,
           0,
           0,
           0,
           0
          ],
          [
           1,
           1,
           1,
           1,
           1,
           1,
           0,
           0,
           0,
           0
          ],
          [
           1,
           1,
           1,
           1,
           1,
           1,
           1,
           0,
           0,
           0
          ],
          [
           1,
           1,
           1,
           1,
           1,
           1,
           1,
           0,
           0,
           0
          ]
         ]
        }
       ],
       "layout": {
        "annotations": [
         {
          "font": {
           "size": 16
          },
          "showarrow": false,
          "text": "No ace",
          "x": 0.225,
          "xanchor": "center",
          "xref": "paper",
          "y": 1,
          "yanchor": "bottom",
          "yref": "paper"
         },
         {
          "font": {
           "size": 16
          },
          "showarrow": false,
          "text": "Ace",
          "x": 0.775,
          "xanchor": "center",
          "xref": "paper",
          "y": 1,
          "yanchor": "bottom",
          "yref": "paper"
         }
        ],
        "height": 400,
        "scene": {
         "xaxis": {
          "title": {
           "text": "Dealer"
          }
         },
         "yaxis": {
          "title": {
           "text": "Player"
          }
         }
        },
        "template": {
         "data": {
          "bar": [
           {
            "error_x": {
             "color": "#2a3f5f"
            },
            "error_y": {
             "color": "#2a3f5f"
            },
            "marker": {
             "line": {
              "color": "#E5ECF6",
              "width": 0.5
             },
             "pattern": {
              "fillmode": "overlay",
              "size": 10,
              "solidity": 0.2
             }
            },
            "type": "bar"
           }
          ],
          "barpolar": [
           {
            "marker": {
             "line": {
              "color": "#E5ECF6",
              "width": 0.5
             },
             "pattern": {
              "fillmode": "overlay",
              "size": 10,
              "solidity": 0.2
             }
            },
            "type": "barpolar"
           }
          ],
          "carpet": [
           {
            "aaxis": {
             "endlinecolor": "#2a3f5f",
             "gridcolor": "white",
             "linecolor": "white",
             "minorgridcolor": "white",
             "startlinecolor": "#2a3f5f"
            },
            "baxis": {
             "endlinecolor": "#2a3f5f",
             "gridcolor": "white",
             "linecolor": "white",
             "minorgridcolor": "white",
             "startlinecolor": "#2a3f5f"
            },
            "type": "carpet"
           }
          ],
          "choropleth": [
           {
            "colorbar": {
             "outlinewidth": 0,
             "ticks": ""
            },
            "type": "choropleth"
           }
          ],
          "contour": [
           {
            "colorbar": {
             "outlinewidth": 0,
             "ticks": ""
            },
            "colorscale": [
             [
              0,
              "#0d0887"
             ],
             [
              0.1111111111111111,
              "#46039f"
             ],
             [
              0.2222222222222222,
              "#7201a8"
             ],
             [
              0.3333333333333333,
              "#9c179e"
             ],
             [
              0.4444444444444444,
              "#bd3786"
             ],
             [
              0.5555555555555556,
              "#d8576b"
             ],
             [
              0.6666666666666666,
              "#ed7953"
             ],
             [
              0.7777777777777778,
              "#fb9f3a"
             ],
             [
              0.8888888888888888,
              "#fdca26"
             ],
             [
              1,
              "#f0f921"
             ]
            ],
            "type": "contour"
           }
          ],
          "contourcarpet": [
           {
            "colorbar": {
             "outlinewidth": 0,
             "ticks": ""
            },
            "type": "contourcarpet"
           }
          ],
          "heatmap": [
           {
            "colorbar": {
             "outlinewidth": 0,
             "ticks": ""
            },
            "colorscale": [
             [
              0,
              "#0d0887"
             ],
             [
              0.1111111111111111,
              "#46039f"
             ],
             [
              0.2222222222222222,
              "#7201a8"
             ],
             [
              0.3333333333333333,
              "#9c179e"
             ],
             [
              0.4444444444444444,
              "#bd3786"
             ],
             [
              0.5555555555555556,
              "#d8576b"
             ],
             [
              0.6666666666666666,
              "#ed7953"
             ],
             [
              0.7777777777777778,
              "#fb9f3a"
             ],
             [
              0.8888888888888888,
              "#fdca26"
             ],
             [
              1,
              "#f0f921"
             ]
            ],
            "type": "heatmap"
           }
          ],
          "heatmapgl": [
           {
            "colorbar": {
             "outlinewidth": 0,
             "ticks": ""
            },
            "colorscale": [
             [
              0,
              "#0d0887"
             ],
             [
              0.1111111111111111,
              "#46039f"
             ],
             [
              0.2222222222222222,
              "#7201a8"
             ],
             [
              0.3333333333333333,
              "#9c179e"
             ],
             [
              0.4444444444444444,
              "#bd3786"
             ],
             [
              0.5555555555555556,
              "#d8576b"
             ],
             [
              0.6666666666666666,
              "#ed7953"
             ],
             [
              0.7777777777777778,
              "#fb9f3a"
             ],
             [
              0.8888888888888888,
              "#fdca26"
             ],
             [
              1,
              "#f0f921"
             ]
            ],
            "type": "heatmapgl"
           }
          ],
          "histogram": [
           {
            "marker": {
             "pattern": {
              "fillmode": "overlay",
              "size": 10,
              "solidity": 0.2
             }
            },
            "type": "histogram"
           }
          ],
          "histogram2d": [
           {
            "colorbar": {
             "outlinewidth": 0,
             "ticks": ""
            },
            "colorscale": [
             [
              0,
              "#0d0887"
             ],
             [
              0.1111111111111111,
              "#46039f"
             ],
             [
              0.2222222222222222,
              "#7201a8"
             ],
             [
              0.3333333333333333,
              "#9c179e"
             ],
             [
              0.4444444444444444,
              "#bd3786"
             ],
             [
              0.5555555555555556,
              "#d8576b"
             ],
             [
              0.6666666666666666,
              "#ed7953"
             ],
             [
              0.7777777777777778,
              "#fb9f3a"
             ],
             [
              0.8888888888888888,
              "#fdca26"
             ],
             [
              1,
              "#f0f921"
             ]
            ],
            "type": "histogram2d"
           }
          ],
          "histogram2dcontour": [
           {
            "colorbar": {
             "outlinewidth": 0,
             "ticks": ""
            },
            "colorscale": [
             [
              0,
              "#0d0887"
             ],
             [
              0.1111111111111111,
              "#46039f"
             ],
             [
              0.2222222222222222,
              "#7201a8"
             ],
             [
              0.3333333333333333,
              "#9c179e"
             ],
             [
              0.4444444444444444,
              "#bd3786"
             ],
             [
              0.5555555555555556,
              "#d8576b"
             ],
             [
              0.6666666666666666,
              "#ed7953"
             ],
             [
              0.7777777777777778,
              "#fb9f3a"
             ],
             [
              0.8888888888888888,
              "#fdca26"
             ],
             [
              1,
              "#f0f921"
             ]
            ],
            "type": "histogram2dcontour"
           }
          ],
          "mesh3d": [
           {
            "colorbar": {
             "outlinewidth": 0,
             "ticks": ""
            },
            "type": "mesh3d"
           }
          ],
          "parcoords": [
           {
            "line": {
             "colorbar": {
              "outlinewidth": 0,
              "ticks": ""
             }
            },
            "type": "parcoords"
           }
          ],
          "pie": [
           {
            "automargin": true,
            "type": "pie"
           }
          ],
          "scatter": [
           {
            "fillpattern": {
             "fillmode": "overlay",
             "size": 10,
             "solidity": 0.2
            },
            "type": "scatter"
           }
          ],
          "scatter3d": [
           {
            "line": {
             "colorbar": {
              "outlinewidth": 0,
              "ticks": ""
             }
            },
            "marker": {
             "colorbar": {
              "outlinewidth": 0,
              "ticks": ""
             }
            },
            "type": "scatter3d"
           }
          ],
          "scattercarpet": [
           {
            "marker": {
             "colorbar": {
              "outlinewidth": 0,
              "ticks": ""
             }
            },
            "type": "scattercarpet"
           }
          ],
          "scattergeo": [
           {
            "marker": {
             "colorbar": {
              "outlinewidth": 0,
              "ticks": ""
             }
            },
            "type": "scattergeo"
           }
          ],
          "scattergl": [
           {
            "marker": {
             "colorbar": {
              "outlinewidth": 0,
              "ticks": ""
             }
            },
            "type": "scattergl"
           }
          ],
          "scattermapbox": [
           {
            "marker": {
             "colorbar": {
              "outlinewidth": 0,
              "ticks": ""
             }
            },
            "type": "scattermapbox"
           }
          ],
          "scatterpolar": [
           {
            "marker": {
             "colorbar": {
              "outlinewidth": 0,
              "ticks": ""
             }
            },
            "type": "scatterpolar"
           }
          ],
          "scatterpolargl": [
           {
            "marker": {
             "colorbar": {
              "outlinewidth": 0,
              "ticks": ""
             }
            },
            "type": "scatterpolargl"
           }
          ],
          "scatterternary": [
           {
            "marker": {
             "colorbar": {
              "outlinewidth": 0,
              "ticks": ""
             }
            },
            "type": "scatterternary"
           }
          ],
          "surface": [
           {
            "colorbar": {
             "outlinewidth": 0,
             "ticks": ""
            },
            "colorscale": [
             [
              0,
              "#0d0887"
             ],
             [
              0.1111111111111111,
              "#46039f"
             ],
             [
              0.2222222222222222,
              "#7201a8"
             ],
             [
              0.3333333333333333,
              "#9c179e"
             ],
             [
              0.4444444444444444,
              "#bd3786"
             ],
             [
              0.5555555555555556,
              "#d8576b"
             ],
             [
              0.6666666666666666,
              "#ed7953"
             ],
             [
              0.7777777777777778,
              "#fb9f3a"
             ],
             [
              0.8888888888888888,
              "#fdca26"
             ],
             [
              1,
              "#f0f921"
             ]
            ],
            "type": "surface"
           }
          ],
          "table": [
           {
            "cells": {
             "fill": {
              "color": "#EBF0F8"
             },
             "line": {
              "color": "white"
             }
            },
            "header": {
             "fill": {
              "color": "#C8D4E3"
             },
             "line": {
              "color": "white"
             }
            },
            "type": "table"
           }
          ]
         },
         "layout": {
          "annotationdefaults": {
           "arrowcolor": "#2a3f5f",
           "arrowhead": 0,
           "arrowwidth": 1
          },
          "autotypenumbers": "strict",
          "coloraxis": {
           "colorbar": {
            "outlinewidth": 0,
            "ticks": ""
           }
          },
          "colorscale": {
           "diverging": [
            [
             0,
             "#8e0152"
            ],
            [
             0.1,
             "#c51b7d"
            ],
            [
             0.2,
             "#de77ae"
            ],
            [
             0.3,
             "#f1b6da"
            ],
            [
             0.4,
             "#fde0ef"
            ],
            [
             0.5,
             "#f7f7f7"
            ],
            [
             0.6,
             "#e6f5d0"
            ],
            [
             0.7,
             "#b8e186"
            ],
            [
             0.8,
             "#7fbc41"
            ],
            [
             0.9,
             "#4d9221"
            ],
            [
             1,
             "#276419"
            ]
           ],
           "sequential": [
            [
             0,
             "#0d0887"
            ],
            [
             0.1111111111111111,
             "#46039f"
            ],
            [
             0.2222222222222222,
             "#7201a8"
            ],
            [
             0.3333333333333333,
             "#9c179e"
            ],
            [
             0.4444444444444444,
             "#bd3786"
            ],
            [
             0.5555555555555556,
             "#d8576b"
            ],
            [
             0.6666666666666666,
             "#ed7953"
            ],
            [
             0.7777777777777778,
             "#fb9f3a"
            ],
            [
             0.8888888888888888,
             "#fdca26"
            ],
            [
             1,
             "#f0f921"
            ]
           ],
           "sequentialminus": [
            [
             0,
             "#0d0887"
            ],
            [
             0.1111111111111111,
             "#46039f"
            ],
            [
             0.2222222222222222,
             "#7201a8"
            ],
            [
             0.3333333333333333,
             "#9c179e"
            ],
            [
             0.4444444444444444,
             "#bd3786"
            ],
            [
             0.5555555555555556,
             "#d8576b"
            ],
            [
             0.6666666666666666,
             "#ed7953"
            ],
            [
             0.7777777777777778,
             "#fb9f3a"
            ],
            [
             0.8888888888888888,
             "#fdca26"
            ],
            [
             1,
             "#f0f921"
            ]
           ]
          },
          "colorway": [
           "#636efa",
           "#EF553B",
           "#00cc96",
           "#ab63fa",
           "#FFA15A",
           "#19d3f3",
           "#FF6692",
           "#B6E880",
           "#FF97FF",
           "#FECB52"
          ],
          "font": {
           "color": "#2a3f5f"
          },
          "geo": {
           "bgcolor": "white",
           "lakecolor": "white",
           "landcolor": "#E5ECF6",
           "showlakes": true,
           "showland": true,
           "subunitcolor": "white"
          },
          "hoverlabel": {
           "align": "left"
          },
          "hovermode": "closest",
          "mapbox": {
           "style": "light"
          },
          "paper_bgcolor": "white",
          "plot_bgcolor": "#E5ECF6",
          "polar": {
           "angularaxis": {
            "gridcolor": "white",
            "linecolor": "white",
            "ticks": ""
           },
           "bgcolor": "#E5ECF6",
           "radialaxis": {
            "gridcolor": "white",
            "linecolor": "white",
            "ticks": ""
           }
          },
          "scene": {
           "xaxis": {
            "backgroundcolor": "#E5ECF6",
            "gridcolor": "white",
            "gridwidth": 2,
            "linecolor": "white",
            "showbackground": true,
            "ticks": "",
            "zerolinecolor": "white"
           },
           "yaxis": {
            "backgroundcolor": "#E5ECF6",
            "gridcolor": "white",
            "gridwidth": 2,
            "linecolor": "white",
            "showbackground": true,
            "ticks": "",
            "zerolinecolor": "white"
           },
           "zaxis": {
            "backgroundcolor": "#E5ECF6",
            "gridcolor": "white",
            "gridwidth": 2,
            "linecolor": "white",
            "showbackground": true,
            "ticks": "",
            "zerolinecolor": "white"
           }
          },
          "shapedefaults": {
           "line": {
            "color": "#2a3f5f"
           }
          },
          "ternary": {
           "aaxis": {
            "gridcolor": "white",
            "linecolor": "white",
            "ticks": ""
           },
           "baxis": {
            "gridcolor": "white",
            "linecolor": "white",
            "ticks": ""
           },
           "bgcolor": "#E5ECF6",
           "caxis": {
            "gridcolor": "white",
            "linecolor": "white",
            "ticks": ""
           }
          },
          "title": {
           "x": 0.05
          },
          "xaxis": {
           "automargin": true,
           "gridcolor": "white",
           "linecolor": "white",
           "ticks": "",
           "title": {
            "standoff": 15
           },
           "zerolinecolor": "white",
           "zerolinewidth": 2
          },
          "yaxis": {
           "automargin": true,
           "gridcolor": "white",
           "linecolor": "white",
           "ticks": "",
           "title": {
            "standoff": 15
           },
           "zerolinecolor": "white",
           "zerolinewidth": 2
          }
         }
        },
        "width": 800,
        "xaxis": {
         "anchor": "y",
         "domain": [
          0,
          0.45
         ],
         "dtick": 1,
         "linewidth": 1,
         "showline": true,
         "title": {
          "text": "Player scores"
         }
        },
        "xaxis2": {
         "anchor": "y2",
         "domain": [
          0.55,
          1
         ],
         "dtick": 1,
         "linewidth": 1,
         "showline": true,
         "title": {
          "text": "Player scores"
         }
        },
        "yaxis": {
         "anchor": "x",
         "domain": [
          0,
          1
         ],
         "dtick": 1,
         "linewidth": 1,
         "showline": true,
         "title": {
          "text": "Dealer scores"
         }
        },
        "yaxis2": {
         "anchor": "x2",
         "domain": [
          0,
          1
         ],
         "dtick": 1,
         "linewidth": 1,
         "showline": true,
         "title": {
          "text": "Dealer scores"
         }
        }
       }
      }
     },
     "metadata": {},
     "output_type": "display_data"
    }
   ],
   "source": [
    "import plotly.express as px\n",
    "\n",
    "fig = make_subplots(rows=1, cols=2, subplot_titles=(\"No ace\", \"Ace\"))\n",
    "dealer_axis = np.linspace(1, 10, 10)\n",
    "colorscale = [[0, \"rgb(150,150,150)\"], [1, \"rgb(155,230,155)\"]]\n",
    "\n",
    "annotations = ['Stick', 'Hit']\n",
    "policy_texts = {\n",
    "    'no_ace': [[annotations[policy_grids['no_ace'][i, j]] for j in range(10)] for i in range(10)],\n",
    "    'ace': [[annotations[policy_grids['ace'][i, j]] for j in range(10)] for i in range(10)]\n",
    "}\n",
    "\n",
    "fig.add_trace(go.Heatmap(x=player_scores_axis, y=card_names, z=policy_grids['no_ace'],\n",
    "                         colorscale=colorscale,\n",
    "                         text=policy_texts['no_ace'], texttemplate=\"%{text}\"), 1, 1)\n",
    "fig.add_trace(go.Heatmap(x=player_scores_axis, y=card_names, z=policy_grids['ace'],\n",
    "                         colorscale=colorscale,\n",
    "                         text=policy_texts['no_ace'], texttemplate=\"%{text}\"), 1, 2)\n",
    "fig.update_layout(width=800, height=400)\n",
    "fig.update_scenes(xaxis_title_text='Dealer', yaxis_title_text='Player')\n",
    "fig.update_traces(showscale=False)\n",
    "fig.update_xaxes(showline=True, linewidth=1, title='Player scores', dtick=1)\n",
    "fig.update_yaxes(showline=True, linewidth=1, title='Dealer scores', dtick=1)\n",
    "\n",
    "\n",
    "fig.show()\n"
   ]
  }
 ],
 "metadata": {
  "kernelspec": {
   "display_name": "Python 3",
   "language": "python",
   "name": "python3"
  },
  "language_info": {
   "codemirror_mode": {
    "name": "ipython",
    "version": 3
   },
   "file_extension": ".py",
   "mimetype": "text/x-python",
   "name": "python",
   "nbconvert_exporter": "python",
   "pygments_lexer": "ipython3",
   "version": "3.7.9"
  }
 },
 "nbformat": 4,
 "nbformat_minor": 2
}
