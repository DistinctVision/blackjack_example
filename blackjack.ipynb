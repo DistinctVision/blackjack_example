{
 "cells": [
  {
   "cell_type": "markdown",
   "metadata": {},
   "source": [
    "Environment setup"
   ]
  },
  {
   "cell_type": "code",
   "execution_count": 1,
   "metadata": {},
   "outputs": [],
   "source": [
    "import typing as tp\n",
    "import numpy as np\n",
    "import gymnasium as gym\n",
    "\n",
    "cards = [1, 2, 3, 4, 5, 6, 7, 8, 9, 10, 10, 10, 10]\n",
    "card_names = ['A', '2', '3', '4', '5', '6', '7', '8', '9', '10']\n",
    "\n",
    "player_scores_axis = np.arange(12, 22, 1)\n",
    "dealer_card_offset = 1\n",
    "player_scores_offset = 12\n",
    "\n",
    "def default_player_policy_func(dealer_card: int, player_scores: int, player_has_ace: bool) -> int:\n",
    "    if player_has_ace:\n",
    "        if player_scores < 20:\n",
    "            return 1\n",
    "    else:\n",
    "        if player_scores < 16:\n",
    "            return 1\n",
    "    return 0\n",
    "\n",
    "policy_grids: tp.Dict[str, np.ndarray] = {\n",
    "    'no_ace': np.zeros((10, 10), dtype=int),\n",
    "    'ace': np.zeros((10, 10), dtype=int)\n",
    "}\n",
    "\n",
    "for dealer_card in range(1, 10):\n",
    "    for player_scores in range(12, 22):\n",
    "        cell_idx = (dealer_card - dealer_card_offset, player_scores - player_scores_offset)\n",
    "        policy_grids['no_ace'][cell_idx] = default_player_policy_func(dealer_card, player_scores, False)\n",
    "        policy_grids['ace'][cell_idx] = default_player_policy_func(dealer_card, player_scores, True)\n",
    "        \n",
    "def take_action_from_policy_grid(dealer_card: int, player_scores: int, player_has_ace: bool) -> int:\n",
    "    global policy_grids\n",
    "    if player_scores < player_scores_offset:\n",
    "        return 1\n",
    "    cell_idx = (dealer_card - dealer_card_offset, player_scores - player_scores_offset)\n",
    "    assert cell_idx[0] >= 0 and cell_idx[1] >= 0\n",
    "    action = policy_grids['ace' if player_has_ace else 'no_ace'][cell_idx]\n",
    "    return action\n"
   ]
  },
  {
   "cell_type": "code",
   "execution_count": 2,
   "metadata": {},
   "outputs": [
    {
     "name": "stderr",
     "output_type": "stream",
     "text": [
      "100%|██████████| 100000/100000 [00:13<00:00, 7569.49it/s]\n",
      "IMAGEIO FFMPEG_WRITER WARNING: input image is not divisible by macro_block_size=16, resizing from (600, 500) to (608, 512) to ensure video compatibility with most codecs and players. To prevent resizing, make your input image divisible by the macro_block_size or set the macro_block_size to 1 (risking incompatibility).\n"
     ]
    },
    {
     "data": {
      "text/plain": [
       "-0.0926"
      ]
     },
     "execution_count": 2,
     "metadata": {},
     "output_type": "execute_result"
    }
   ],
   "source": [
    "from tqdm import tqdm\n",
    "import cv2\n",
    "import imageio\n",
    "\n",
    "def estimate_policy(n_experiments: int = 100_000, out_file_name = None, render_every_n_episode: int = 1_000) -> float:\n",
    "    \n",
    "    env = gym.make(\"Blackjack-v1\", sab=True, render_mode='rgb_array' if out_file_name is not None else None)\n",
    "    \n",
    "    frames = []\n",
    "    \n",
    "    sum_reward = 0\n",
    "    for ep_idx in tqdm(range(n_experiments)):\n",
    "        \n",
    "        if out_file_name is not None and ep_idx % render_every_n_episode == 0:\n",
    "            render_flag = True\n",
    "            cur_avg_reward = (sum_reward / ep_idx) if ep_idx > 0 else 0\n",
    "        else:\n",
    "            render_flag = False\n",
    "    \n",
    "        obs, info = env.reset()\n",
    "        done = False\n",
    "        ep_reward = 0\n",
    "\n",
    "        # play one episode\n",
    "        while not done:\n",
    "            player_scores, dealer_card, player_has_ace = obs\n",
    "            \n",
    "            action = take_action_from_policy_grid(dealer_card, player_scores, player_has_ace)\n",
    "            next_obs, reward, terminated, truncated, info = env.step(action)\n",
    "            ep_reward += reward\n",
    "            \n",
    "            done = terminated or truncated\n",
    "            obs = next_obs\n",
    "            \n",
    "            if render_flag:\n",
    "                frame = env.render()\n",
    "                cv2.putText(frame, f'Mean reward: {cur_avg_reward:.2f}', (230, 40),\n",
    "                            cv2.FONT_HERSHEY_SIMPLEX, 1.1, (255, 255, 0), 2, 2)\n",
    "                frames.append(frame)\n",
    "        sum_reward += ep_reward\n",
    "    \n",
    "    if out_file_name is not None:\n",
    "        imageio.mimsave(out_file_name, frames)\n",
    "    \n",
    "    return sum_reward / n_experiments\n",
    "\n",
    "default_policy_reward = estimate_policy(out_file_name=\"default_policy_game.mp4\")\n",
    "default_policy_reward"
   ]
  },
  {
   "cell_type": "code",
   "execution_count": 3,
   "metadata": {},
   "outputs": [
    {
     "name": "stderr",
     "output_type": "stream",
     "text": [
      "  0%|          | 0/303000 [00:00<?, ?it/s]C:\\Users\\Alex\\AppData\\Roaming\\Python\\Python37\\site-packages\\ipykernel_launcher.py:105: DeprecationWarning:\n",
      "\n",
      "Starting with ImageIO v3 the behavior of this function will switch to that of iio.v3.imread. To keep the current behavior (and make this warning disappear) use `import imageio.v2 as imageio` or call `imageio.v2.imread` directly.\n",
      "\n",
      "100%|██████████| 303000/303000 [02:55<00:00, 1721.83it/s]\n",
      "IMAGEIO FFMPEG_WRITER WARNING: input image is not divisible by macro_block_size=16, resizing from (1000, 500) to (1008, 512) to ensure video compatibility with most codecs and players. To prevent resizing, make your input image divisible by the macro_block_size or set the macro_block_size to 1 (risking incompatibility).\n"
     ]
    }
   ],
   "source": [
    "from tqdm import tqdm\n",
    "from pathlib import Path\n",
    "import shutil\n",
    "import imageio\n",
    "import plotly.graph_objects as go\n",
    "from plotly.subplots import make_subplots\n",
    "\n",
    "camera = dict(\n",
    "    up=dict(x=0, y=0, z=1),\n",
    "    center=dict(x=0, y=0, z=0),\n",
    "    eye=dict(x=-1.25, y=1.25, z=1.25)\n",
    ")\n",
    "\n",
    "def draw_value_function(title: str, values: tp.Dict[str, np.ndarray]) -> go.Figure:\n",
    "\n",
    "    fig = make_subplots(rows=1, cols=2,\n",
    "                        shared_xaxes=False,\n",
    "                        specs=[[{'type': 'surface'}, {'type': 'surface'}]],\n",
    "                        subplot_titles=[\"No ace\", \"Ace\"])\n",
    "\n",
    "    fig.add_trace(go.Surface(y=card_names, x=player_scores_axis,\n",
    "                             z=values['no_ace'], colorscale='YlGnBu'), col=1, row=1)\n",
    "    fig.layout.scene1.camera = camera\n",
    "    fig.layout.scene1.xaxis.nticks = 9\n",
    "    fig.layout.scene1.yaxis.nticks = 10\n",
    "    fig.add_trace(go.Surface(y=card_names, x=player_scores_axis, z=values['ace'], colorscale='YlGnBu'), col=2, row=1)\n",
    "    fig.layout.scene2.camera = camera\n",
    "    fig.layout.scene2.xaxis.nticks = 10\n",
    "    fig.layout.scene2.yaxis.nticks = 10\n",
    "    fig.update_layout(scene_camera=camera, title=title,\n",
    "                      margin=dict(r=25, l=25, b=10, t=80),\n",
    "                      width=1000,\n",
    "                      showlegend=False)\n",
    "    fig.update_scenes(xaxis_title_text='Player',  \n",
    "                      yaxis_title_text='Dealer',  \n",
    "                      zaxis_title_text='Reward')\n",
    "    return fig\n",
    "\n",
    "\n",
    "def estimate_value_function(num_episodes: int = 300_000, frame_step: int = 3_000):\n",
    "    \n",
    "    env = gym.make(\"Blackjack-v1\", sab=True)\n",
    "\n",
    "    temp_dir = Path('tmp')\n",
    "    if temp_dir.exists():\n",
    "        shutil.rmtree(temp_dir)\n",
    "    temp_dir.mkdir()\n",
    "    \n",
    "    value_grid_count: tp.Dict[str, np.ndarray] = {\n",
    "        'no_ace': np.zeros((10, 10), dtype=int),\n",
    "        'ace': np.zeros((10, 10), dtype=int)\n",
    "    }\n",
    "    value_grid: tp.Dict[str, np.ndarray] = {\n",
    "        'no_ace': np.zeros((10, 10), dtype=float),\n",
    "        'ace': np.zeros((10, 10), dtype=float)\n",
    "    }\n",
    "    \n",
    "    # fill a state with a score of 21 as a winning position\n",
    "    value_grid['no_ace'][:, -1] = 1\n",
    "    value_grid['ace'][:, -1] = 1\n",
    "    \n",
    "    image_paths = []\n",
    "    \n",
    "    for ep_idx in tqdm(range(num_episodes + frame_step)):\n",
    "    \n",
    "        obs, info = env.reset()\n",
    "        done = False\n",
    "\n",
    "        # play one episode\n",
    "        while not done:\n",
    "            player_scores, dealer_card, player_has_ace = obs\n",
    "            action = take_action_from_policy_grid(dealer_card, player_scores, player_has_ace)\n",
    "            \n",
    "            next_obs, reward, terminated, truncated, info = env.step(action)\n",
    "            \n",
    "            done = terminated or truncated\n",
    "            \n",
    "            if player_scores >= player_scores_offset:\n",
    "                \n",
    "                v_g_count = value_grid_count['ace' if player_has_ace else 'no_ace']\n",
    "                v_g = value_grid['ace' if player_has_ace else 'no_ace']\n",
    "                \n",
    "                cell_idx = (dealer_card - dealer_card_offset, player_scores - player_scores_offset)\n",
    "                \n",
    "                N = v_g_count[cell_idx] + 1\n",
    "                v_g_count[cell_idx] = N\n",
    "                if done:\n",
    "                    td_target = reward\n",
    "                else:\n",
    "                    next_player_scores, next_dealer_card, next_player_has_ace = next_obs\n",
    "                    next_v_g = value_grid['ace' if next_player_has_ace else 'no_ace']\n",
    "                \n",
    "                    next_cell_idx = (next_dealer_card - dealer_card_offset, next_player_scores - player_scores_offset)\n",
    "                    td_target = reward + next_v_g[next_cell_idx]\n",
    "                v_g[cell_idx] += (td_target - v_g[cell_idx]) / N\n",
    "                \n",
    "            obs = next_obs\n",
    "        \n",
    "        if ep_idx % frame_step == 0:\n",
    "            ep_name = str(ep_idx) if ep_idx > 0 else '1'\n",
    "            fig = draw_value_function(f'Value function on step: {ep_name}', value_grid)\n",
    "\n",
    "            image_path = temp_dir / f'{ep_name}.png'\n",
    "            fig.write_image(image_path)\n",
    "            image_paths.append(imageio.imread(image_path))\n",
    "            \n",
    "    imageio.mimsave('blackjack_default_value_function.mp4', image_paths, fps=20)\n",
    "\n",
    "estimate_value_function()"
   ]
  },
  {
   "cell_type": "code",
   "execution_count": 8,
   "metadata": {},
   "outputs": [
    {
     "name": "stderr",
     "output_type": "stream",
     "text": [
      "  0%|          | 0/10100000 [00:00<?, ?it/s]C:\\Users\\Alex\\AppData\\Roaming\\Python\\Python37\\site-packages\\ipykernel_launcher.py:105: DeprecationWarning:\n",
      "\n",
      "Starting with ImageIO v3 the behavior of this function will switch to that of iio.v3.imread. To keep the current behavior (and make this warning disappear) use `import imageio.v2 as imageio` or call `imageio.v2.imread` directly.\n",
      "\n",
      "100%|██████████| 10100000/10100000 [25:33<00:00, 6587.31it/s] \n",
      "IMAGEIO FFMPEG_WRITER WARNING: input image is not divisible by macro_block_size=16, resizing from (1000, 500) to (1008, 512) to ensure video compatibility with most codecs and players. To prevent resizing, make your input image divisible by the macro_block_size or set the macro_block_size to 1 (risking incompatibility).\n"
     ]
    },
    {
     "data": {
      "application/vnd.plotly.v1+json": {
       "config": {
        "plotlyServerURL": "https://plot.ly"
       },
       "data": [
        {
         "hovertemplate": "x=%{x}<br>y=%{y}<extra></extra>",
         "legendgroup": "",
         "line": {
          "color": "#636efa",
          "dash": "solid"
         },
         "marker": {
          "symbol": "circle"
         },
         "mode": "lines",
         "name": "",
         "showlegend": false,
         "type": "scattergl",
         "x": [
          0,
          1,
          2,
          3,
          4,
          5,
          6,
          7,
          8,
          9,
          10,
          11,
          12,
          13,
          14,
          15,
          16,
          17,
          18,
          19,
          20,
          21,
          22,
          23,
          24,
          25,
          26,
          27,
          28,
          29,
          30,
          31,
          32,
          33,
          34,
          35,
          36,
          37,
          38,
          39,
          40,
          41,
          42,
          43,
          44,
          45,
          46,
          47,
          48,
          49,
          50,
          51,
          52,
          53,
          54,
          55,
          56,
          57,
          58,
          59,
          60,
          61,
          62,
          63,
          64,
          65,
          66,
          67,
          68,
          69,
          70,
          71,
          72,
          73,
          74,
          75,
          76,
          77,
          78,
          79,
          80,
          81,
          82,
          83,
          84,
          85,
          86,
          87,
          88,
          89,
          90,
          91,
          92,
          93,
          94,
          95,
          96,
          97,
          98,
          99,
          100,
          101,
          102,
          103,
          104,
          105,
          106,
          107,
          108,
          109,
          110,
          111,
          112,
          113,
          114,
          115,
          116,
          117,
          118,
          119,
          120,
          121,
          122,
          123,
          124,
          125,
          126,
          127,
          128,
          129,
          130,
          131,
          132,
          133,
          134,
          135,
          136,
          137,
          138,
          139,
          140,
          141,
          142,
          143,
          144,
          145,
          146,
          147,
          148,
          149,
          150,
          151,
          152,
          153,
          154,
          155,
          156,
          157,
          158,
          159,
          160,
          161,
          162,
          163,
          164,
          165,
          166,
          167,
          168,
          169,
          170,
          171,
          172,
          173,
          174,
          175,
          176,
          177,
          178,
          179,
          180,
          181,
          182,
          183,
          184,
          185,
          186,
          187,
          188,
          189,
          190,
          191,
          192,
          193,
          194,
          195,
          196,
          197,
          198,
          199,
          200,
          201,
          202,
          203,
          204,
          205,
          206,
          207,
          208,
          209,
          210,
          211,
          212,
          213,
          214,
          215,
          216,
          217,
          218,
          219,
          220,
          221,
          222,
          223,
          224,
          225,
          226,
          227,
          228,
          229,
          230,
          231,
          232,
          233,
          234,
          235,
          236,
          237,
          238,
          239,
          240,
          241,
          242,
          243,
          244,
          245,
          246,
          247,
          248,
          249,
          250,
          251,
          252,
          253,
          254,
          255,
          256,
          257,
          258,
          259,
          260,
          261,
          262,
          263,
          264,
          265,
          266,
          267,
          268,
          269,
          270,
          271,
          272,
          273,
          274,
          275,
          276,
          277,
          278,
          279,
          280,
          281,
          282,
          283,
          284,
          285,
          286,
          287,
          288,
          289,
          290,
          291,
          292,
          293,
          294,
          295,
          296,
          297,
          298,
          299,
          300,
          301,
          302,
          303,
          304,
          305,
          306,
          307,
          308,
          309,
          310,
          311,
          312,
          313,
          314,
          315,
          316,
          317,
          318,
          319,
          320,
          321,
          322,
          323,
          324,
          325,
          326,
          327,
          328,
          329,
          330,
          331,
          332,
          333,
          334,
          335,
          336,
          337,
          338,
          339,
          340,
          341,
          342,
          343,
          344,
          345,
          346,
          347,
          348,
          349,
          350,
          351,
          352,
          353,
          354,
          355,
          356,
          357,
          358,
          359,
          360,
          361,
          362,
          363,
          364,
          365,
          366,
          367,
          368,
          369,
          370,
          371,
          372,
          373,
          374,
          375,
          376,
          377,
          378,
          379,
          380,
          381,
          382,
          383,
          384,
          385,
          386,
          387,
          388,
          389,
          390,
          391,
          392,
          393,
          394,
          395,
          396,
          397,
          398,
          399,
          400,
          401,
          402,
          403,
          404,
          405,
          406,
          407,
          408,
          409,
          410,
          411,
          412,
          413,
          414,
          415,
          416,
          417,
          418,
          419,
          420,
          421,
          422,
          423,
          424,
          425,
          426,
          427,
          428,
          429,
          430,
          431,
          432,
          433,
          434,
          435,
          436,
          437,
          438,
          439,
          440,
          441,
          442,
          443,
          444,
          445,
          446,
          447,
          448,
          449,
          450,
          451,
          452,
          453,
          454,
          455,
          456,
          457,
          458,
          459,
          460,
          461,
          462,
          463,
          464,
          465,
          466,
          467,
          468,
          469,
          470,
          471,
          472,
          473,
          474,
          475,
          476,
          477,
          478,
          479,
          480,
          481,
          482,
          483,
          484,
          485,
          486,
          487,
          488,
          489,
          490,
          491,
          492,
          493,
          494,
          495,
          496,
          497,
          498,
          499,
          500,
          501,
          502,
          503,
          504,
          505,
          506,
          507,
          508,
          509,
          510,
          511,
          512,
          513,
          514,
          515,
          516,
          517,
          518,
          519,
          520,
          521,
          522,
          523,
          524,
          525,
          526,
          527,
          528,
          529,
          530,
          531,
          532,
          533,
          534,
          535,
          536,
          537,
          538,
          539,
          540,
          541,
          542,
          543,
          544,
          545,
          546,
          547,
          548,
          549,
          550,
          551,
          552,
          553,
          554,
          555,
          556,
          557,
          558,
          559,
          560,
          561,
          562,
          563,
          564,
          565,
          566,
          567,
          568,
          569,
          570,
          571,
          572,
          573,
          574,
          575,
          576,
          577,
          578,
          579,
          580,
          581,
          582,
          583,
          584,
          585,
          586,
          587,
          588,
          589,
          590,
          591,
          592,
          593,
          594,
          595,
          596,
          597,
          598,
          599,
          600,
          601,
          602,
          603,
          604,
          605,
          606,
          607,
          608,
          609,
          610,
          611,
          612,
          613,
          614,
          615,
          616,
          617,
          618,
          619,
          620,
          621,
          622,
          623,
          624,
          625,
          626,
          627,
          628,
          629,
          630,
          631,
          632,
          633,
          634,
          635,
          636,
          637,
          638,
          639,
          640,
          641,
          642,
          643,
          644,
          645,
          646,
          647,
          648,
          649,
          650,
          651,
          652,
          653,
          654,
          655,
          656,
          657,
          658,
          659,
          660,
          661,
          662,
          663,
          664,
          665,
          666,
          667,
          668,
          669,
          670,
          671,
          672,
          673,
          674,
          675,
          676,
          677,
          678,
          679,
          680,
          681,
          682,
          683,
          684,
          685,
          686,
          687,
          688,
          689,
          690,
          691,
          692,
          693,
          694,
          695,
          696,
          697,
          698,
          699,
          700,
          701,
          702,
          703,
          704,
          705,
          706,
          707,
          708,
          709,
          710,
          711,
          712,
          713,
          714,
          715,
          716,
          717,
          718,
          719,
          720,
          721,
          722,
          723,
          724,
          725,
          726,
          727,
          728,
          729,
          730,
          731,
          732,
          733,
          734,
          735,
          736,
          737,
          738,
          739,
          740,
          741,
          742,
          743,
          744,
          745,
          746,
          747,
          748,
          749,
          750,
          751,
          752,
          753,
          754,
          755,
          756,
          757,
          758,
          759,
          760,
          761,
          762,
          763,
          764,
          765,
          766,
          767,
          768,
          769,
          770,
          771,
          772,
          773,
          774,
          775,
          776,
          777,
          778,
          779,
          780,
          781,
          782,
          783,
          784,
          785,
          786,
          787,
          788,
          789,
          790,
          791,
          792,
          793,
          794,
          795,
          796,
          797,
          798,
          799,
          800,
          801,
          802,
          803,
          804,
          805,
          806,
          807,
          808,
          809,
          810,
          811,
          812,
          813,
          814,
          815,
          816,
          817,
          818,
          819,
          820,
          821,
          822,
          823,
          824,
          825,
          826,
          827,
          828,
          829,
          830,
          831,
          832,
          833,
          834,
          835,
          836,
          837,
          838,
          839,
          840,
          841,
          842,
          843,
          844,
          845,
          846,
          847,
          848,
          849,
          850,
          851,
          852,
          853,
          854,
          855,
          856,
          857,
          858,
          859,
          860,
          861,
          862,
          863,
          864,
          865,
          866,
          867,
          868,
          869,
          870,
          871,
          872,
          873,
          874,
          875,
          876,
          877,
          878,
          879,
          880,
          881,
          882,
          883,
          884,
          885,
          886,
          887,
          888,
          889,
          890,
          891,
          892,
          893,
          894,
          895,
          896,
          897,
          898,
          899,
          900,
          901,
          902,
          903,
          904,
          905,
          906,
          907,
          908,
          909,
          910,
          911,
          912,
          913,
          914,
          915,
          916,
          917,
          918,
          919,
          920,
          921,
          922,
          923,
          924,
          925,
          926,
          927,
          928,
          929,
          930,
          931,
          932,
          933,
          934,
          935,
          936,
          937,
          938,
          939,
          940,
          941,
          942,
          943,
          944,
          945,
          946,
          947,
          948,
          949,
          950,
          951,
          952,
          953,
          954,
          955,
          956,
          957,
          958,
          959,
          960,
          961,
          962,
          963,
          964,
          965,
          966,
          967,
          968,
          969,
          970,
          971,
          972,
          973,
          974,
          975,
          976,
          977,
          978,
          979,
          980,
          981,
          982,
          983,
          984,
          985,
          986,
          987,
          988,
          989,
          990,
          991,
          992,
          993,
          994,
          995,
          996,
          997,
          998,
          999,
          1000,
          1001,
          1002,
          1003,
          1004,
          1005,
          1006,
          1007,
          1008,
          1009,
          1010
         ],
         "xaxis": "x",
         "y": [
          -1,
          -1,
          -0.385,
          -0.362,
          -0.38,
          -0.363,
          -0.382,
          -0.395,
          -0.344,
          -0.362,
          -0.364,
          -0.356,
          -0.344,
          -0.348,
          -0.298,
          -0.352,
          -0.346,
          -0.286,
          -0.3,
          -0.329,
          -0.259,
          -0.28,
          -0.318,
          -0.296,
          -0.28,
          -0.263,
          -0.243,
          -0.277,
          -0.245,
          -0.264,
          -0.239,
          -0.254,
          -0.264,
          -0.265,
          -0.259,
          -0.227,
          -0.231,
          -0.282,
          -0.21,
          -0.213,
          -0.266,
          -0.258,
          -0.21,
          -0.189,
          -0.186,
          -0.2,
          -0.213,
          -0.229,
          -0.212,
          -0.231,
          -0.268,
          -0.208,
          -0.2,
          -0.168,
          -0.217,
          -0.22,
          -0.215,
          -0.189,
          -0.194,
          -0.135,
          -0.17,
          -0.206,
          -0.194,
          -0.187,
          -0.138,
          -0.232,
          -0.173,
          -0.148,
          -0.196,
          -0.202,
          -0.174,
          -0.203,
          -0.145,
          -0.13,
          -0.156,
          -0.137,
          -0.177,
          -0.178,
          -0.191,
          -0.191,
          -0.26,
          -0.131,
          -0.151,
          -0.168,
          -0.169,
          -0.115,
          -0.132,
          -0.151,
          -0.156,
          -0.207,
          -0.17,
          -0.155,
          -0.18,
          -0.17,
          -0.21,
          -0.144,
          -0.096,
          -0.115,
          -0.164,
          -0.152,
          -0.104,
          -0.177,
          -0.127,
          -0.129,
          -0.131,
          -0.149,
          -0.133,
          -0.136,
          -0.133,
          -0.122,
          -0.072,
          -0.115,
          -0.101,
          -0.113,
          -0.056,
          -0.05,
          -0.103,
          -0.069,
          -0.103,
          -0.082,
          -0.116,
          -0.062,
          -0.128,
          -0.101,
          -0.075,
          -0.152,
          -0.141,
          -0.121,
          -0.133,
          -0.095,
          -0.115,
          -0.135,
          -0.118,
          -0.129,
          -0.066,
          -0.12,
          -0.109,
          -0.11,
          -0.09,
          -0.109,
          -0.083,
          -0.093,
          -0.131,
          -0.072,
          -0.124,
          -0.077,
          -0.104,
          -0.052,
          -0.11,
          -0.018,
          -0.111,
          -0.064,
          -0.105,
          -0.125,
          -0.08,
          -0.121,
          -0.095,
          -0.083,
          -0.109,
          -0.087,
          -0.091,
          -0.086,
          -0.142,
          -0.068,
          -0.05,
          -0.068,
          -0.034,
          -0.103,
          -0.053,
          -0.113,
          -0.133,
          -0.071,
          -0.064,
          -0.004,
          -0.046,
          -0.076,
          -0.118,
          -0.051,
          -0.03,
          -0.086,
          -0.086,
          -0.051,
          -0.077,
          -0.028,
          -0.13,
          -0.024,
          -0.083,
          -0.102,
          -0.084,
          -0.054,
          -0.04,
          -0.104,
          -0.076,
          -0.103,
          -0.079,
          -0.087,
          -0.097,
          -0.067,
          -0.05,
          -0.084,
          -0.04,
          -0.049,
          -0.09,
          -0.064,
          -0.075,
          -0.05,
          -0.11,
          -0.049,
          -0.085,
          -0.098,
          -0.026,
          -0.053,
          -0.054,
          -0.031,
          -0.039,
          -0.041,
          -0.04,
          -0.036,
          -0.107,
          -0.03,
          -0.061,
          -0.089,
          -0.08,
          -0.094,
          -0.043,
          -0.089,
          -0.097,
          -0.113,
          -0.068,
          -0.108,
          -0.035,
          -0.048,
          -0.067,
          -0.085,
          -0.078,
          0.029,
          -0.071,
          -0.036,
          -0.024,
          -0.073,
          -0.012,
          -0.038,
          -0.091,
          -0.025,
          -0.092,
          -0.07,
          -0.044,
          -0.012,
          -0.052,
          -0.043,
          -0.074,
          -0.016,
          -0.029,
          -0.05,
          0.012,
          -0.033,
          -0.083,
          0.023,
          -0.036,
          -0.109,
          -0.043,
          -0.048,
          0.012,
          -0.051,
          -0.061,
          -0.039,
          0.006,
          -0.038,
          -0.02,
          -0.059,
          -0.012,
          0.003,
          -0.074,
          -0.077,
          -0.065,
          -0.038,
          0.005,
          -0.01,
          -0.066,
          -0.054,
          0.009,
          -0.124,
          -0.13,
          -0.089,
          -0.073,
          -0.043,
          -0.056,
          -0.011,
          -0.047,
          -0.104,
          -0.04,
          -0.004,
          -0.072,
          -0.056,
          -0.052,
          -0.019,
          -0.042,
          -0.068,
          -0.074,
          -0.088,
          -0.032,
          -0.052,
          -0.005,
          -0.096,
          -0.044,
          -0.065,
          -0.055,
          -0.021,
          -0.068,
          -0.071,
          -0.049,
          -0.056,
          -0.09,
          -0.051,
          -0.067,
          -0.02,
          0.011,
          -0.051,
          -0.069,
          -0.036,
          -0.074,
          -0.034,
          -0.086,
          -0.036,
          -0.06,
          -0.019,
          -0.066,
          -0.044,
          -0.085,
          -0.048,
          -0.068,
          -0.05,
          -0.091,
          -0.05,
          -0.049,
          -0.056,
          -0.037,
          -0.063,
          -0.126,
          -0.077,
          -0.144,
          -0.017,
          -0.062,
          -0.065,
          -0.079,
          -0.068,
          -0.084,
          -0.063,
          -0.047,
          -0.004,
          -0.078,
          -0.031,
          -0.048,
          -0.036,
          0.012,
          -0.043,
          -0.032,
          -0.041,
          0.03,
          -0.003,
          -0.032,
          -0.009,
          -0.026,
          -0.052,
          -0.036,
          -0.045,
          -0.058,
          -0.045,
          -0.016,
          -0.01,
          -0.05,
          -0.008,
          -0.048,
          -0.057,
          -0.066,
          -0.062,
          -0.088,
          0.01,
          -0.048,
          -0.02,
          -0.094,
          -0.073,
          -0.058,
          -0.061,
          -0.038,
          -0.044,
          -0.043,
          0.01,
          -0.054,
          -0.033,
          -0.043,
          -0.01,
          -0.027,
          -0.049,
          -0.056,
          -0.081,
          -0.057,
          -0.096,
          -0.021,
          -0.062,
          -0.057,
          -0.045,
          -0.002,
          -0.062,
          -0.026,
          -0.019,
          -0.021,
          -0.052,
          -0.025,
          -0.1,
          -0.043,
          -0.017,
          -0.043,
          -0.067,
          -0.065,
          -0.055,
          -0.055,
          -0.058,
          -0.094,
          -0.048,
          -0.02,
          -0.021,
          -0.031,
          -0.004,
          -0.074,
          -0.002,
          -0.082,
          -0.075,
          -0.031,
          -0.064,
          -0.06,
          -0.058,
          -0.027,
          -0.074,
          -0.012,
          -0.083,
          -0.051,
          -0.023,
          -0.014,
          -0.041,
          -0.039,
          -0.053,
          -0.043,
          -0.078,
          -0.128,
          -0.024,
          -0.024,
          -0.033,
          0.038,
          -0.017,
          0.002,
          -0.071,
          0.008,
          -0.042,
          -0.068,
          -0.048,
          -0.029,
          -0.067,
          -0.031,
          -0.059,
          -0.043,
          -0.095,
          -0.031,
          -0.01,
          -0.099,
          -0.031,
          -0.051,
          -0.088,
          -0.031,
          -0.042,
          -0.05,
          -0.097,
          -0.06,
          -0.039,
          -0.073,
          -0.039,
          -0.086,
          -0.023,
          -0.074,
          -0.027,
          -0.032,
          -0.046,
          -0.062,
          -0.022,
          -0.042,
          -0.011,
          -0.085,
          -0.064,
          -0.064,
          -0.078,
          -0.002,
          -0.042,
          -0.059,
          -0.029,
          -0.051,
          0.011,
          -0.069,
          -0.038,
          -0.004,
          -0.041,
          -0.004,
          -0.058,
          -0.026,
          -0.058,
          -0.07,
          -0.081,
          -0.055,
          -0.096,
          -0.015,
          0.006,
          -0.038,
          -0.002,
          -0.108,
          -0.01,
          -0.053,
          -0.062,
          -0.095,
          -0.005,
          -0.051,
          -0.045,
          -0.031,
          -0.045,
          -0.047,
          -0.035,
          -0.056,
          -0.053,
          -0.023,
          -0.076,
          -0.017,
          -0.01,
          -0.056,
          -0.056,
          -0.041,
          -0.025,
          -0.077,
          -0.059,
          -0.003,
          -0.061,
          -0.042,
          -0.085,
          0,
          -0.053,
          -0.09,
          -0.059,
          -0.062,
          -0.077,
          -0.058,
          -0.02,
          -0.024,
          -0.063,
          -0.052,
          -0.053,
          -0.041,
          -0.088,
          0.015,
          -0.041,
          -0.066,
          -0.043,
          -0.048,
          -0.036,
          -0.034,
          -0.036,
          -0.065,
          -0.031,
          -0.006,
          -0.053,
          -0.082,
          -0.016,
          -0.03,
          -0.069,
          -0.037,
          -0.062,
          -0.02,
          -0.052,
          -0.018,
          -0.03,
          -0.034,
          -0.03,
          -0.022,
          -0.016,
          -0.018,
          -0.07,
          -0.03,
          -0.026,
          -0.061,
          -0.077,
          -0.018,
          -0.015,
          -0.01,
          -0.033,
          -0.09,
          -0.036,
          -0.017,
          -0.038,
          -0.041,
          -0.094,
          -0.055,
          -0.063,
          -0.036,
          -0.031,
          -0.022,
          -0.042,
          0.014,
          0,
          -0.055,
          -0.031,
          -0.033,
          -0.044,
          -0.007,
          -0.111,
          -0.054,
          -0.026,
          -0.074,
          -0.074,
          -0.016,
          -0.092,
          -0.091,
          -0.003,
          0.002,
          -0.063,
          -0.027,
          -0.067,
          -0.024,
          -0.015,
          0.006,
          -0.017,
          -0.098,
          -0.05,
          -0.125,
          -0.056,
          -0.039,
          -0.05,
          -0.011,
          -0.032,
          -0.015,
          -0.061,
          -0.012,
          -0.047,
          -0.037,
          -0.056,
          -0.076,
          -0.002,
          -0.043,
          -0.075,
          -0.042,
          -0.103,
          -0.045,
          -0.031,
          -0.046,
          -0.023,
          -0.094,
          -0.075,
          -0.031,
          -0.043,
          -0.082,
          0.019,
          -0.056,
          0.007,
          -0.013,
          -0.079,
          -0.04,
          -0.071,
          -0.113,
          -0.058,
          -0.06,
          -0.08,
          -0.016,
          -0.038,
          0.003,
          -0.055,
          -0.019,
          -0.04,
          -0.073,
          -0.021,
          -0.038,
          -0.02,
          -0.152,
          -0.07,
          -0.054,
          -0.04,
          -0.035,
          -0.069,
          -0.066,
          -0.103,
          -0.004,
          -0.053,
          -0.033,
          0.001,
          -0.028,
          -0.032,
          -0.014,
          -0.033,
          -0.002,
          -0.085,
          -0.052,
          0.007,
          -0.06,
          -0.057,
          -0.031,
          -0.009,
          -0.009,
          -0.083,
          -0.013,
          -0.09,
          -0.035,
          -0.03,
          0.003,
          -0.028,
          -0.048,
          0.005,
          -0.004,
          -0.057,
          -0.049,
          -0.023,
          -0.03,
          -0.025,
          -0.017,
          -0.113,
          -0.004,
          -0.048,
          -0.07,
          0.002,
          -0.044,
          -0.009,
          -0.028,
          -0.017,
          -0.014,
          -0.061,
          -0.065,
          -0.042,
          -0.071,
          -0.041,
          -0.064,
          -0.043,
          -0.037,
          -0.023,
          -0.095,
          0.013,
          -0.052,
          -0.043,
          -0.042,
          -0.046,
          -0.006,
          0.02,
          -0.048,
          -0.08,
          -0.087,
          0.007,
          -0.04,
          -0.072,
          -0.075,
          -0.023,
          -0.094,
          -0.075,
          -0.03,
          -0.075,
          0.005,
          -0.042,
          -0.073,
          -0.061,
          -0.002,
          -0.028,
          -0.047,
          -0.027,
          -0.07,
          -0.063,
          -0.066,
          -0.076,
          -0.036,
          -0.033,
          -0.05,
          -0.039,
          -0.023,
          -0.036,
          -0.058,
          -0.055,
          -0.042,
          -0.04,
          -0.039,
          -0.108,
          -0.011,
          -0.061,
          -0.011,
          -0.045,
          -0.038,
          -0.011,
          -0.043,
          0.004,
          -0.01,
          -0.094,
          -0.002,
          -0.023,
          -0.08,
          -0.039,
          -0.049,
          -0.029,
          -0.011,
          -0.059,
          -0.104,
          -0.02,
          -0.046,
          -0.029,
          -0.031,
          -0.012,
          -0.056,
          -0.039,
          -0.034,
          -0.058,
          -0.076,
          -0.055,
          -0.036,
          -0.086,
          -0.036,
          -0.088,
          -0.011,
          -0.061,
          -0.038,
          -0.05,
          -0.041,
          -0.069,
          -0.039,
          -0.043,
          -0.027,
          -0.056,
          -0.069,
          -0.094,
          -0.094,
          -0.088,
          -0.045,
          -0.082,
          -0.041,
          -0.023,
          -0.035,
          -0.05,
          -0.05,
          -0.017,
          -0.053,
          -0.029,
          -0.037,
          -0.063,
          -0.056,
          -0.076,
          -0.044,
          -0.026,
          -0.058,
          -0.077,
          -0.002,
          -0.064,
          -0.018,
          -0.066,
          -0.086,
          -0.043,
          -0.09,
          -0.057,
          -0.055,
          -0.029,
          -0.04,
          -0.053,
          -0.047,
          0.011,
          -0.045,
          -0.074,
          -0.022,
          0.008,
          -0.07,
          -0.024,
          -0.066,
          -0.01,
          0.023,
          -0.066,
          -0.072,
          -0.027,
          -0.008,
          -0.009,
          -0.046,
          -0.012,
          -0.089,
          -0.029,
          -0.036,
          -0.057,
          -0.101,
          0.015,
          -0.035,
          -0.01,
          -0.074,
          -0.06,
          -0.087,
          -0.082,
          -0.03,
          -0.01,
          -0.062,
          -0.03,
          -0.023,
          -0.057,
          -0.044,
          0.006,
          -0.011,
          -0.053,
          0.013,
          -0.003,
          -0.05,
          -0.042,
          -0.013,
          -0.01,
          -0.034,
          -0.049,
          -0.004,
          -0.034,
          -0.016,
          -0.074,
          -0.033,
          -0.032,
          -0.067,
          0.023,
          -0.094,
          -0.045,
          -0.072,
          -0.065,
          -0.049,
          -0.046,
          -0.018,
          -0.018,
          -0.041,
          -0.056,
          -0.059,
          -0.078,
          -0.058,
          -0.098,
          -0.083,
          -0.094,
          -0.032,
          0.006,
          -0.05,
          -0.089,
          -0.02,
          -0.012,
          -0.092,
          -0.042,
          -0.013,
          -0.022,
          -0.063,
          -0.113,
          -0.033,
          -0.069,
          -0.035,
          -0.003,
          -0.038,
          -0.02,
          -0.075,
          0.001,
          -0.046,
          -0.047,
          -0.057,
          -0.03,
          -0.023,
          -0.009,
          -0.086,
          -0.035,
          0.001,
          -0.01,
          -0.028,
          -0.001,
          -0.054,
          -0.021,
          -0.053,
          -0.026,
          -0.06,
          -0.007,
          -0.081,
          -0.105,
          -0.052,
          -0.021,
          -0.041,
          -0.055,
          -0.005,
          -0.027,
          -0.049,
          -0.07,
          -0.05,
          0.016,
          -0.056,
          -0.03,
          -0.019,
          -0.023,
          -0.048,
          0,
          -0.05,
          -0.028,
          0,
          -0.011,
          -0.062,
          0.002,
          -0.056,
          -0.041,
          -0.072,
          0.014,
          -0.076,
          -0.002,
          -0.066,
          -0.004,
          -0.031,
          -0.045,
          -0.071,
          -0.017,
          -0.037,
          -0.081,
          -0.051,
          -0.008,
          -0.04,
          -0.038,
          -0.031
         ],
         "yaxis": "y"
        }
       ],
       "layout": {
        "legend": {
         "tracegroupgap": 0
        },
        "template": {
         "data": {
          "bar": [
           {
            "error_x": {
             "color": "#2a3f5f"
            },
            "error_y": {
             "color": "#2a3f5f"
            },
            "marker": {
             "line": {
              "color": "#E5ECF6",
              "width": 0.5
             },
             "pattern": {
              "fillmode": "overlay",
              "size": 10,
              "solidity": 0.2
             }
            },
            "type": "bar"
           }
          ],
          "barpolar": [
           {
            "marker": {
             "line": {
              "color": "#E5ECF6",
              "width": 0.5
             },
             "pattern": {
              "fillmode": "overlay",
              "size": 10,
              "solidity": 0.2
             }
            },
            "type": "barpolar"
           }
          ],
          "carpet": [
           {
            "aaxis": {
             "endlinecolor": "#2a3f5f",
             "gridcolor": "white",
             "linecolor": "white",
             "minorgridcolor": "white",
             "startlinecolor": "#2a3f5f"
            },
            "baxis": {
             "endlinecolor": "#2a3f5f",
             "gridcolor": "white",
             "linecolor": "white",
             "minorgridcolor": "white",
             "startlinecolor": "#2a3f5f"
            },
            "type": "carpet"
           }
          ],
          "choropleth": [
           {
            "colorbar": {
             "outlinewidth": 0,
             "ticks": ""
            },
            "type": "choropleth"
           }
          ],
          "contour": [
           {
            "colorbar": {
             "outlinewidth": 0,
             "ticks": ""
            },
            "colorscale": [
             [
              0,
              "#0d0887"
             ],
             [
              0.1111111111111111,
              "#46039f"
             ],
             [
              0.2222222222222222,
              "#7201a8"
             ],
             [
              0.3333333333333333,
              "#9c179e"
             ],
             [
              0.4444444444444444,
              "#bd3786"
             ],
             [
              0.5555555555555556,
              "#d8576b"
             ],
             [
              0.6666666666666666,
              "#ed7953"
             ],
             [
              0.7777777777777778,
              "#fb9f3a"
             ],
             [
              0.8888888888888888,
              "#fdca26"
             ],
             [
              1,
              "#f0f921"
             ]
            ],
            "type": "contour"
           }
          ],
          "contourcarpet": [
           {
            "colorbar": {
             "outlinewidth": 0,
             "ticks": ""
            },
            "type": "contourcarpet"
           }
          ],
          "heatmap": [
           {
            "colorbar": {
             "outlinewidth": 0,
             "ticks": ""
            },
            "colorscale": [
             [
              0,
              "#0d0887"
             ],
             [
              0.1111111111111111,
              "#46039f"
             ],
             [
              0.2222222222222222,
              "#7201a8"
             ],
             [
              0.3333333333333333,
              "#9c179e"
             ],
             [
              0.4444444444444444,
              "#bd3786"
             ],
             [
              0.5555555555555556,
              "#d8576b"
             ],
             [
              0.6666666666666666,
              "#ed7953"
             ],
             [
              0.7777777777777778,
              "#fb9f3a"
             ],
             [
              0.8888888888888888,
              "#fdca26"
             ],
             [
              1,
              "#f0f921"
             ]
            ],
            "type": "heatmap"
           }
          ],
          "heatmapgl": [
           {
            "colorbar": {
             "outlinewidth": 0,
             "ticks": ""
            },
            "colorscale": [
             [
              0,
              "#0d0887"
             ],
             [
              0.1111111111111111,
              "#46039f"
             ],
             [
              0.2222222222222222,
              "#7201a8"
             ],
             [
              0.3333333333333333,
              "#9c179e"
             ],
             [
              0.4444444444444444,
              "#bd3786"
             ],
             [
              0.5555555555555556,
              "#d8576b"
             ],
             [
              0.6666666666666666,
              "#ed7953"
             ],
             [
              0.7777777777777778,
              "#fb9f3a"
             ],
             [
              0.8888888888888888,
              "#fdca26"
             ],
             [
              1,
              "#f0f921"
             ]
            ],
            "type": "heatmapgl"
           }
          ],
          "histogram": [
           {
            "marker": {
             "pattern": {
              "fillmode": "overlay",
              "size": 10,
              "solidity": 0.2
             }
            },
            "type": "histogram"
           }
          ],
          "histogram2d": [
           {
            "colorbar": {
             "outlinewidth": 0,
             "ticks": ""
            },
            "colorscale": [
             [
              0,
              "#0d0887"
             ],
             [
              0.1111111111111111,
              "#46039f"
             ],
             [
              0.2222222222222222,
              "#7201a8"
             ],
             [
              0.3333333333333333,
              "#9c179e"
             ],
             [
              0.4444444444444444,
              "#bd3786"
             ],
             [
              0.5555555555555556,
              "#d8576b"
             ],
             [
              0.6666666666666666,
              "#ed7953"
             ],
             [
              0.7777777777777778,
              "#fb9f3a"
             ],
             [
              0.8888888888888888,
              "#fdca26"
             ],
             [
              1,
              "#f0f921"
             ]
            ],
            "type": "histogram2d"
           }
          ],
          "histogram2dcontour": [
           {
            "colorbar": {
             "outlinewidth": 0,
             "ticks": ""
            },
            "colorscale": [
             [
              0,
              "#0d0887"
             ],
             [
              0.1111111111111111,
              "#46039f"
             ],
             [
              0.2222222222222222,
              "#7201a8"
             ],
             [
              0.3333333333333333,
              "#9c179e"
             ],
             [
              0.4444444444444444,
              "#bd3786"
             ],
             [
              0.5555555555555556,
              "#d8576b"
             ],
             [
              0.6666666666666666,
              "#ed7953"
             ],
             [
              0.7777777777777778,
              "#fb9f3a"
             ],
             [
              0.8888888888888888,
              "#fdca26"
             ],
             [
              1,
              "#f0f921"
             ]
            ],
            "type": "histogram2dcontour"
           }
          ],
          "mesh3d": [
           {
            "colorbar": {
             "outlinewidth": 0,
             "ticks": ""
            },
            "type": "mesh3d"
           }
          ],
          "parcoords": [
           {
            "line": {
             "colorbar": {
              "outlinewidth": 0,
              "ticks": ""
             }
            },
            "type": "parcoords"
           }
          ],
          "pie": [
           {
            "automargin": true,
            "type": "pie"
           }
          ],
          "scatter": [
           {
            "fillpattern": {
             "fillmode": "overlay",
             "size": 10,
             "solidity": 0.2
            },
            "type": "scatter"
           }
          ],
          "scatter3d": [
           {
            "line": {
             "colorbar": {
              "outlinewidth": 0,
              "ticks": ""
             }
            },
            "marker": {
             "colorbar": {
              "outlinewidth": 0,
              "ticks": ""
             }
            },
            "type": "scatter3d"
           }
          ],
          "scattercarpet": [
           {
            "marker": {
             "colorbar": {
              "outlinewidth": 0,
              "ticks": ""
             }
            },
            "type": "scattercarpet"
           }
          ],
          "scattergeo": [
           {
            "marker": {
             "colorbar": {
              "outlinewidth": 0,
              "ticks": ""
             }
            },
            "type": "scattergeo"
           }
          ],
          "scattergl": [
           {
            "marker": {
             "colorbar": {
              "outlinewidth": 0,
              "ticks": ""
             }
            },
            "type": "scattergl"
           }
          ],
          "scattermapbox": [
           {
            "marker": {
             "colorbar": {
              "outlinewidth": 0,
              "ticks": ""
             }
            },
            "type": "scattermapbox"
           }
          ],
          "scatterpolar": [
           {
            "marker": {
             "colorbar": {
              "outlinewidth": 0,
              "ticks": ""
             }
            },
            "type": "scatterpolar"
           }
          ],
          "scatterpolargl": [
           {
            "marker": {
             "colorbar": {
              "outlinewidth": 0,
              "ticks": ""
             }
            },
            "type": "scatterpolargl"
           }
          ],
          "scatterternary": [
           {
            "marker": {
             "colorbar": {
              "outlinewidth": 0,
              "ticks": ""
             }
            },
            "type": "scatterternary"
           }
          ],
          "surface": [
           {
            "colorbar": {
             "outlinewidth": 0,
             "ticks": ""
            },
            "colorscale": [
             [
              0,
              "#0d0887"
             ],
             [
              0.1111111111111111,
              "#46039f"
             ],
             [
              0.2222222222222222,
              "#7201a8"
             ],
             [
              0.3333333333333333,
              "#9c179e"
             ],
             [
              0.4444444444444444,
              "#bd3786"
             ],
             [
              0.5555555555555556,
              "#d8576b"
             ],
             [
              0.6666666666666666,
              "#ed7953"
             ],
             [
              0.7777777777777778,
              "#fb9f3a"
             ],
             [
              0.8888888888888888,
              "#fdca26"
             ],
             [
              1,
              "#f0f921"
             ]
            ],
            "type": "surface"
           }
          ],
          "table": [
           {
            "cells": {
             "fill": {
              "color": "#EBF0F8"
             },
             "line": {
              "color": "white"
             }
            },
            "header": {
             "fill": {
              "color": "#C8D4E3"
             },
             "line": {
              "color": "white"
             }
            },
            "type": "table"
           }
          ]
         },
         "layout": {
          "annotationdefaults": {
           "arrowcolor": "#2a3f5f",
           "arrowhead": 0,
           "arrowwidth": 1
          },
          "autotypenumbers": "strict",
          "coloraxis": {
           "colorbar": {
            "outlinewidth": 0,
            "ticks": ""
           }
          },
          "colorscale": {
           "diverging": [
            [
             0,
             "#8e0152"
            ],
            [
             0.1,
             "#c51b7d"
            ],
            [
             0.2,
             "#de77ae"
            ],
            [
             0.3,
             "#f1b6da"
            ],
            [
             0.4,
             "#fde0ef"
            ],
            [
             0.5,
             "#f7f7f7"
            ],
            [
             0.6,
             "#e6f5d0"
            ],
            [
             0.7,
             "#b8e186"
            ],
            [
             0.8,
             "#7fbc41"
            ],
            [
             0.9,
             "#4d9221"
            ],
            [
             1,
             "#276419"
            ]
           ],
           "sequential": [
            [
             0,
             "#0d0887"
            ],
            [
             0.1111111111111111,
             "#46039f"
            ],
            [
             0.2222222222222222,
             "#7201a8"
            ],
            [
             0.3333333333333333,
             "#9c179e"
            ],
            [
             0.4444444444444444,
             "#bd3786"
            ],
            [
             0.5555555555555556,
             "#d8576b"
            ],
            [
             0.6666666666666666,
             "#ed7953"
            ],
            [
             0.7777777777777778,
             "#fb9f3a"
            ],
            [
             0.8888888888888888,
             "#fdca26"
            ],
            [
             1,
             "#f0f921"
            ]
           ],
           "sequentialminus": [
            [
             0,
             "#0d0887"
            ],
            [
             0.1111111111111111,
             "#46039f"
            ],
            [
             0.2222222222222222,
             "#7201a8"
            ],
            [
             0.3333333333333333,
             "#9c179e"
            ],
            [
             0.4444444444444444,
             "#bd3786"
            ],
            [
             0.5555555555555556,
             "#d8576b"
            ],
            [
             0.6666666666666666,
             "#ed7953"
            ],
            [
             0.7777777777777778,
             "#fb9f3a"
            ],
            [
             0.8888888888888888,
             "#fdca26"
            ],
            [
             1,
             "#f0f921"
            ]
           ]
          },
          "colorway": [
           "#636efa",
           "#EF553B",
           "#00cc96",
           "#ab63fa",
           "#FFA15A",
           "#19d3f3",
           "#FF6692",
           "#B6E880",
           "#FF97FF",
           "#FECB52"
          ],
          "font": {
           "color": "#2a3f5f"
          },
          "geo": {
           "bgcolor": "white",
           "lakecolor": "white",
           "landcolor": "#E5ECF6",
           "showlakes": true,
           "showland": true,
           "subunitcolor": "white"
          },
          "hoverlabel": {
           "align": "left"
          },
          "hovermode": "closest",
          "mapbox": {
           "style": "light"
          },
          "paper_bgcolor": "white",
          "plot_bgcolor": "#E5ECF6",
          "polar": {
           "angularaxis": {
            "gridcolor": "white",
            "linecolor": "white",
            "ticks": ""
           },
           "bgcolor": "#E5ECF6",
           "radialaxis": {
            "gridcolor": "white",
            "linecolor": "white",
            "ticks": ""
           }
          },
          "scene": {
           "xaxis": {
            "backgroundcolor": "#E5ECF6",
            "gridcolor": "white",
            "gridwidth": 2,
            "linecolor": "white",
            "showbackground": true,
            "ticks": "",
            "zerolinecolor": "white"
           },
           "yaxis": {
            "backgroundcolor": "#E5ECF6",
            "gridcolor": "white",
            "gridwidth": 2,
            "linecolor": "white",
            "showbackground": true,
            "ticks": "",
            "zerolinecolor": "white"
           },
           "zaxis": {
            "backgroundcolor": "#E5ECF6",
            "gridcolor": "white",
            "gridwidth": 2,
            "linecolor": "white",
            "showbackground": true,
            "ticks": "",
            "zerolinecolor": "white"
           }
          },
          "shapedefaults": {
           "line": {
            "color": "#2a3f5f"
           }
          },
          "ternary": {
           "aaxis": {
            "gridcolor": "white",
            "linecolor": "white",
            "ticks": ""
           },
           "baxis": {
            "gridcolor": "white",
            "linecolor": "white",
            "ticks": ""
           },
           "bgcolor": "#E5ECF6",
           "caxis": {
            "gridcolor": "white",
            "linecolor": "white",
            "ticks": ""
           }
          },
          "title": {
           "x": 0.05
          },
          "xaxis": {
           "automargin": true,
           "gridcolor": "white",
           "linecolor": "white",
           "ticks": "",
           "title": {
            "standoff": 15
           },
           "zerolinecolor": "white",
           "zerolinewidth": 2
          },
          "yaxis": {
           "automargin": true,
           "gridcolor": "white",
           "linecolor": "white",
           "ticks": "",
           "title": {
            "standoff": 15
           },
           "zerolinecolor": "white",
           "zerolinewidth": 2
          }
         }
        },
        "title": {
         "text": "Mean reward"
        },
        "xaxis": {
         "anchor": "y",
         "domain": [
          0,
          1
         ],
         "title": {
          "text": "x"
         }
        },
        "yaxis": {
         "anchor": "x",
         "domain": [
          0,
          1
         ],
         "title": {
          "text": "y"
         }
        }
       }
      }
     },
     "metadata": {},
     "output_type": "display_data"
    },
    {
     "data": {
      "application/vnd.plotly.v1+json": {
       "config": {
        "plotlyServerURL": "https://plot.ly"
       },
       "data": [
        {
         "hovertemplate": "x=%{x}<br>y=%{y}<extra></extra>",
         "legendgroup": "",
         "line": {
          "color": "#636efa",
          "dash": "solid"
         },
         "marker": {
          "symbol": "circle"
         },
         "mode": "lines",
         "name": "",
         "orientation": "v",
         "showlegend": false,
         "type": "scatter",
         "x": [
          0,
          1,
          2,
          3,
          4,
          5,
          6,
          7,
          8,
          9,
          10,
          11,
          12,
          13,
          14,
          15,
          16,
          17,
          18,
          19,
          20,
          21,
          22,
          23,
          24,
          25,
          26,
          27,
          28,
          29,
          30,
          31,
          32,
          33,
          34,
          35,
          36,
          37,
          38,
          39,
          40,
          41,
          42,
          43,
          44,
          45,
          46,
          47,
          48,
          49,
          50,
          51,
          52,
          53,
          54,
          55,
          56,
          57,
          58,
          59,
          60,
          61,
          62,
          63,
          64,
          65,
          66,
          67,
          68,
          69,
          70,
          71,
          72,
          73,
          74,
          75,
          76,
          77,
          78,
          79,
          80,
          81,
          82,
          83,
          84,
          85,
          86,
          87,
          88,
          89,
          90,
          91,
          92,
          93,
          94,
          95,
          96,
          97,
          98,
          99,
          100,
          101,
          102,
          103,
          104,
          105,
          106,
          107,
          108,
          109,
          110,
          111,
          112,
          113,
          114,
          115,
          116,
          117,
          118,
          119,
          120,
          121,
          122,
          123,
          124,
          125,
          126,
          127,
          128,
          129,
          130,
          131,
          132,
          133,
          134,
          135,
          136,
          137,
          138,
          139,
          140,
          141,
          142,
          143,
          144,
          145,
          146,
          147,
          148,
          149,
          150,
          151,
          152,
          153,
          154,
          155,
          156,
          157,
          158,
          159,
          160,
          161,
          162,
          163,
          164,
          165,
          166,
          167,
          168,
          169,
          170,
          171,
          172,
          173,
          174,
          175,
          176,
          177,
          178,
          179,
          180,
          181,
          182,
          183,
          184,
          185,
          186,
          187,
          188,
          189,
          190,
          191,
          192,
          193,
          194,
          195,
          196,
          197,
          198,
          199,
          200,
          201,
          202,
          203,
          204,
          205,
          206,
          207,
          208,
          209,
          210,
          211,
          212,
          213,
          214,
          215,
          216,
          217,
          218,
          219,
          220,
          221,
          222,
          223,
          224,
          225,
          226,
          227,
          228,
          229,
          230,
          231,
          232,
          233,
          234,
          235,
          236,
          237,
          238,
          239,
          240,
          241,
          242,
          243,
          244,
          245,
          246,
          247,
          248,
          249,
          250,
          251,
          252,
          253,
          254,
          255,
          256,
          257,
          258,
          259,
          260,
          261,
          262,
          263,
          264,
          265,
          266,
          267,
          268,
          269,
          270,
          271,
          272,
          273,
          274,
          275,
          276,
          277,
          278,
          279,
          280,
          281,
          282,
          283,
          284,
          285,
          286,
          287,
          288,
          289,
          290,
          291,
          292,
          293,
          294,
          295,
          296,
          297,
          298,
          299,
          300,
          301,
          302,
          303,
          304,
          305,
          306,
          307,
          308,
          309,
          310,
          311,
          312,
          313,
          314,
          315,
          316,
          317,
          318,
          319,
          320,
          321,
          322,
          323,
          324,
          325,
          326,
          327,
          328,
          329,
          330,
          331,
          332,
          333,
          334,
          335,
          336,
          337,
          338,
          339,
          340,
          341,
          342,
          343,
          344,
          345,
          346,
          347,
          348,
          349,
          350,
          351,
          352,
          353,
          354,
          355,
          356,
          357,
          358,
          359,
          360,
          361,
          362,
          363,
          364,
          365,
          366,
          367,
          368,
          369,
          370,
          371,
          372,
          373,
          374,
          375,
          376,
          377,
          378,
          379,
          380,
          381,
          382,
          383,
          384,
          385,
          386,
          387,
          388,
          389,
          390,
          391,
          392,
          393,
          394,
          395,
          396,
          397,
          398,
          399,
          400,
          401,
          402,
          403,
          404,
          405,
          406,
          407,
          408,
          409,
          410,
          411,
          412,
          413,
          414,
          415,
          416,
          417,
          418,
          419,
          420,
          421,
          422,
          423,
          424,
          425,
          426,
          427,
          428,
          429,
          430,
          431,
          432,
          433,
          434,
          435,
          436,
          437,
          438,
          439,
          440,
          441,
          442,
          443,
          444,
          445,
          446,
          447,
          448,
          449,
          450,
          451,
          452,
          453,
          454,
          455,
          456,
          457,
          458,
          459,
          460,
          461,
          462,
          463,
          464,
          465,
          466,
          467,
          468,
          469,
          470,
          471,
          472,
          473,
          474,
          475,
          476,
          477,
          478,
          479,
          480,
          481,
          482,
          483,
          484,
          485,
          486,
          487,
          488,
          489,
          490,
          491,
          492,
          493,
          494,
          495,
          496,
          497,
          498,
          499,
          500,
          501,
          502,
          503,
          504,
          505,
          506,
          507,
          508,
          509,
          510,
          511,
          512,
          513,
          514,
          515,
          516,
          517,
          518,
          519,
          520,
          521,
          522,
          523,
          524,
          525,
          526,
          527,
          528,
          529,
          530,
          531,
          532,
          533,
          534,
          535,
          536,
          537,
          538,
          539,
          540,
          541,
          542,
          543,
          544,
          545,
          546,
          547,
          548,
          549,
          550,
          551,
          552,
          553,
          554,
          555,
          556,
          557,
          558,
          559,
          560,
          561,
          562,
          563,
          564,
          565,
          566,
          567,
          568,
          569,
          570,
          571,
          572,
          573,
          574,
          575,
          576,
          577,
          578,
          579,
          580,
          581,
          582,
          583,
          584,
          585,
          586,
          587,
          588,
          589,
          590,
          591,
          592,
          593,
          594,
          595,
          596,
          597,
          598,
          599,
          600,
          601,
          602,
          603,
          604,
          605,
          606,
          607,
          608,
          609,
          610,
          611,
          612,
          613,
          614,
          615,
          616,
          617,
          618,
          619,
          620,
          621,
          622,
          623,
          624,
          625,
          626,
          627,
          628,
          629,
          630,
          631,
          632,
          633,
          634,
          635,
          636,
          637,
          638,
          639,
          640,
          641,
          642,
          643,
          644,
          645,
          646,
          647,
          648,
          649,
          650,
          651,
          652,
          653,
          654,
          655,
          656,
          657,
          658,
          659,
          660,
          661,
          662,
          663,
          664,
          665,
          666,
          667,
          668,
          669,
          670,
          671,
          672,
          673,
          674,
          675,
          676,
          677,
          678,
          679,
          680,
          681,
          682,
          683,
          684,
          685,
          686,
          687,
          688,
          689,
          690,
          691,
          692,
          693,
          694,
          695,
          696,
          697,
          698,
          699,
          700,
          701,
          702,
          703,
          704,
          705,
          706,
          707,
          708,
          709,
          710,
          711,
          712,
          713,
          714,
          715,
          716,
          717,
          718,
          719,
          720,
          721,
          722,
          723,
          724,
          725,
          726,
          727,
          728,
          729,
          730,
          731,
          732,
          733,
          734,
          735,
          736,
          737,
          738,
          739,
          740,
          741,
          742,
          743,
          744,
          745,
          746,
          747,
          748,
          749,
          750,
          751,
          752,
          753,
          754,
          755,
          756,
          757,
          758,
          759,
          760,
          761,
          762,
          763,
          764,
          765,
          766,
          767,
          768,
          769,
          770,
          771,
          772,
          773,
          774,
          775,
          776,
          777,
          778,
          779,
          780,
          781,
          782,
          783,
          784,
          785,
          786,
          787,
          788,
          789,
          790,
          791,
          792,
          793,
          794,
          795,
          796,
          797,
          798,
          799,
          800,
          801,
          802,
          803,
          804,
          805,
          806,
          807,
          808,
          809,
          810,
          811,
          812,
          813,
          814,
          815,
          816,
          817,
          818,
          819,
          820,
          821,
          822,
          823,
          824,
          825,
          826,
          827,
          828,
          829,
          830,
          831,
          832,
          833,
          834,
          835,
          836,
          837,
          838,
          839,
          840,
          841,
          842,
          843,
          844,
          845,
          846,
          847,
          848,
          849,
          850,
          851,
          852,
          853,
          854,
          855,
          856,
          857,
          858,
          859,
          860,
          861,
          862,
          863,
          864,
          865,
          866,
          867,
          868,
          869,
          870,
          871,
          872,
          873,
          874,
          875,
          876,
          877,
          878,
          879,
          880,
          881,
          882,
          883,
          884,
          885,
          886,
          887,
          888,
          889,
          890,
          891,
          892,
          893,
          894,
          895,
          896,
          897,
          898,
          899,
          900,
          901,
          902,
          903,
          904,
          905,
          906,
          907,
          908,
          909,
          910,
          911,
          912,
          913,
          914,
          915,
          916,
          917,
          918,
          919,
          920,
          921,
          922,
          923,
          924,
          925,
          926,
          927,
          928,
          929,
          930,
          931,
          932,
          933,
          934,
          935,
          936,
          937,
          938,
          939,
          940,
          941,
          942,
          943,
          944,
          945,
          946,
          947,
          948,
          949,
          950,
          951,
          952,
          953,
          954,
          955,
          956,
          957,
          958,
          959,
          960,
          961,
          962,
          963,
          964,
          965,
          966,
          967,
          968,
          969,
          970,
          971,
          972,
          973,
          974,
          975,
          976,
          977,
          978,
          979,
          980,
          981,
          982,
          983,
          984,
          985,
          986,
          987,
          988,
          989,
          990,
          991,
          992,
          993,
          994,
          995,
          996,
          997,
          998,
          999
         ],
         "xaxis": "x",
         "y": [
          0.5713994139160813,
          1.1529167295091574,
          1.3501725088956413,
          0.1121623481554378,
          0.8897044698555207,
          1.2532873769446873,
          0.15464724496073287,
          0.8818159079539766,
          0.8375203832042386,
          0.10496108828292838,
          1.4641375428949919,
          0.07927064410050005,
          0.06844611258854094,
          0.10496446574735879,
          0.5358661032017424,
          0.5376689050383383,
          1.3830896440455809,
          0.35249746450304165,
          0.061384018744445545,
          0.5027382658874581,
          0.33718555896471003,
          0.2643154398756009,
          0.8349539317378454,
          0.7875114592669523,
          0.3811593835863656,
          0.8484848484848486,
          1.2931221362762977,
          0.9792086003817121,
          0.3078256766826942,
          1.1640831767397202,
          0.20869659527961792,
          0.35751812860824406,
          0.3519836903760196,
          0.43090190609464396,
          0.15152848722986237,
          0.5655183828853965,
          0.5614370707631137,
          0.5358647687541744,
          0.833101529902641,
          0.8411902745185177,
          1.1484818676634536,
          0.313380385737379,
          0.6800129623564745,
          0.9792057644632892,
          1.2503129793954026,
          0.20869485416806421,
          0.06844676208401124,
          0.4309008032709105,
          0.5358634343132527,
          1.1152893440323957,
          0.2086931130855617,
          0.18303032066859323,
          1.2739545626025297,
          0.06138277888868715,
          1.464137900121023,
          1.094732254874656,
          0.2252622130616213,
          0.20869137203210963,
          0.5255490687597684,
          0.22526034091570524,
          1.256394132375976,
          0.8510789660896381,
          0.3312565521740919,
          0.8205720189337643,
          0.0337420465641497,
          0.430899700452822,
          0.8775963340314621,
          0.935135406492621,
          0.43448278715828564,
          0.770360198160126,
          1.4344818882259014,
          0.580107481910167,
          0.2252584688009076,
          0.1444323464201797,
          1.2792544011045899,
          0.896811513435968,
          0.5655210796697072,
          0.43448009037229196,
          0.40509594285447437,
          1.1794366315967015,
          0.8349442551514729,
          0.8443182100067004,
          1.2532725834818639,
          0.3519798936434064,
          1.3092200563821172,
          0.11216177640030378,
          0.7467422096317278,
          0.4468538864146999,
          1.2538574822098847,
          0.0701123875605032,
          0.010854500351645507,
          0.2176903338191761,
          0.5358657459402822,
          0.8515331951840095,
          1.1701719747045525,
          0.6196430698038418,
          0.22525659671722753,
          1.166607943431299,
          0.3621435206440323,
          0.6360082046506998,
          0.6196325280707726,
          0.242910669483707,
          0.35820830332146325,
          0.5655208085489332,
          0.6308670184477742,
          0.30797269331182475,
          0.88969547458244,
          1.400603108327537,
          0.84117859424033,
          0.8955569080949478,
          0.02192240898144986,
          0.2831777228348174,
          1.3016942953064021,
          0.7875022733173516,
          0.050255273212384474,
          0.08324144190757639,
          1.1794241980202187,
          0.7467333954981643,
          0.8968104557524277,
          0.5655196385123364,
          0.2102795148571257,
          0.6225260129566048,
          1.5949087853216155,
          0.2523376437934622,
          0.0540441075224215,
          0.3582046534233225,
          0.4993499039259641,
          0.4344815315194189,
          0.11145241021866675,
          0.8818036545542968,
          0.5376724045662373,
          0.6983227087469905,
          0.7586452378950884,
          0.8375097137470211,
          0.4993485565420671,
          0.7597148488478858,
          1.285258425919457,
          0.7909856917712174,
          0.11357001600903971,
          1.152897409256962,
          1.0094250565653236,
          1.3830756975325473,
          0.787493087582048,
          0.44684893007265136,
          0.04275750356742469,
          0.5358644115068962,
          1.1665937697429158,
          1.2461383785759974,
          0.11143886177364144,
          1.11820859850485,
          0.4964806429158848,
          0.882983159211472,
          0.18670636236618254,
          1.2503051522256228,
          0.7913103689922927,
          1.3884915861835598,
          0.11216120465099888,
          0.8443077381026235,
          0.35751455767636686,
          0.03374306085754064,
          1.003582034960413,
          0.5655193673992085,
          1.0813704496788006,
          1.1669096112441006,
          0.7026493335527367,
          0.5747976245486109,
          0.20895367991372804,
          1.193019294148951,
          0.22525472466466434,
          0.5994123624795625,
          1.293106208969196,
          1.241356755010208,
          0.8298447671507262,
          0.5410182668788966,
          0.315934634213613,
          0.7443666536186739,
          1.293090282054441,
          0.37748052329854476,
          1.166894006258527,
          0.019654652914592674,
          0.28524345790583233,
          0.22525285264321726,
          0.38650773170230934,
          0.637860345932101,
          1.2973589252341973,
          0.06706631929606063,
          0.20503089616112835,
          0.5376709064249958,
          1.1650654212106113,
          0.6840726269823009,
          0.11819306070838066,
          0.6194979023773046,
          0.8205882352941185,
          0.2086962325224485,
          1.1327223240180078,
          0.0766004460175519,
          0.4646415699764377,
          1.3092175744181596,
          0.887839367092477,
          0.20869449148654662,
          0.8331215983096842,
          1.4005942584471986,
          0.33106908441104554,
          1.1224174855127247,
          1.1761724897702255,
          0.7906904088163776,
          0.6646773291510508,
          0.786711668491574,
          0.10444459193380776,
          0.022023778083702872,
          0.48333870717013216,
          0.14294138459724046,
          0.059910155761762646,
          0.29053544665326325,
          0.844297266458305,
          0.7596886204469947,
          1.285240136022734,
          0.969841451587315,
          0.5655181973728556,
          0.43090116612655416,
          1.3884838856617923,
          0.11216515865936239,
          0.6800174937360879,
          0.03374283199068506,
          0.5483028652452884,
          0.9792029285612928,
          0.5145572858892173,
          1.0207999073242775,
          0.9905900686265696,
          0.8205795848662789,
          0.41224817937606084,
          0.2755493547950174,
          1.2512474680104733,
          1.1524487880293723,
          0.0836671671813376,
          0.0124251321197838,
          0.3329312424607934,
          0.7913072495203065,
          0.20869935180319554,
          0.8515220270961479,
          0.5358630770801563,
          1.1103135205087507,
          0.43090146659054684,
          0.9792030490224194,
          1.117027067721423,
          0.14443190843302045,
          0.9548174286590982,
          0.49935470216136246,
          0.3810470911600388,
          0.20894283266441777,
          0.5817383768359681,
          1.4641382573399375,
          0.5255594537228896,
          0.43090036378487295,
          0.33718195424417374,
          0.10637458061969751,
          0.5655170273513441,
          0.039807449365800274,
          0.5739380262647747,
          1.0924216603134367,
          0.2429086647575024,
          0.5655158573346739,
          1.1065668819453947,
          0.0836666931087926,
          0.23601976846628692,
          0.6225234400428378,
          0.22097709764210602,
          1.2413534940657909,
          0.3609056265411351,
          0.017727452026821244,
          0.31044106821553213,
          0.036512033906878294,
          0.5358653886859392,
          1.425212212486311,
          0.5951284640796954,
          1.4023870417732314,
          0.398744435120864,
          0.8829858698170033,
          0.7874839020610338,
          0.28522516857073105,
          0.7315787669004903,
          1.2563797676758437,
          0.2883435083131721,
          0.04170168548777814,
          1.2973436765397304,
          0.10065785643592817,
          1.231539377837284,
          0.24290666006438733,
          0.7487679861668628,
          0.0613815390830138,
          1.3016864133345576,
          1.4569361521135962,
          0.88783541309844,
          1.1640693984240613,
          1.7913023892151556,
          0.4309029897009322,
          0.07121989760579517,
          0.535864054266735,
          1.1528780896522823,
          0.06845156639745187,
          0.43090188689982734,
          1.158833085713491,
          0.5739323206616824,
          0.11030229501567101,
          0.5725180980383856,
          0.3319685240867499,
          0.3544920509380951,
          1.3248746720053468,
          0.061380299327422505,
          0.7586497668614937,
          0.33717834960071,
          0.9392238480840163,
          0.02008545023917563,
          0.4646443434966323,
          1.4641372801458232,
          0.0035011593501359517,
          0.7909758761044376,
          0.2252509806528855,
          0.023629253362190017,
          1.2532754184273274,
          0.7026715717962851,
          1.1181914184081818,
          0.1121691125871046,
          1.1490860388402495,
          0.8205709346208184,
          0.4993532685990457,
          0.2429046554043609,
          0.20968875659525138,
          1.110301179848551,
          0.3310652920962184,
          0.8349480808455404,
          0.3117968029483942,
          0.4309007841043673,
          1.2413522260399943,
          0.7867027881250711,
          0.2252491086936682,
          0.08366621904161986,
          0.4646431245687366,
          0.8471412293049141,
          0.5801013072695932,
          0.7866939079590484,
          0.1102899547072147,
          0.5376700240072778,
          0.4308996813145518,
          0.5800951327604632,
          0.4344853126771548,
          1.0035858352296225,
          0.5655155862399965,
          0.7069256444679822,
          0.20680238018822247,
          1.1794377154422686,
          0.40057467265042934,
          1.0207997868470737,
          0.48931887012703534,
          0.7026633130391826,
          0.2762367967596403,
          0.8515108593012274,
          0.758651034866827,
          1.0207968305178494,
          0.8205747174903028,
          0.8442867950737356,
          0.3159430948495803,
          0.8570670440474082,
          0.5410126200370877,
          0.017727040697942287,
          1.2925408275118935,
          0.0765988788411941,
          1.2086713846661108,
          1.2086571522773317,
          0.019957616264175915,
          0.49935192123151884,
          0.5376685258851922,
          0.3621464643768423,
          0.634528162334896,
          1.404881722638734,
          0.5442130178222956,
          0.3329101066531207,
          0.5739266151720295,
          0.06137905962191015,
          1.152432880115948,
          0.2876842406799077,
          0.8471270338656444,
          0.17615397932044077,
          0.35349618718489784,
          0.7703609350224296,
          0.7586490419724783,
          0.4309011469605486,
          0.3133553904354375,
          0.9364617544456846,
          0.6164741091314095,
          0.5145642201470152,
          0.9792061257942514,
          0.16094186026369722,
          0.11028883968740226,
          0.5410069733131545,
          0.7703519817096867,
          0.20871255411978384,
          0.05404273961362949,
          0.3582010035995611,
          0.8334204036010652,
          0.5655144162335699,
          0.5255668304449619,
          0.4842460234509166,
          0.023603654409147606,
          1.2532606258040913,
          0.889712275309865,
          0.790879185113762,
          0.8509234610360615,
          0.7586470490885998,
          0.9188458888507041,
          0.40510982982795984,
          1.1650615953366015,
          0.5358663658503819,
          0.9905752258799203,
          0.020796710059513702,
          0.22097802844373635,
          1.2413549437848086,
          0.5786266872032271,
          0.35159852570949934,
          0.5800889583827729,
          0.7436345966958213,
          0.32828567621840515,
          0.7866850279934989,
          0.8334102782164995,
          0.22524723676556468,
          0.3621425978518441,
          1.6689385001317296,
          0.1420247233750993,
          1.0169517574192755,
          1.1223998110385018,
          0.43090004417827144,
          0.8993480032599873,
          0.08366574497981938,
          0.4468439738405495,
          0.3771395239951845,
          0.38054334798242223,
          0.3519760969927005,
          0.3159358337929786,
          0.8331104573415336,
          0.6272457533105378,
          0.033744314124058206,
          0.43089894140163887,
          1.1650480936377334,
          1.0207966498308692,
          0.5655132462319847,
          0.03742705365332466,
          0.0420525540012342,
          1.377483096048045,
          0.46413496856128666,
          0.01242484028560209,
          0.5655120762352407,
          0.11664492604538071,
          0.877623572844739,
          0.5358661872223472,
          0.8514996917992365,
          0.2149023683225948,
          0.4122431616707434,
          0.5587396351575462,
          0.016884544327779083,
          1.0947320484629812,
          0.7747546351314258,
          0.7913570797762717,
          0.7586483170948881,
          0.464643167003018,
          0.5255613388580852,
          0.5358648528177692,
          1.2973449455237858,
          1.045197220048787,
          0.7586463242286189,
          1.5921035256833522,
          0.7913360048191527,
          1.464136481580163,
          0.9792063064550234,
          0.75387789209798,
          0.24290265077742235,
          0.5748237137633825,
          0.46464194809099923,
          1.2413556686271803,
          0.11398430162319984,
          0.07122643518328231,
          0.535867164368658,
          0.8933046694358837,
          0.9799150161376382,
          0.6169382486992272,
          1.1650345922517993,
          0.1800228877142005,
          1.2413524077712772,
          0.4308978386306509,
          0.489313842861153,
          0.24134914693250564,
          0.08366527092339104,
          1.1044434366116178,
          0.4344890937566621,
          0.4260790902041875,
          0.4646409160347874,
          1.4231917620467573,
          0.11216854081497629,
          0.7913477615806688,
          0.9792034706253735,
          0.6137622263220397,
          0.6648431229657596,
          0.8509164262270681,
          0.7086099694382988,
          0.035755852560922285,
          1.2913983279080097,
          1.6480276995761007,
          0.9698447642412948,
          0.5655118051590131,
          0.7028018453921449,
          0.2089464460260761,
          0.5817323325496928,
          0.4646459747884756,
          0.08366479687233475,
          0.7703427542843088,
          1.3092068111006647,
          0.1121679690486771,
          1.1170243569103895,
          0.7586514870523189,
          0.04276313762276829,
          0.5358658299716155,
          0.01772662938815095,
          0.08366432282665037,
          1.4251878219499274,
          1.1665998469220387,
          0.08366384878633792,
          0.2295118563783773,
          1.0169361283580254,
          0.7069169376293224,
          1.4048576759153093,
          0.27211892501531815,
          0.5376676434840767,
          0.877617862879097,
          0.0792782713094421,
          0.4993505738712629,
          0.1476266195907187,
          0.580082784136518,
          0.3532591414944318,
          0.33288897352884894,
          0.49934922651827796,
          0.06700701162177536,
          0.2762340281631104,
          0.8514885245901638,
          0.5655106351725123,
          0.07302138949287018,
          0.4646447558882765,
          1.6424890131841772,
          0.36213873140940844,
          0.3371747450343163,
          0.5358644955812185,
          0.9186445862706658,
          1.4231890657173207,
          0.1121673972882069,
          0.6646822547798229,
          0.9905603835780641,
          0.5655094651908527,
          0.5800766100216944,
          0.4344917047859658,
          0.6225313664759304,
          0.26837481991713746,
          1.1044975960075472,
          0.5358631611974674,
          0.3713342140026422,
          0.6646746006773957,
          1.423185904056785,
          0.1121668255335656,
          0.0177262180974459,
          1.0035940700070203,
          0.43449080587232775,
          0.5786286182395217,
          1.1489311248384526,
          0.49934787917256385,
          1.253245833530051,
          0.8514773576739976,
          1.2086743580006005,
          1.179433932430295,
          0.5817262883890172,
          0.4344899069624092,
          1.020799365187851,
          1.092432407065182,
          0.24290064618357077,
          0.6983305901716386,
          0.7586494942038974,
          1.1625009554383563,
          0.8484738943199321,
          0.9163366252486027,
          0.36213486504953263,
          0.40057662921242876,
          1.0207964089197792,
          0.9905455417209811,
          0.7487587382358033,
          0.7027939372798766,
          0.8411830047209121,
          0.40057843878330696,
          0.020793452668830335,
          0.56551099194379,
          0.46465100380673885,
          0.9905307003086512,
          0.11216625378475309,
          0.8510824974508557,
          0.9905158593410545,
          0.5376659419222738,
          0.5358618268203617,
          0.2939977164598083,
          1.2413524986340545,
          0.46465055613669626,
          0.01232270509474398,
          0.8955687801424705,
          1.1918321416337814,
          0.076597311728961,
          0.8298328945862425,
          0.35199007658288506,
          0.08366856663681688,
          0.7913384436045059,
          0.6983214682254538,
          0.21028610478173443,
          0.6225248304390736,
          0.35198627994519827,
          0.09774195079817705,
          1.2525955772191066,
          0.6391017280730347,
          0.30336295710281325,
          0.537664443832433,
          0.15882867496979927,
          1.1489275932798209,
          0.22525180334408468,
          0.5410013267070934,
          0.24740610940510693,
          0.4122409884527678,
          0.8968272322755646,
          0.43449017802650514,
          0.9186318131256954,
          0.8330993166713454,
          0.4641395075500983,
          0.0423621084245126,
          0.08208441102704539,
          0.4893088156985699,
          0.4993465318341206,
          1.3803780133036183,
          0.07011093107316346,
          1.1102967194055504,
          0.5655107208765353,
          0.2428986416228054,
          0.7022515907472182,
          0.850909391534391,
          0.7913291258477755,
          0.441541162997235,
          0.9792066075493343,
          0.4344904490883579,
          0.9163319074194829,
          0.7866761482284159,
          1.1588264696898158,
          0.010306848574834215,
          0.6169320278704864,
          0.8558602949586449,
          0.565510449811524,
          0.2209840873699399,
          1.2413492378293065,
          0.7315839383105721,
          0.11028549476323364,
          0.3519824833894132,
          0.7586540229583102,
          0.6308740714903617,
          1.6424726081441439,
          0.8818241187177809,
          0.857016509433962,
          1.1489139713554009,
          0.22524993144025662,
          0.04168680712397799,
          0.7026703022894991,
          0.18002032494530343,
          1.2413479698758334,
          1.2086801916895304,
          0.8968234296297194,
          0.5655092798520326,
          0.44684680658043474,
          0.11398288325219758,
          0.4646493372436641,
          1.4231861996012038,
          0.11216568204176935,
          0.29400343918539823,
          0.24134470910867817,
          0.6628288594550098,
          0.896822100814693,
          0.5655081098973821,
          0.4308993042836836,
          0.847112838902109,
          0.5817202443539371,
          0.9792037717598753,
          0.08863643841380742,
          0.3582054121229883,
          0.3575437965681886,
          1.413066332647557,
          0.061377819966473735,
          0.8349789088212116,
          1.3501626016484487,
          0.8878348896953858,
          0.5255706120436986,
          0.6760546513401706,
          0.7586559248528317,
          0.5027290269227261,
          0.5358616482189358,
          0.29436568076264885,
          0.8205785002002833,
          0.4055409657233799,
          1.211218750941357,
          0.2087108130203451,
          0.7703338014950207,
          0.03845853536639571,
          0.24334599199010803,
          0.47985575148389314,
          0.9792009359868412,
          0.14773369269497522,
          0.5482998987099983,
          0.9791981002302319,
          0.3159285730701189,
          0.8205698504221708,
          0.020804735509952866,
          1.0094989811818291,
          0.5817142004444487,
          0.3358149216425473,
          0.46465262294340215,
          0.29758830021243565,
          0.11398006726495985,
          0.46465140405773797,
          0.9791953247400146,
          0.6646795262911824,
          0.03469629406235519,
          0.033750580445153555,
          0.430899604733315,
          0.022858231455155503,
          0.287963174734829,
          0.8349692327303488,
          0.5255651205894472,
          0.14909764304197276,
          0.867187214721303,
          0.4051051016001581,
          0.28327817923954596,
          0.7443566253023735,
          0.4893037886392829,
          0.6628217737107669,
          0.5655069399475725,
          0.08367328438037336,
          1.152901355585716,
          1.2086659602025212,
          0.7467689583948065,
          0.7906763476373954,
          0.18002278697742272,
          0.7586539320293966,
          0.21028174198124533,
          0.6225182945394605,
          1.166585674020798,
          0.3532366781126759,
          0.29721397065442534,
          0.36331993026266973,
          0.6800345478157771,
          0.42607485461504085,
          0.08367281030271545,
          0.11216963580294326,
          0.535860313855566,
          0.5409956802189009,
          0.7147781530220088,
          1.1665715014639233,
          0.5739293808898959,
          1.110284379833598,
          1.1588103800174931,
          1.1650404431362553,
          1.2808869421799078,
          0.6390887045829674,
          1.0169204997771595,
          0.04168593731125331,
          1.2973379561614886,
          0.0832503784510845,
          0.8205612008264123,
          0.2975713115545243,
          0.5786316603701196,
          0.0018170704107500768,
          1.4641410205011582,
          0.46465009664376367,
          0.6137548595240929,
          0.52555962924995,
          0.3582148131019315,
          0.47984610340011175,
          0.979192489024292,
          0.5482911513502532,
          1.0208103466750065,
          0.8330881762991078,
          0.7277177874583627,
          0.702677291211242,
          0.6308673467576833,
          0.3277520340581772,
          1.2413480607835692,
          0.7069082310051352,
          1.0035934860601974,
          0.5655057700026038,
          0.7538680489365325,
          0.4892987616832889,
          1.1489003497539858,
          0.44684086746792695,
          0.4646488777743185,
          0.973398356310559,
          0.3159213126809781,
          0.565504600062476,
          0.8509035895570505,
          0.20870907194995492,
          1.6378690012277861,
          1.1044411260439144,
          0.01688414947851269,
          0.22524805956754035,
          0.2087073309086126,
          1.3884832556194997,
          0.11216906405146354,
          0.7866672686637928,
          0.29400754103829563,
          1.2413448000504363,
          0.20251882995872908,
          1.3092015036618334,
          0.1121684923058125,
          0.823848792924363,
          1.2413415393344338,
          1.2086585301974735,
          0.8475830273583103,
          0.6983123465175769,
          0.05025559717535406,
          0.3658435706698604,
          0.5977049180327865,
          0.7315757181739604,
          0.6983032250479985,
          0.43449656987281093,
          0.8298210223614748,
          0.9791926095392552,
          0.8412057092080429,
          0.24040895493462797,
          0.01690487167665587,
          0.049166495605915794,
          0.6308606221683665,
          0.21238711330301463,
          1.0989605736385164,
          0.11356466876971538,
          0.052809965880378174,
          1.1677449791076966,
          0.012322425452727548,
          0.412238815258002,
          0.038324618168388835,
          0.2593102946859966,
          0.7586617213644387,
          0.5358626253772556,
          0.7315674982220708,
          0.8298091504764086,
          0.6628146881180178,
          0.4641387089785793,
          0.20870558989631738,
          0.4842469768756311,
          1.1224364232977853,
          0.10495913445943417,
          0.5358624467740764,
          0.4646484301473679,
          0.020810226143968144,
          1.0094838564686492,
          0.6169258071671986,
          1.148886728475564,
          0.6225117587770872,
          1.1102731555429752,
          0.0591274349399456,
          0.6169195865893597,
          0.5655043290267161,
          0.05622338337103061,
          0.25420417406196705,
          0.49935212633711157,
          0.5358611124253315,
          0.14773017069804,
          0.32775614762856675,
          1.2413402714480493,
          0.8935040178974022,
          0.362148485042592,
          0.11466021494607623,
          1.1676662847900803,
          1.1524286719946977,
          0.609911639273548,
          1.4005787880796192,
          0.499350779012656,
          1.464140221916768,
          0.019467340243639233,
          0.3274531783642542,
          0.38867659659202913,
          1.17616417229278,
          0.6308538977224066,
          0.01995715150668287,
          0.5786333287450474,
          0.4309044197064168,
          0.019956686770835175,
          0.9791898341210274,
          0.012322145823402852,
          0.11355932203389763,
          0.35197868691552725,
          0.36774489842922753,
          0.705652306752216,
          0.3803545302983904,
          1.0347588015456783,
          0.3835330417937738,
          0.33719239732324235,
          0.9744836825293518,
          0.012363122571522056,
          0.5376759380662504,
          0.43090331695245276,
          0.3519748905235377,
          1.423184868142124,
          0.1121679205659899,
          0.8082510578279274,
          1.0208130015377348,
          0.8777040568727321,
          0.35197109421344197,
          0.5358634239142647,
          0.8776040436487306,
          0.5786316724167297,
          1.2086517290506427,
          0.23594525774811104,
          0.1044303797468359,
          0.8829885802969594,
          0.8442763239489052,
          0.6475248779869439,
          0.7487494905331809,
          0.06137658036111027,
          0.03832500829482727,
          0.49934943169547097,
          0.03460153211779626,
          0.4122343794822958,
          0.24346987811968065,
          0.8968225076939436,
          1.4344968409031693,
          0.8297972789310291,
          0.5951663699849357,
          1.1557341469161957,
          0.43449387318538785,
          0.46465094454915146,
          0.7586629892303627,
          0.49934808438555645,
          0.2244222321258018,
          0.5786300160978946,
          0.49934673708291233,
          1.2413390035749865,
          0.5376768319275995,
          0.8205525514130019,
          0.8475872349823341,
          0.5817189072896484,
          1.3501573173063255,
          0.11216734883199586,
          0.56619508562919,
          0.1444195752947822,
          0.9548188150102792,
          0.33108061670981037,
          1.0813809596640755,
          0.5748365677516495,
          0.012321866206768894,
          0.855864614508477,
          0.4344929742970188,
          0.3865193086469195,
          0.6648620404417424,
          0.8508965551449611,
          0.11398108397231521,
          0.46464972569346863,
          0.20195673406296785,
          0.9830953881145211,
          0.3117889018029001,
          0.430902214204133,
          0.4892937348305846,
          0.6982941038167092,
          1.1491104791508222,
          0.18003377368241044,
          0.7586642570829654,
          1.4385736695106508,
          0.4993453897875386,
          0.2593182217853198,
          1.2413377357152449,
          0.7586655249222469,
          1.2563739052889122,
          0.5747861852843223,
          0.36214461870241843,
          1.2413364678688248,
          0.5817128635824289,
          0.5358620895730546,
          1.1665573292514022,
          1.1488731075201244,
          0.43449207541236895,
          0.5994366819462059,
          0.4344911765314384,
          0.285230170837653,
          0.851140513112345,
          0.4707484099730125,
          0.8829783537750607,
          0.6390756816236696,
          0.46464850684418035,
          0.565509722345773,
          1.2832733964780738,
          0.49934474216627844,
          0.8775902248535608,
          0.019654197376352434,
          0.3582111633605909,
          0.25420815944340214,
          0.06844228342573522,
          0.4309011114614574
         ],
         "yaxis": "y"
        }
       ],
       "layout": {
        "legend": {
         "tracegroupgap": 0
        },
        "template": {
         "data": {
          "bar": [
           {
            "error_x": {
             "color": "#2a3f5f"
            },
            "error_y": {
             "color": "#2a3f5f"
            },
            "marker": {
             "line": {
              "color": "#E5ECF6",
              "width": 0.5
             },
             "pattern": {
              "fillmode": "overlay",
              "size": 10,
              "solidity": 0.2
             }
            },
            "type": "bar"
           }
          ],
          "barpolar": [
           {
            "marker": {
             "line": {
              "color": "#E5ECF6",
              "width": 0.5
             },
             "pattern": {
              "fillmode": "overlay",
              "size": 10,
              "solidity": 0.2
             }
            },
            "type": "barpolar"
           }
          ],
          "carpet": [
           {
            "aaxis": {
             "endlinecolor": "#2a3f5f",
             "gridcolor": "white",
             "linecolor": "white",
             "minorgridcolor": "white",
             "startlinecolor": "#2a3f5f"
            },
            "baxis": {
             "endlinecolor": "#2a3f5f",
             "gridcolor": "white",
             "linecolor": "white",
             "minorgridcolor": "white",
             "startlinecolor": "#2a3f5f"
            },
            "type": "carpet"
           }
          ],
          "choropleth": [
           {
            "colorbar": {
             "outlinewidth": 0,
             "ticks": ""
            },
            "type": "choropleth"
           }
          ],
          "contour": [
           {
            "colorbar": {
             "outlinewidth": 0,
             "ticks": ""
            },
            "colorscale": [
             [
              0,
              "#0d0887"
             ],
             [
              0.1111111111111111,
              "#46039f"
             ],
             [
              0.2222222222222222,
              "#7201a8"
             ],
             [
              0.3333333333333333,
              "#9c179e"
             ],
             [
              0.4444444444444444,
              "#bd3786"
             ],
             [
              0.5555555555555556,
              "#d8576b"
             ],
             [
              0.6666666666666666,
              "#ed7953"
             ],
             [
              0.7777777777777778,
              "#fb9f3a"
             ],
             [
              0.8888888888888888,
              "#fdca26"
             ],
             [
              1,
              "#f0f921"
             ]
            ],
            "type": "contour"
           }
          ],
          "contourcarpet": [
           {
            "colorbar": {
             "outlinewidth": 0,
             "ticks": ""
            },
            "type": "contourcarpet"
           }
          ],
          "heatmap": [
           {
            "colorbar": {
             "outlinewidth": 0,
             "ticks": ""
            },
            "colorscale": [
             [
              0,
              "#0d0887"
             ],
             [
              0.1111111111111111,
              "#46039f"
             ],
             [
              0.2222222222222222,
              "#7201a8"
             ],
             [
              0.3333333333333333,
              "#9c179e"
             ],
             [
              0.4444444444444444,
              "#bd3786"
             ],
             [
              0.5555555555555556,
              "#d8576b"
             ],
             [
              0.6666666666666666,
              "#ed7953"
             ],
             [
              0.7777777777777778,
              "#fb9f3a"
             ],
             [
              0.8888888888888888,
              "#fdca26"
             ],
             [
              1,
              "#f0f921"
             ]
            ],
            "type": "heatmap"
           }
          ],
          "heatmapgl": [
           {
            "colorbar": {
             "outlinewidth": 0,
             "ticks": ""
            },
            "colorscale": [
             [
              0,
              "#0d0887"
             ],
             [
              0.1111111111111111,
              "#46039f"
             ],
             [
              0.2222222222222222,
              "#7201a8"
             ],
             [
              0.3333333333333333,
              "#9c179e"
             ],
             [
              0.4444444444444444,
              "#bd3786"
             ],
             [
              0.5555555555555556,
              "#d8576b"
             ],
             [
              0.6666666666666666,
              "#ed7953"
             ],
             [
              0.7777777777777778,
              "#fb9f3a"
             ],
             [
              0.8888888888888888,
              "#fdca26"
             ],
             [
              1,
              "#f0f921"
             ]
            ],
            "type": "heatmapgl"
           }
          ],
          "histogram": [
           {
            "marker": {
             "pattern": {
              "fillmode": "overlay",
              "size": 10,
              "solidity": 0.2
             }
            },
            "type": "histogram"
           }
          ],
          "histogram2d": [
           {
            "colorbar": {
             "outlinewidth": 0,
             "ticks": ""
            },
            "colorscale": [
             [
              0,
              "#0d0887"
             ],
             [
              0.1111111111111111,
              "#46039f"
             ],
             [
              0.2222222222222222,
              "#7201a8"
             ],
             [
              0.3333333333333333,
              "#9c179e"
             ],
             [
              0.4444444444444444,
              "#bd3786"
             ],
             [
              0.5555555555555556,
              "#d8576b"
             ],
             [
              0.6666666666666666,
              "#ed7953"
             ],
             [
              0.7777777777777778,
              "#fb9f3a"
             ],
             [
              0.8888888888888888,
              "#fdca26"
             ],
             [
              1,
              "#f0f921"
             ]
            ],
            "type": "histogram2d"
           }
          ],
          "histogram2dcontour": [
           {
            "colorbar": {
             "outlinewidth": 0,
             "ticks": ""
            },
            "colorscale": [
             [
              0,
              "#0d0887"
             ],
             [
              0.1111111111111111,
              "#46039f"
             ],
             [
              0.2222222222222222,
              "#7201a8"
             ],
             [
              0.3333333333333333,
              "#9c179e"
             ],
             [
              0.4444444444444444,
              "#bd3786"
             ],
             [
              0.5555555555555556,
              "#d8576b"
             ],
             [
              0.6666666666666666,
              "#ed7953"
             ],
             [
              0.7777777777777778,
              "#fb9f3a"
             ],
             [
              0.8888888888888888,
              "#fdca26"
             ],
             [
              1,
              "#f0f921"
             ]
            ],
            "type": "histogram2dcontour"
           }
          ],
          "mesh3d": [
           {
            "colorbar": {
             "outlinewidth": 0,
             "ticks": ""
            },
            "type": "mesh3d"
           }
          ],
          "parcoords": [
           {
            "line": {
             "colorbar": {
              "outlinewidth": 0,
              "ticks": ""
             }
            },
            "type": "parcoords"
           }
          ],
          "pie": [
           {
            "automargin": true,
            "type": "pie"
           }
          ],
          "scatter": [
           {
            "fillpattern": {
             "fillmode": "overlay",
             "size": 10,
             "solidity": 0.2
            },
            "type": "scatter"
           }
          ],
          "scatter3d": [
           {
            "line": {
             "colorbar": {
              "outlinewidth": 0,
              "ticks": ""
             }
            },
            "marker": {
             "colorbar": {
              "outlinewidth": 0,
              "ticks": ""
             }
            },
            "type": "scatter3d"
           }
          ],
          "scattercarpet": [
           {
            "marker": {
             "colorbar": {
              "outlinewidth": 0,
              "ticks": ""
             }
            },
            "type": "scattercarpet"
           }
          ],
          "scattergeo": [
           {
            "marker": {
             "colorbar": {
              "outlinewidth": 0,
              "ticks": ""
             }
            },
            "type": "scattergeo"
           }
          ],
          "scattergl": [
           {
            "marker": {
             "colorbar": {
              "outlinewidth": 0,
              "ticks": ""
             }
            },
            "type": "scattergl"
           }
          ],
          "scattermapbox": [
           {
            "marker": {
             "colorbar": {
              "outlinewidth": 0,
              "ticks": ""
             }
            },
            "type": "scattermapbox"
           }
          ],
          "scatterpolar": [
           {
            "marker": {
             "colorbar": {
              "outlinewidth": 0,
              "ticks": ""
             }
            },
            "type": "scatterpolar"
           }
          ],
          "scatterpolargl": [
           {
            "marker": {
             "colorbar": {
              "outlinewidth": 0,
              "ticks": ""
             }
            },
            "type": "scatterpolargl"
           }
          ],
          "scatterternary": [
           {
            "marker": {
             "colorbar": {
              "outlinewidth": 0,
              "ticks": ""
             }
            },
            "type": "scatterternary"
           }
          ],
          "surface": [
           {
            "colorbar": {
             "outlinewidth": 0,
             "ticks": ""
            },
            "colorscale": [
             [
              0,
              "#0d0887"
             ],
             [
              0.1111111111111111,
              "#46039f"
             ],
             [
              0.2222222222222222,
              "#7201a8"
             ],
             [
              0.3333333333333333,
              "#9c179e"
             ],
             [
              0.4444444444444444,
              "#bd3786"
             ],
             [
              0.5555555555555556,
              "#d8576b"
             ],
             [
              0.6666666666666666,
              "#ed7953"
             ],
             [
              0.7777777777777778,
              "#fb9f3a"
             ],
             [
              0.8888888888888888,
              "#fdca26"
             ],
             [
              1,
              "#f0f921"
             ]
            ],
            "type": "surface"
           }
          ],
          "table": [
           {
            "cells": {
             "fill": {
              "color": "#EBF0F8"
             },
             "line": {
              "color": "white"
             }
            },
            "header": {
             "fill": {
              "color": "#C8D4E3"
             },
             "line": {
              "color": "white"
             }
            },
            "type": "table"
           }
          ]
         },
         "layout": {
          "annotationdefaults": {
           "arrowcolor": "#2a3f5f",
           "arrowhead": 0,
           "arrowwidth": 1
          },
          "autotypenumbers": "strict",
          "coloraxis": {
           "colorbar": {
            "outlinewidth": 0,
            "ticks": ""
           }
          },
          "colorscale": {
           "diverging": [
            [
             0,
             "#8e0152"
            ],
            [
             0.1,
             "#c51b7d"
            ],
            [
             0.2,
             "#de77ae"
            ],
            [
             0.3,
             "#f1b6da"
            ],
            [
             0.4,
             "#fde0ef"
            ],
            [
             0.5,
             "#f7f7f7"
            ],
            [
             0.6,
             "#e6f5d0"
            ],
            [
             0.7,
             "#b8e186"
            ],
            [
             0.8,
             "#7fbc41"
            ],
            [
             0.9,
             "#4d9221"
            ],
            [
             1,
             "#276419"
            ]
           ],
           "sequential": [
            [
             0,
             "#0d0887"
            ],
            [
             0.1111111111111111,
             "#46039f"
            ],
            [
             0.2222222222222222,
             "#7201a8"
            ],
            [
             0.3333333333333333,
             "#9c179e"
            ],
            [
             0.4444444444444444,
             "#bd3786"
            ],
            [
             0.5555555555555556,
             "#d8576b"
            ],
            [
             0.6666666666666666,
             "#ed7953"
            ],
            [
             0.7777777777777778,
             "#fb9f3a"
            ],
            [
             0.8888888888888888,
             "#fdca26"
            ],
            [
             1,
             "#f0f921"
            ]
           ],
           "sequentialminus": [
            [
             0,
             "#0d0887"
            ],
            [
             0.1111111111111111,
             "#46039f"
            ],
            [
             0.2222222222222222,
             "#7201a8"
            ],
            [
             0.3333333333333333,
             "#9c179e"
            ],
            [
             0.4444444444444444,
             "#bd3786"
            ],
            [
             0.5555555555555556,
             "#d8576b"
            ],
            [
             0.6666666666666666,
             "#ed7953"
            ],
            [
             0.7777777777777778,
             "#fb9f3a"
            ],
            [
             0.8888888888888888,
             "#fdca26"
            ],
            [
             1,
             "#f0f921"
            ]
           ]
          },
          "colorway": [
           "#636efa",
           "#EF553B",
           "#00cc96",
           "#ab63fa",
           "#FFA15A",
           "#19d3f3",
           "#FF6692",
           "#B6E880",
           "#FF97FF",
           "#FECB52"
          ],
          "font": {
           "color": "#2a3f5f"
          },
          "geo": {
           "bgcolor": "white",
           "lakecolor": "white",
           "landcolor": "#E5ECF6",
           "showlakes": true,
           "showland": true,
           "subunitcolor": "white"
          },
          "hoverlabel": {
           "align": "left"
          },
          "hovermode": "closest",
          "mapbox": {
           "style": "light"
          },
          "paper_bgcolor": "white",
          "plot_bgcolor": "#E5ECF6",
          "polar": {
           "angularaxis": {
            "gridcolor": "white",
            "linecolor": "white",
            "ticks": ""
           },
           "bgcolor": "#E5ECF6",
           "radialaxis": {
            "gridcolor": "white",
            "linecolor": "white",
            "ticks": ""
           }
          },
          "scene": {
           "xaxis": {
            "backgroundcolor": "#E5ECF6",
            "gridcolor": "white",
            "gridwidth": 2,
            "linecolor": "white",
            "showbackground": true,
            "ticks": "",
            "zerolinecolor": "white"
           },
           "yaxis": {
            "backgroundcolor": "#E5ECF6",
            "gridcolor": "white",
            "gridwidth": 2,
            "linecolor": "white",
            "showbackground": true,
            "ticks": "",
            "zerolinecolor": "white"
           },
           "zaxis": {
            "backgroundcolor": "#E5ECF6",
            "gridcolor": "white",
            "gridwidth": 2,
            "linecolor": "white",
            "showbackground": true,
            "ticks": "",
            "zerolinecolor": "white"
           }
          },
          "shapedefaults": {
           "line": {
            "color": "#2a3f5f"
           }
          },
          "ternary": {
           "aaxis": {
            "gridcolor": "white",
            "linecolor": "white",
            "ticks": ""
           },
           "baxis": {
            "gridcolor": "white",
            "linecolor": "white",
            "ticks": ""
           },
           "bgcolor": "#E5ECF6",
           "caxis": {
            "gridcolor": "white",
            "linecolor": "white",
            "ticks": ""
           }
          },
          "title": {
           "x": 0.05
          },
          "xaxis": {
           "automargin": true,
           "gridcolor": "white",
           "linecolor": "white",
           "ticks": "",
           "title": {
            "standoff": 15
           },
           "zerolinecolor": "white",
           "zerolinewidth": 2
          },
          "yaxis": {
           "automargin": true,
           "gridcolor": "white",
           "linecolor": "white",
           "ticks": "",
           "title": {
            "standoff": 15
           },
           "zerolinecolor": "white",
           "zerolinewidth": 2
          }
         }
        },
        "title": {
         "text": "Mean td errors"
        },
        "xaxis": {
         "anchor": "y",
         "domain": [
          0,
          1
         ],
         "title": {
          "text": "x"
         }
        },
        "yaxis": {
         "anchor": "x",
         "domain": [
          0,
          1
         ],
         "title": {
          "text": "y"
         }
        }
       }
      }
     },
     "metadata": {},
     "output_type": "display_data"
    }
   ],
   "source": [
    "import math\n",
    "import random\n",
    "from copy import deepcopy\n",
    "from collections import deque\n",
    "import plotly.express as px\n",
    "    \n",
    "q_grid: tp.Dict[str, np.ndarray] = {\n",
    "    'no_ace': np.zeros((10, 10, 2), dtype=float),\n",
    "    'ace': np.zeros((10, 10, 2), dtype=float)\n",
    "}\n",
    "\n",
    "def estimate_q_function(num_episodes: int = 10_000_000, frame_step: int = 100_000, plot_step: int = 10_000):\n",
    "    \n",
    "    global q_grid\n",
    "\n",
    "    last_rewards = deque(maxlen=1000)\n",
    "    last_td_errors = deque(maxlen=1000)\n",
    "\n",
    "    mean_rewards = []\n",
    "    mean_td_errors = []\n",
    "    \n",
    "    env = gym.make(\"Blackjack-v1\", sab=True)\n",
    "\n",
    "    temp_dir = Path('tmp')\n",
    "    if temp_dir.exists():\n",
    "        shutil.rmtree(temp_dir)\n",
    "    temp_dir.mkdir()\n",
    "    \n",
    "    eps_from = 1.0\n",
    "    eps_to = 1e-3\n",
    "    n_epochs_of_decays = math.ceil(num_episodes * 0.5)\n",
    "    \n",
    "    q_grid_count: tp.Dict[str, np.ndarray] = {\n",
    "        'no_ace': np.zeros((10, 10, 2), dtype=int),\n",
    "        'ace': np.zeros((10, 10, 2), dtype=int)\n",
    "    }\n",
    "    \n",
    "    frames = []\n",
    "    \n",
    "    for ep_idx in tqdm(range(num_episodes + frame_step)):\n",
    "        if ep_idx > n_epochs_of_decays:\n",
    "            eps_greedy_coeff = 0.0\n",
    "        else:\n",
    "            step_coeff = min(max(ep_idx / n_epochs_of_decays, 0.0), 1.0)\n",
    "            eps_greedy_coeff = eps_from * math.exp(math.log(eps_to / eps_from) * step_coeff)\n",
    "            # eps_greedy_coeff = eps_from + (eps_to - eps_from) * step_coeff\n",
    "    \n",
    "        obs, info = env.reset()\n",
    "        done = False\n",
    "        ep_reward = 0\n",
    "\n",
    "        while not done:\n",
    "            player_scores, dealer_card, player_has_ace = obs\n",
    "            q = q_grid['ace' if player_has_ace else 'no_ace']\n",
    "            q_count = q_grid_count['ace' if player_has_ace else 'no_ace']\n",
    "            if player_scores >= player_scores_offset:\n",
    "                cell_idx = (dealer_card - dealer_card_offset, player_scores - player_scores_offset)\n",
    "                if random.uniform(0, 1) < eps_greedy_coeff:\n",
    "                    action = np.random.choice([0, 1])\n",
    "                else:\n",
    "                    action = q[cell_idx].argmax()\n",
    "            else:\n",
    "                action = 1\n",
    "            \n",
    "            next_obs, reward, terminated, truncated, info = env.step(action)\n",
    "            ep_reward += reward\n",
    "            \n",
    "            done = terminated or truncated\n",
    "            \n",
    "            if player_scores >= player_scores_offset:\n",
    "                if terminated:\n",
    "                    td_target = reward\n",
    "                else:\n",
    "                    next_player_scores, next_dealer_card, next_player_has_ace = next_obs\n",
    "                    next_cell_idx = (next_dealer_card - dealer_card_offset, next_player_scores - player_scores_offset)\n",
    "                    next_q = q_grid['ace' if next_player_has_ace else 'no_ace']\n",
    "                    \n",
    "                    td_target = reward + next_q[next_cell_idx].max()\n",
    "                td_error = td_target - q[cell_idx][action]\n",
    "                q_count[cell_idx][action] += 1\n",
    "                q[cell_idx][action] += td_error / q_count[cell_idx][action]\n",
    "                last_td_errors.append(abs(td_error))\n",
    "                \n",
    "            obs = next_obs\n",
    "        \n",
    "        last_rewards.append(ep_reward)\n",
    "        \n",
    "        mean_reward = sum(last_rewards) / len(last_rewards)\n",
    "        if len(last_td_errors) > 0 and math.ceil(ep_idx / plot_step) >= len(mean_rewards):\n",
    "            mean_rewards.append(mean_reward)\n",
    "            mean_td_error = sum(last_td_errors) / len(last_td_errors)\n",
    "            mean_td_errors.append(mean_td_error)\n",
    "        \n",
    "        if ep_idx % frame_step == 0:\n",
    "            ep_name = str(ep_idx) if ep_idx > 0 else '1'\n",
    "            \n",
    "            values = {\n",
    "                'no_ace': q_grid['no_ace'].max(axis=2),\n",
    "                'ace': q_grid['ace'].max(axis=2)\n",
    "            }\n",
    "            fig = draw_value_function(f'Value-function from Q-function on step: {ep_name}', values)\n",
    "\n",
    "            image_path = temp_dir / f'{ep_name}.png'\n",
    "            fig.write_image(image_path)\n",
    "            frames.append(imageio.imread(image_path))\n",
    "            \n",
    "    imageio.mimsave('blackjack_optimal_value_function.mp4', frames)\n",
    "    \n",
    "    px.line(y=mean_rewards, title='Mean reward').show()\n",
    "    px.line(y=last_td_errors, title='Mean td errors').show()\n",
    "    \n",
    "\n",
    "estimate_q_function()"
   ]
  },
  {
   "cell_type": "code",
   "execution_count": 9,
   "metadata": {},
   "outputs": [
    {
     "name": "stderr",
     "output_type": "stream",
     "text": [
      "100%|██████████| 100000/100000 [00:12<00:00, 7762.70it/s]\n",
      "IMAGEIO FFMPEG_WRITER WARNING: input image is not divisible by macro_block_size=16, resizing from (600, 500) to (608, 512) to ensure video compatibility with most codecs and players. To prevent resizing, make your input image divisible by the macro_block_size or set the macro_block_size to 1 (risking incompatibility).\n"
     ]
    },
    {
     "data": {
      "text/plain": [
       "-0.04214"
      ]
     },
     "execution_count": 9,
     "metadata": {},
     "output_type": "execute_result"
    }
   ],
   "source": [
    "policy_grids['no_ace'] = q_grid['no_ace'].argmax(axis=2)\n",
    "policy_grids['ace'] = q_grid['ace'].argmax(axis=2)\n",
    "\n",
    "new_policy_reward = estimate_policy(out_file_name='optimal_policy_game.mp4')\n",
    "new_policy_reward"
   ]
  },
  {
   "cell_type": "code",
   "execution_count": 12,
   "metadata": {},
   "outputs": [
    {
     "data": {
      "application/vnd.plotly.v1+json": {
       "config": {
        "plotlyServerURL": "https://plot.ly"
       },
       "data": [
        {
         "colorscale": [
          [
           0,
           "rgb(150,150,150)"
          ],
          [
           1,
           "rgb(155,230,155)"
          ]
         ],
         "showscale": false,
         "text": [
          [
           "Hit",
           "Hit",
           "Hit",
           "Hit",
           "Hit",
           "Stick",
           "Stick",
           "Stick",
           "Stick",
           "Stick"
          ],
          [
           "Hit",
           "Stick",
           "Stick",
           "Stick",
           "Stick",
           "Stick",
           "Stick",
           "Stick",
           "Stick",
           "Stick"
          ],
          [
           "Hit",
           "Stick",
           "Stick",
           "Stick",
           "Stick",
           "Stick",
           "Stick",
           "Stick",
           "Stick",
           "Stick"
          ],
          [
           "Hit",
           "Stick",
           "Stick",
           "Stick",
           "Stick",
           "Stick",
           "Stick",
           "Stick",
           "Stick",
           "Stick"
          ],
          [
           "Stick",
           "Stick",
           "Stick",
           "Stick",
           "Stick",
           "Stick",
           "Stick",
           "Stick",
           "Stick",
           "Stick"
          ],
          [
           "Stick",
           "Stick",
           "Stick",
           "Stick",
           "Stick",
           "Stick",
           "Stick",
           "Stick",
           "Stick",
           "Stick"
          ],
          [
           "Hit",
           "Hit",
           "Hit",
           "Hit",
           "Hit",
           "Stick",
           "Stick",
           "Stick",
           "Stick",
           "Stick"
          ],
          [
           "Hit",
           "Hit",
           "Hit",
           "Hit",
           "Hit",
           "Stick",
           "Stick",
           "Stick",
           "Stick",
           "Stick"
          ],
          [
           "Hit",
           "Hit",
           "Hit",
           "Hit",
           "Hit",
           "Stick",
           "Stick",
           "Stick",
           "Stick",
           "Stick"
          ],
          [
           "Hit",
           "Hit",
           "Hit",
           "Hit",
           "Hit",
           "Stick",
           "Stick",
           "Stick",
           "Stick",
           "Stick"
          ]
         ],
         "texttemplate": "%{text}",
         "type": "heatmap",
         "x": [
          12,
          13,
          14,
          15,
          16,
          17,
          18,
          19,
          20,
          21
         ],
         "xaxis": "x",
         "y": [
          "A",
          "2",
          "3",
          "4",
          "5",
          "6",
          "7",
          "8",
          "9",
          "10"
         ],
         "yaxis": "y",
         "z": [
          [
           1,
           1,
           1,
           1,
           1,
           0,
           0,
           0,
           0,
           0
          ],
          [
           1,
           0,
           0,
           0,
           0,
           0,
           0,
           0,
           0,
           0
          ],
          [
           1,
           0,
           0,
           0,
           0,
           0,
           0,
           0,
           0,
           0
          ],
          [
           1,
           0,
           0,
           0,
           0,
           0,
           0,
           0,
           0,
           0
          ],
          [
           0,
           0,
           0,
           0,
           0,
           0,
           0,
           0,
           0,
           0
          ],
          [
           0,
           0,
           0,
           0,
           0,
           0,
           0,
           0,
           0,
           0
          ],
          [
           1,
           1,
           1,
           1,
           1,
           0,
           0,
           0,
           0,
           0
          ],
          [
           1,
           1,
           1,
           1,
           1,
           0,
           0,
           0,
           0,
           0
          ],
          [
           1,
           1,
           1,
           1,
           1,
           0,
           0,
           0,
           0,
           0
          ],
          [
           1,
           1,
           1,
           1,
           1,
           0,
           0,
           0,
           0,
           0
          ]
         ]
        },
        {
         "colorscale": [
          [
           0,
           "rgb(150,150,150)"
          ],
          [
           1,
           "rgb(155,230,155)"
          ]
         ],
         "showscale": false,
         "text": [
          [
           "Hit",
           "Hit",
           "Hit",
           "Hit",
           "Hit",
           "Hit",
           "Hit",
           "Stick",
           "Stick",
           "Stick"
          ],
          [
           "Hit",
           "Hit",
           "Hit",
           "Hit",
           "Hit",
           "Hit",
           "Stick",
           "Stick",
           "Stick",
           "Stick"
          ],
          [
           "Hit",
           "Hit",
           "Hit",
           "Hit",
           "Hit",
           "Hit",
           "Stick",
           "Stick",
           "Stick",
           "Stick"
          ],
          [
           "Hit",
           "Hit",
           "Hit",
           "Hit",
           "Hit",
           "Hit",
           "Stick",
           "Stick",
           "Stick",
           "Stick"
          ],
          [
           "Hit",
           "Hit",
           "Hit",
           "Hit",
           "Hit",
           "Hit",
           "Stick",
           "Stick",
           "Stick",
           "Stick"
          ],
          [
           "Hit",
           "Hit",
           "Hit",
           "Hit",
           "Hit",
           "Hit",
           "Stick",
           "Stick",
           "Stick",
           "Stick"
          ],
          [
           "Hit",
           "Hit",
           "Hit",
           "Hit",
           "Hit",
           "Hit",
           "Stick",
           "Stick",
           "Stick",
           "Stick"
          ],
          [
           "Hit",
           "Hit",
           "Hit",
           "Hit",
           "Hit",
           "Hit",
           "Stick",
           "Stick",
           "Stick",
           "Stick"
          ],
          [
           "Hit",
           "Hit",
           "Hit",
           "Hit",
           "Hit",
           "Hit",
           "Hit",
           "Stick",
           "Stick",
           "Stick"
          ],
          [
           "Hit",
           "Hit",
           "Hit",
           "Hit",
           "Hit",
           "Hit",
           "Hit",
           "Stick",
           "Stick",
           "Stick"
          ]
         ],
         "texttemplate": "%{text}",
         "type": "heatmap",
         "x": [
          12,
          13,
          14,
          15,
          16,
          17,
          18,
          19,
          20,
          21
         ],
         "xaxis": "x2",
         "y": [
          "A",
          "2",
          "3",
          "4",
          "5",
          "6",
          "7",
          "8",
          "9",
          "10"
         ],
         "yaxis": "y2",
         "z": [
          [
           1,
           1,
           1,
           1,
           1,
           1,
           1,
           0,
           0,
           0
          ],
          [
           1,
           1,
           1,
           1,
           1,
           1,
           0,
           0,
           0,
           0
          ],
          [
           1,
           1,
           1,
           1,
           1,
           1,
           0,
           0,
           0,
           0
          ],
          [
           1,
           1,
           1,
           1,
           1,
           1,
           0,
           0,
           0,
           0
          ],
          [
           1,
           1,
           1,
           1,
           1,
           1,
           0,
           0,
           0,
           0
          ],
          [
           1,
           1,
           1,
           1,
           1,
           1,
           0,
           0,
           0,
           0
          ],
          [
           1,
           1,
           1,
           1,
           1,
           1,
           0,
           0,
           0,
           0
          ],
          [
           1,
           1,
           1,
           1,
           1,
           1,
           0,
           0,
           0,
           0
          ],
          [
           1,
           1,
           1,
           1,
           1,
           1,
           1,
           0,
           0,
           0
          ],
          [
           1,
           1,
           1,
           1,
           1,
           1,
           1,
           0,
           0,
           0
          ]
         ]
        }
       ],
       "layout": {
        "annotations": [
         {
          "font": {
           "size": 16
          },
          "showarrow": false,
          "text": "No ace",
          "x": 0.225,
          "xanchor": "center",
          "xref": "paper",
          "y": 1,
          "yanchor": "bottom",
          "yref": "paper"
         },
         {
          "font": {
           "size": 16
          },
          "showarrow": false,
          "text": "Ace",
          "x": 0.775,
          "xanchor": "center",
          "xref": "paper",
          "y": 1,
          "yanchor": "bottom",
          "yref": "paper"
         }
        ],
        "height": 400,
        "scene": {
         "xaxis": {
          "title": {
           "text": "Dealer"
          }
         },
         "yaxis": {
          "title": {
           "text": "Player"
          }
         }
        },
        "template": {
         "data": {
          "bar": [
           {
            "error_x": {
             "color": "#2a3f5f"
            },
            "error_y": {
             "color": "#2a3f5f"
            },
            "marker": {
             "line": {
              "color": "#E5ECF6",
              "width": 0.5
             },
             "pattern": {
              "fillmode": "overlay",
              "size": 10,
              "solidity": 0.2
             }
            },
            "type": "bar"
           }
          ],
          "barpolar": [
           {
            "marker": {
             "line": {
              "color": "#E5ECF6",
              "width": 0.5
             },
             "pattern": {
              "fillmode": "overlay",
              "size": 10,
              "solidity": 0.2
             }
            },
            "type": "barpolar"
           }
          ],
          "carpet": [
           {
            "aaxis": {
             "endlinecolor": "#2a3f5f",
             "gridcolor": "white",
             "linecolor": "white",
             "minorgridcolor": "white",
             "startlinecolor": "#2a3f5f"
            },
            "baxis": {
             "endlinecolor": "#2a3f5f",
             "gridcolor": "white",
             "linecolor": "white",
             "minorgridcolor": "white",
             "startlinecolor": "#2a3f5f"
            },
            "type": "carpet"
           }
          ],
          "choropleth": [
           {
            "colorbar": {
             "outlinewidth": 0,
             "ticks": ""
            },
            "type": "choropleth"
           }
          ],
          "contour": [
           {
            "colorbar": {
             "outlinewidth": 0,
             "ticks": ""
            },
            "colorscale": [
             [
              0,
              "#0d0887"
             ],
             [
              0.1111111111111111,
              "#46039f"
             ],
             [
              0.2222222222222222,
              "#7201a8"
             ],
             [
              0.3333333333333333,
              "#9c179e"
             ],
             [
              0.4444444444444444,
              "#bd3786"
             ],
             [
              0.5555555555555556,
              "#d8576b"
             ],
             [
              0.6666666666666666,
              "#ed7953"
             ],
             [
              0.7777777777777778,
              "#fb9f3a"
             ],
             [
              0.8888888888888888,
              "#fdca26"
             ],
             [
              1,
              "#f0f921"
             ]
            ],
            "type": "contour"
           }
          ],
          "contourcarpet": [
           {
            "colorbar": {
             "outlinewidth": 0,
             "ticks": ""
            },
            "type": "contourcarpet"
           }
          ],
          "heatmap": [
           {
            "colorbar": {
             "outlinewidth": 0,
             "ticks": ""
            },
            "colorscale": [
             [
              0,
              "#0d0887"
             ],
             [
              0.1111111111111111,
              "#46039f"
             ],
             [
              0.2222222222222222,
              "#7201a8"
             ],
             [
              0.3333333333333333,
              "#9c179e"
             ],
             [
              0.4444444444444444,
              "#bd3786"
             ],
             [
              0.5555555555555556,
              "#d8576b"
             ],
             [
              0.6666666666666666,
              "#ed7953"
             ],
             [
              0.7777777777777778,
              "#fb9f3a"
             ],
             [
              0.8888888888888888,
              "#fdca26"
             ],
             [
              1,
              "#f0f921"
             ]
            ],
            "type": "heatmap"
           }
          ],
          "heatmapgl": [
           {
            "colorbar": {
             "outlinewidth": 0,
             "ticks": ""
            },
            "colorscale": [
             [
              0,
              "#0d0887"
             ],
             [
              0.1111111111111111,
              "#46039f"
             ],
             [
              0.2222222222222222,
              "#7201a8"
             ],
             [
              0.3333333333333333,
              "#9c179e"
             ],
             [
              0.4444444444444444,
              "#bd3786"
             ],
             [
              0.5555555555555556,
              "#d8576b"
             ],
             [
              0.6666666666666666,
              "#ed7953"
             ],
             [
              0.7777777777777778,
              "#fb9f3a"
             ],
             [
              0.8888888888888888,
              "#fdca26"
             ],
             [
              1,
              "#f0f921"
             ]
            ],
            "type": "heatmapgl"
           }
          ],
          "histogram": [
           {
            "marker": {
             "pattern": {
              "fillmode": "overlay",
              "size": 10,
              "solidity": 0.2
             }
            },
            "type": "histogram"
           }
          ],
          "histogram2d": [
           {
            "colorbar": {
             "outlinewidth": 0,
             "ticks": ""
            },
            "colorscale": [
             [
              0,
              "#0d0887"
             ],
             [
              0.1111111111111111,
              "#46039f"
             ],
             [
              0.2222222222222222,
              "#7201a8"
             ],
             [
              0.3333333333333333,
              "#9c179e"
             ],
             [
              0.4444444444444444,
              "#bd3786"
             ],
             [
              0.5555555555555556,
              "#d8576b"
             ],
             [
              0.6666666666666666,
              "#ed7953"
             ],
             [
              0.7777777777777778,
              "#fb9f3a"
             ],
             [
              0.8888888888888888,
              "#fdca26"
             ],
             [
              1,
              "#f0f921"
             ]
            ],
            "type": "histogram2d"
           }
          ],
          "histogram2dcontour": [
           {
            "colorbar": {
             "outlinewidth": 0,
             "ticks": ""
            },
            "colorscale": [
             [
              0,
              "#0d0887"
             ],
             [
              0.1111111111111111,
              "#46039f"
             ],
             [
              0.2222222222222222,
              "#7201a8"
             ],
             [
              0.3333333333333333,
              "#9c179e"
             ],
             [
              0.4444444444444444,
              "#bd3786"
             ],
             [
              0.5555555555555556,
              "#d8576b"
             ],
             [
              0.6666666666666666,
              "#ed7953"
             ],
             [
              0.7777777777777778,
              "#fb9f3a"
             ],
             [
              0.8888888888888888,
              "#fdca26"
             ],
             [
              1,
              "#f0f921"
             ]
            ],
            "type": "histogram2dcontour"
           }
          ],
          "mesh3d": [
           {
            "colorbar": {
             "outlinewidth": 0,
             "ticks": ""
            },
            "type": "mesh3d"
           }
          ],
          "parcoords": [
           {
            "line": {
             "colorbar": {
              "outlinewidth": 0,
              "ticks": ""
             }
            },
            "type": "parcoords"
           }
          ],
          "pie": [
           {
            "automargin": true,
            "type": "pie"
           }
          ],
          "scatter": [
           {
            "fillpattern": {
             "fillmode": "overlay",
             "size": 10,
             "solidity": 0.2
            },
            "type": "scatter"
           }
          ],
          "scatter3d": [
           {
            "line": {
             "colorbar": {
              "outlinewidth": 0,
              "ticks": ""
             }
            },
            "marker": {
             "colorbar": {
              "outlinewidth": 0,
              "ticks": ""
             }
            },
            "type": "scatter3d"
           }
          ],
          "scattercarpet": [
           {
            "marker": {
             "colorbar": {
              "outlinewidth": 0,
              "ticks": ""
             }
            },
            "type": "scattercarpet"
           }
          ],
          "scattergeo": [
           {
            "marker": {
             "colorbar": {
              "outlinewidth": 0,
              "ticks": ""
             }
            },
            "type": "scattergeo"
           }
          ],
          "scattergl": [
           {
            "marker": {
             "colorbar": {
              "outlinewidth": 0,
              "ticks": ""
             }
            },
            "type": "scattergl"
           }
          ],
          "scattermapbox": [
           {
            "marker": {
             "colorbar": {
              "outlinewidth": 0,
              "ticks": ""
             }
            },
            "type": "scattermapbox"
           }
          ],
          "scatterpolar": [
           {
            "marker": {
             "colorbar": {
              "outlinewidth": 0,
              "ticks": ""
             }
            },
            "type": "scatterpolar"
           }
          ],
          "scatterpolargl": [
           {
            "marker": {
             "colorbar": {
              "outlinewidth": 0,
              "ticks": ""
             }
            },
            "type": "scatterpolargl"
           }
          ],
          "scatterternary": [
           {
            "marker": {
             "colorbar": {
              "outlinewidth": 0,
              "ticks": ""
             }
            },
            "type": "scatterternary"
           }
          ],
          "surface": [
           {
            "colorbar": {
             "outlinewidth": 0,
             "ticks": ""
            },
            "colorscale": [
             [
              0,
              "#0d0887"
             ],
             [
              0.1111111111111111,
              "#46039f"
             ],
             [
              0.2222222222222222,
              "#7201a8"
             ],
             [
              0.3333333333333333,
              "#9c179e"
             ],
             [
              0.4444444444444444,
              "#bd3786"
             ],
             [
              0.5555555555555556,
              "#d8576b"
             ],
             [
              0.6666666666666666,
              "#ed7953"
             ],
             [
              0.7777777777777778,
              "#fb9f3a"
             ],
             [
              0.8888888888888888,
              "#fdca26"
             ],
             [
              1,
              "#f0f921"
             ]
            ],
            "type": "surface"
           }
          ],
          "table": [
           {
            "cells": {
             "fill": {
              "color": "#EBF0F8"
             },
             "line": {
              "color": "white"
             }
            },
            "header": {
             "fill": {
              "color": "#C8D4E3"
             },
             "line": {
              "color": "white"
             }
            },
            "type": "table"
           }
          ]
         },
         "layout": {
          "annotationdefaults": {
           "arrowcolor": "#2a3f5f",
           "arrowhead": 0,
           "arrowwidth": 1
          },
          "autotypenumbers": "strict",
          "coloraxis": {
           "colorbar": {
            "outlinewidth": 0,
            "ticks": ""
           }
          },
          "colorscale": {
           "diverging": [
            [
             0,
             "#8e0152"
            ],
            [
             0.1,
             "#c51b7d"
            ],
            [
             0.2,
             "#de77ae"
            ],
            [
             0.3,
             "#f1b6da"
            ],
            [
             0.4,
             "#fde0ef"
            ],
            [
             0.5,
             "#f7f7f7"
            ],
            [
             0.6,
             "#e6f5d0"
            ],
            [
             0.7,
             "#b8e186"
            ],
            [
             0.8,
             "#7fbc41"
            ],
            [
             0.9,
             "#4d9221"
            ],
            [
             1,
             "#276419"
            ]
           ],
           "sequential": [
            [
             0,
             "#0d0887"
            ],
            [
             0.1111111111111111,
             "#46039f"
            ],
            [
             0.2222222222222222,
             "#7201a8"
            ],
            [
             0.3333333333333333,
             "#9c179e"
            ],
            [
             0.4444444444444444,
             "#bd3786"
            ],
            [
             0.5555555555555556,
             "#d8576b"
            ],
            [
             0.6666666666666666,
             "#ed7953"
            ],
            [
             0.7777777777777778,
             "#fb9f3a"
            ],
            [
             0.8888888888888888,
             "#fdca26"
            ],
            [
             1,
             "#f0f921"
            ]
           ],
           "sequentialminus": [
            [
             0,
             "#0d0887"
            ],
            [
             0.1111111111111111,
             "#46039f"
            ],
            [
             0.2222222222222222,
             "#7201a8"
            ],
            [
             0.3333333333333333,
             "#9c179e"
            ],
            [
             0.4444444444444444,
             "#bd3786"
            ],
            [
             0.5555555555555556,
             "#d8576b"
            ],
            [
             0.6666666666666666,
             "#ed7953"
            ],
            [
             0.7777777777777778,
             "#fb9f3a"
            ],
            [
             0.8888888888888888,
             "#fdca26"
            ],
            [
             1,
             "#f0f921"
            ]
           ]
          },
          "colorway": [
           "#636efa",
           "#EF553B",
           "#00cc96",
           "#ab63fa",
           "#FFA15A",
           "#19d3f3",
           "#FF6692",
           "#B6E880",
           "#FF97FF",
           "#FECB52"
          ],
          "font": {
           "color": "#2a3f5f"
          },
          "geo": {
           "bgcolor": "white",
           "lakecolor": "white",
           "landcolor": "#E5ECF6",
           "showlakes": true,
           "showland": true,
           "subunitcolor": "white"
          },
          "hoverlabel": {
           "align": "left"
          },
          "hovermode": "closest",
          "mapbox": {
           "style": "light"
          },
          "paper_bgcolor": "white",
          "plot_bgcolor": "#E5ECF6",
          "polar": {
           "angularaxis": {
            "gridcolor": "white",
            "linecolor": "white",
            "ticks": ""
           },
           "bgcolor": "#E5ECF6",
           "radialaxis": {
            "gridcolor": "white",
            "linecolor": "white",
            "ticks": ""
           }
          },
          "scene": {
           "xaxis": {
            "backgroundcolor": "#E5ECF6",
            "gridcolor": "white",
            "gridwidth": 2,
            "linecolor": "white",
            "showbackground": true,
            "ticks": "",
            "zerolinecolor": "white"
           },
           "yaxis": {
            "backgroundcolor": "#E5ECF6",
            "gridcolor": "white",
            "gridwidth": 2,
            "linecolor": "white",
            "showbackground": true,
            "ticks": "",
            "zerolinecolor": "white"
           },
           "zaxis": {
            "backgroundcolor": "#E5ECF6",
            "gridcolor": "white",
            "gridwidth": 2,
            "linecolor": "white",
            "showbackground": true,
            "ticks": "",
            "zerolinecolor": "white"
           }
          },
          "shapedefaults": {
           "line": {
            "color": "#2a3f5f"
           }
          },
          "ternary": {
           "aaxis": {
            "gridcolor": "white",
            "linecolor": "white",
            "ticks": ""
           },
           "baxis": {
            "gridcolor": "white",
            "linecolor": "white",
            "ticks": ""
           },
           "bgcolor": "#E5ECF6",
           "caxis": {
            "gridcolor": "white",
            "linecolor": "white",
            "ticks": ""
           }
          },
          "title": {
           "x": 0.05
          },
          "xaxis": {
           "automargin": true,
           "gridcolor": "white",
           "linecolor": "white",
           "ticks": "",
           "title": {
            "standoff": 15
           },
           "zerolinecolor": "white",
           "zerolinewidth": 2
          },
          "yaxis": {
           "automargin": true,
           "gridcolor": "white",
           "linecolor": "white",
           "ticks": "",
           "title": {
            "standoff": 15
           },
           "zerolinecolor": "white",
           "zerolinewidth": 2
          }
         }
        },
        "width": 800,
        "xaxis": {
         "anchor": "y",
         "domain": [
          0,
          0.45
         ],
         "dtick": 1,
         "linewidth": 1,
         "showline": true,
         "title": {
          "text": "Player scores"
         }
        },
        "xaxis2": {
         "anchor": "y2",
         "domain": [
          0.55,
          1
         ],
         "dtick": 1,
         "linewidth": 1,
         "showline": true,
         "title": {
          "text": "Player scores"
         }
        },
        "yaxis": {
         "anchor": "x",
         "domain": [
          0,
          1
         ],
         "dtick": 1,
         "linewidth": 1,
         "showline": true,
         "title": {
          "text": "Dealer card"
         }
        },
        "yaxis2": {
         "anchor": "x2",
         "domain": [
          0,
          1
         ],
         "dtick": 1,
         "linewidth": 1,
         "showline": true,
         "title": {
          "text": "Dealer card"
         }
        }
       }
      }
     },
     "metadata": {},
     "output_type": "display_data"
    }
   ],
   "source": [
    "import plotly.express as px\n",
    "\n",
    "fig = make_subplots(rows=1, cols=2, subplot_titles=(\"No ace\", \"Ace\"))\n",
    "dealer_axis = np.linspace(1, 10, 10)\n",
    "colorscale = [[0, \"rgb(150,150,150)\"], [1, \"rgb(155,230,155)\"]]\n",
    "\n",
    "annotations = ['Stick', 'Hit']\n",
    "policy_texts = {\n",
    "    'no_ace': [[annotations[policy_grids['no_ace'][i, j]] for j in range(10)] for i in range(10)],\n",
    "    'ace': [[annotations[policy_grids['ace'][i, j]] for j in range(10)] for i in range(10)]\n",
    "}\n",
    "\n",
    "fig.add_trace(go.Heatmap(x=player_scores_axis, y=card_names, z=policy_grids['no_ace'],\n",
    "                         colorscale=colorscale,\n",
    "                         text=policy_texts['no_ace'], texttemplate=\"%{text}\"), 1, 1)\n",
    "fig.add_trace(go.Heatmap(x=player_scores_axis, y=card_names, z=policy_grids['ace'],\n",
    "                         colorscale=colorscale,\n",
    "                         text=policy_texts['ace'], texttemplate=\"%{text}\"), 1, 2)\n",
    "fig.update_layout(width=800, height=400)\n",
    "fig.update_scenes(xaxis_title_text='Dealer', yaxis_title_text='Player')\n",
    "fig.update_traces(showscale=False)\n",
    "fig.update_xaxes(showline=True, linewidth=1, title='Player scores', dtick=1)\n",
    "fig.update_yaxes(showline=True, linewidth=1, title='Dealer card', dtick=1)\n",
    "\n",
    "\n",
    "fig.show()\n"
   ]
  }
 ],
 "metadata": {
  "kernelspec": {
   "display_name": "Python 3",
   "language": "python",
   "name": "python3"
  },
  "language_info": {
   "codemirror_mode": {
    "name": "ipython",
    "version": 3
   },
   "file_extension": ".py",
   "mimetype": "text/x-python",
   "name": "python",
   "nbconvert_exporter": "python",
   "pygments_lexer": "ipython3",
   "version": "3.7.9"
  }
 },
 "nbformat": 4,
 "nbformat_minor": 2
}
