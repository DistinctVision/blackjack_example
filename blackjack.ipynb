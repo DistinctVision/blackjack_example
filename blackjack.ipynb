{
 "cells": [
  {
   "cell_type": "markdown",
   "metadata": {},
   "source": [
    "Environment setup"
   ]
  },
  {
   "cell_type": "code",
   "execution_count": 1,
   "metadata": {},
   "outputs": [],
   "source": [
    "import typing as tp\n",
    "import numpy as np\n",
    "import gymnasium as gym\n",
    "\n",
    "cards = [1, 2, 3, 4, 5, 6, 7, 8, 9, 10, 10, 10, 10]\n",
    "card_names = ['A', '2', '3', '4', '5', '6', '7', '8', '9', '10']\n",
    "\n",
    "player_scores_axis = np.arange(12, 22, 1)\n",
    "dealer_card_offset = 1\n",
    "player_scores_offset = 12\n",
    "\n",
    "def default_player_policy_func(dealer_card: int, player_scores: int, player_has_ace: bool) -> int:\n",
    "    if player_has_ace:\n",
    "        if player_scores < 20:\n",
    "            return 1\n",
    "    else:\n",
    "        if player_scores < 16:\n",
    "            return 1\n",
    "    return 0\n",
    "\n",
    "policy_grids: tp.Dict[str, np.ndarray] = {\n",
    "    'no_ace': np.zeros((10, 10), dtype=int),\n",
    "    'ace': np.zeros((10, 10), dtype=int)\n",
    "}\n",
    "\n",
    "for dealer_card in range(1, 10):\n",
    "    for player_scores in range(12, 22):\n",
    "        cell_idx = (dealer_card - dealer_card_offset, player_scores - player_scores_offset)\n",
    "        policy_grids['no_ace'][cell_idx] = default_player_policy_func(dealer_card, player_scores, False)\n",
    "        policy_grids['ace'][cell_idx] = default_player_policy_func(dealer_card, player_scores, True)\n",
    "        \n",
    "def take_action_from_policy_grid(dealer_card: int, player_scores: int, player_has_ace: bool) -> int:\n",
    "    global policy_grids\n",
    "    if player_scores < player_scores_offset:\n",
    "        return 1\n",
    "    cell_idx = (dealer_card - dealer_card_offset, player_scores - player_scores_offset)\n",
    "    assert cell_idx[0] >= 0 and cell_idx[1] >= 0\n",
    "    action = policy_grids['ace' if player_has_ace else 'no_ace'][cell_idx]\n",
    "    return action\n"
   ]
  },
  {
   "cell_type": "code",
   "execution_count": 2,
   "metadata": {},
   "outputs": [
    {
     "name": "stderr",
     "output_type": "stream",
     "text": [
      "100%|██████████| 100000/100000 [00:12<00:00, 7732.32it/s]\n",
      "IMAGEIO FFMPEG_WRITER WARNING: input image is not divisible by macro_block_size=16, resizing from (600, 500) to (608, 512) to ensure video compatibility with most codecs and players. To prevent resizing, make your input image divisible by the macro_block_size or set the macro_block_size to 1 (risking incompatibility).\n"
     ]
    },
    {
     "data": {
      "text/plain": [
       "-0.09183"
      ]
     },
     "execution_count": 2,
     "metadata": {},
     "output_type": "execute_result"
    }
   ],
   "source": [
    "from tqdm import tqdm\n",
    "import cv2\n",
    "import imageio\n",
    "\n",
    "def estimate_policy(n_experiments: int = 100_000, out_file_name = None, render_every_n_episode: int = 1_000) -> float:\n",
    "    \n",
    "    env = gym.make(\"Blackjack-v1\", sab=True, render_mode='rgb_array' if out_file_name is not None else None)\n",
    "    \n",
    "    frames = []\n",
    "    \n",
    "    sum_reward = 0\n",
    "    for ep_idx in tqdm(range(n_experiments)):\n",
    "        \n",
    "        if out_file_name is not None and ep_idx % render_every_n_episode == 0:\n",
    "            render_flag = True\n",
    "            cur_avg_reward = (sum_reward / ep_idx) if ep_idx > 0 else 0\n",
    "        else:\n",
    "            render_flag = False\n",
    "    \n",
    "        obs, info = env.reset()\n",
    "        done = False\n",
    "        ep_reward = 0\n",
    "\n",
    "        # play one episode\n",
    "        while not done:\n",
    "            player_scores, dealer_card, player_has_ace = obs\n",
    "            \n",
    "            action = take_action_from_policy_grid(dealer_card, player_scores, player_has_ace)\n",
    "            next_obs, reward, terminated, truncated, info = env.step(action)\n",
    "            ep_reward += reward\n",
    "            \n",
    "            done = terminated or truncated\n",
    "            obs = next_obs\n",
    "            \n",
    "            if render_flag:\n",
    "                frame = env.render()\n",
    "                cv2.putText(frame, f'Mean reward: {cur_avg_reward:.2f}', (230, 40),\n",
    "                            cv2.FONT_HERSHEY_SIMPLEX, 1.1, (255, 255, 0), 2, 2)\n",
    "                frames.append(frame)\n",
    "        sum_reward += ep_reward\n",
    "    \n",
    "    if out_file_name is not None:\n",
    "        imageio.mimsave(out_file_name, frames)\n",
    "    \n",
    "    return sum_reward / n_experiments\n",
    "\n",
    "default_policy_reward = estimate_policy(out_file_name=\"default_policy_game.mp4\")\n",
    "default_policy_reward"
   ]
  },
  {
   "cell_type": "code",
   "execution_count": 3,
   "metadata": {},
   "outputs": [
    {
     "name": "stderr",
     "output_type": "stream",
     "text": [
      "  0%|          | 0/303000 [00:00<?, ?it/s]C:\\Users\\Alex\\AppData\\Roaming\\Python\\Python37\\site-packages\\ipykernel_launcher.py:105: DeprecationWarning:\n",
      "\n",
      "Starting with ImageIO v3 the behavior of this function will switch to that of iio.v3.imread. To keep the current behavior (and make this warning disappear) use `import imageio.v2 as imageio` or call `imageio.v2.imread` directly.\n",
      "\n",
      "100%|██████████| 303000/303000 [02:50<00:00, 1772.60it/s]\n",
      "IMAGEIO FFMPEG_WRITER WARNING: input image is not divisible by macro_block_size=16, resizing from (1000, 500) to (1008, 512) to ensure video compatibility with most codecs and players. To prevent resizing, make your input image divisible by the macro_block_size or set the macro_block_size to 1 (risking incompatibility).\n"
     ]
    }
   ],
   "source": [
    "from tqdm import tqdm\n",
    "from pathlib import Path\n",
    "import shutil\n",
    "import imageio\n",
    "import plotly.graph_objects as go\n",
    "from plotly.subplots import make_subplots\n",
    "\n",
    "camera = dict(\n",
    "    up=dict(x=0, y=0, z=1),\n",
    "    center=dict(x=0, y=0, z=0),\n",
    "    eye=dict(x=-1.25, y=1.25, z=1.25)\n",
    ")\n",
    "\n",
    "def draw_value_function(title: str, values: tp.Dict[str, np.ndarray]) -> go.Figure:\n",
    "\n",
    "    fig = make_subplots(rows=1, cols=2,\n",
    "                        shared_xaxes=False,\n",
    "                        specs=[[{'type': 'surface'}, {'type': 'surface'}]],\n",
    "                        subplot_titles=[\"No ace\", \"Ace\"])\n",
    "\n",
    "    fig.add_trace(go.Surface(y=card_names, x=player_scores_axis,\n",
    "                             z=values['no_ace'], colorscale='YlGnBu'), col=1, row=1)\n",
    "    fig.layout.scene1.camera = camera\n",
    "    fig.layout.scene1.xaxis.nticks = 9\n",
    "    fig.layout.scene1.yaxis.nticks = 10\n",
    "    fig.add_trace(go.Surface(y=card_names, x=player_scores_axis, z=values['ace'], colorscale='YlGnBu'), col=2, row=1)\n",
    "    fig.layout.scene2.camera = camera\n",
    "    fig.layout.scene2.xaxis.nticks = 10\n",
    "    fig.layout.scene2.yaxis.nticks = 10\n",
    "    fig.update_layout(scene_camera=camera, title=title,\n",
    "                      margin=dict(r=25, l=25, b=10, t=80),\n",
    "                      width=1000,\n",
    "                      showlegend=False)\n",
    "    fig.update_scenes(xaxis_title_text='Player',  \n",
    "                      yaxis_title_text='Dealer',  \n",
    "                      zaxis_title_text='Reward')\n",
    "    return fig\n",
    "\n",
    "\n",
    "def estimate_value_function(num_episodes: int = 300_000, frame_step: int = 3_000):\n",
    "    \n",
    "    env = gym.make(\"Blackjack-v1\", sab=True)\n",
    "\n",
    "    temp_dir = Path('tmp')\n",
    "    if temp_dir.exists():\n",
    "        shutil.rmtree(temp_dir)\n",
    "    temp_dir.mkdir()\n",
    "    \n",
    "    value_grid_count: tp.Dict[str, np.ndarray] = {\n",
    "        'no_ace': np.zeros((10, 10), dtype=int),\n",
    "        'ace': np.zeros((10, 10), dtype=int)\n",
    "    }\n",
    "    value_grid: tp.Dict[str, np.ndarray] = {\n",
    "        'no_ace': np.zeros((10, 10), dtype=float),\n",
    "        'ace': np.zeros((10, 10), dtype=float)\n",
    "    }\n",
    "    \n",
    "    # fill a state with a score of 21 as a winning position\n",
    "    value_grid['no_ace'][:, -1] = 1\n",
    "    value_grid['ace'][:, -1] = 1\n",
    "    \n",
    "    image_paths = []\n",
    "    \n",
    "    for ep_idx in tqdm(range(num_episodes + frame_step)):\n",
    "    \n",
    "        obs, info = env.reset()\n",
    "        done = False\n",
    "\n",
    "        # play one episode\n",
    "        while not done:\n",
    "            player_scores, dealer_card, player_has_ace = obs\n",
    "            action = take_action_from_policy_grid(dealer_card, player_scores, player_has_ace)\n",
    "            \n",
    "            next_obs, reward, terminated, truncated, info = env.step(action)\n",
    "            \n",
    "            done = terminated or truncated\n",
    "            \n",
    "            if player_scores >= player_scores_offset:\n",
    "                \n",
    "                v_g_count = value_grid_count['ace' if player_has_ace else 'no_ace']\n",
    "                v_g = value_grid['ace' if player_has_ace else 'no_ace']\n",
    "                \n",
    "                cell_idx = (dealer_card - dealer_card_offset, player_scores - player_scores_offset)\n",
    "                \n",
    "                N = v_g_count[cell_idx] + 1\n",
    "                v_g_count[cell_idx] = N\n",
    "                if done:\n",
    "                    td_target = reward\n",
    "                else:\n",
    "                    next_player_scores, next_dealer_card, next_player_has_ace = next_obs\n",
    "                    next_v_g = value_grid['ace' if next_player_has_ace else 'no_ace']\n",
    "                \n",
    "                    next_cell_idx = (next_dealer_card - dealer_card_offset, next_player_scores - player_scores_offset)\n",
    "                    td_target = reward + next_v_g[next_cell_idx]\n",
    "                v_g[cell_idx] += (td_target - v_g[cell_idx]) / N\n",
    "                \n",
    "            obs = next_obs\n",
    "        \n",
    "        if ep_idx % frame_step == 0:\n",
    "            ep_name = str(ep_idx) if ep_idx > 0 else '1'\n",
    "            fig = draw_value_function(f'Value function on step: {ep_name}', value_grid)\n",
    "\n",
    "            image_path = temp_dir / f'{ep_name}.png'\n",
    "            fig.write_image(image_path)\n",
    "            image_paths.append(imageio.imread(image_path))\n",
    "            \n",
    "    imageio.mimsave('blackjack_default_value_function.mp4', image_paths, fps=20)\n",
    "\n",
    "estimate_value_function()"
   ]
  },
  {
   "cell_type": "code",
   "execution_count": 30,
   "metadata": {},
   "outputs": [
    {
     "name": "stderr",
     "output_type": "stream",
     "text": [
      "  0%|          | 0/10100000 [00:00<?, ?it/s]C:\\Users\\Alex\\AppData\\Roaming\\Python\\Python37\\site-packages\\ipykernel_launcher.py:105: DeprecationWarning:\n",
      "\n",
      "Starting with ImageIO v3 the behavior of this function will switch to that of iio.v3.imread. To keep the current behavior (and make this warning disappear) use `import imageio.v2 as imageio` or call `imageio.v2.imread` directly.\n",
      "\n",
      "100%|██████████| 10100000/10100000 [25:27<00:00, 6612.82it/s] \n",
      "IMAGEIO FFMPEG_WRITER WARNING: input image is not divisible by macro_block_size=16, resizing from (1000, 500) to (1008, 512) to ensure video compatibility with most codecs and players. To prevent resizing, make your input image divisible by the macro_block_size or set the macro_block_size to 1 (risking incompatibility).\n"
     ]
    },
    {
     "data": {
      "application/vnd.plotly.v1+json": {
       "config": {
        "plotlyServerURL": "https://plot.ly"
       },
       "data": [
        {
         "hovertemplate": "x=%{x}<br>y=%{y}<extra></extra>",
         "legendgroup": "",
         "line": {
          "color": "#636efa",
          "dash": "solid"
         },
         "marker": {
          "symbol": "circle"
         },
         "mode": "lines",
         "name": "",
         "showlegend": false,
         "type": "scattergl",
         "x": [
          0,
          1,
          2,
          3,
          4,
          5,
          6,
          7,
          8,
          9,
          10,
          11,
          12,
          13,
          14,
          15,
          16,
          17,
          18,
          19,
          20,
          21,
          22,
          23,
          24,
          25,
          26,
          27,
          28,
          29,
          30,
          31,
          32,
          33,
          34,
          35,
          36,
          37,
          38,
          39,
          40,
          41,
          42,
          43,
          44,
          45,
          46,
          47,
          48,
          49,
          50,
          51,
          52,
          53,
          54,
          55,
          56,
          57,
          58,
          59,
          60,
          61,
          62,
          63,
          64,
          65,
          66,
          67,
          68,
          69,
          70,
          71,
          72,
          73,
          74,
          75,
          76,
          77,
          78,
          79,
          80,
          81,
          82,
          83,
          84,
          85,
          86,
          87,
          88,
          89,
          90,
          91,
          92,
          93,
          94,
          95,
          96,
          97,
          98,
          99,
          100,
          101,
          102,
          103,
          104,
          105,
          106,
          107,
          108,
          109,
          110,
          111,
          112,
          113,
          114,
          115,
          116,
          117,
          118,
          119,
          120,
          121,
          122,
          123,
          124,
          125,
          126,
          127,
          128,
          129,
          130,
          131,
          132,
          133,
          134,
          135,
          136,
          137,
          138,
          139,
          140,
          141,
          142,
          143,
          144,
          145,
          146,
          147,
          148,
          149,
          150,
          151,
          152,
          153,
          154,
          155,
          156,
          157,
          158,
          159,
          160,
          161,
          162,
          163,
          164,
          165,
          166,
          167,
          168,
          169,
          170,
          171,
          172,
          173,
          174,
          175,
          176,
          177,
          178,
          179,
          180,
          181,
          182,
          183,
          184,
          185,
          186,
          187,
          188,
          189,
          190,
          191,
          192,
          193,
          194,
          195,
          196,
          197,
          198,
          199,
          200,
          201,
          202,
          203,
          204,
          205,
          206,
          207,
          208,
          209,
          210,
          211,
          212,
          213,
          214,
          215,
          216,
          217,
          218,
          219,
          220,
          221,
          222,
          223,
          224,
          225,
          226,
          227,
          228,
          229,
          230,
          231,
          232,
          233,
          234,
          235,
          236,
          237,
          238,
          239,
          240,
          241,
          242,
          243,
          244,
          245,
          246,
          247,
          248,
          249,
          250,
          251,
          252,
          253,
          254,
          255,
          256,
          257,
          258,
          259,
          260,
          261,
          262,
          263,
          264,
          265,
          266,
          267,
          268,
          269,
          270,
          271,
          272,
          273,
          274,
          275,
          276,
          277,
          278,
          279,
          280,
          281,
          282,
          283,
          284,
          285,
          286,
          287,
          288,
          289,
          290,
          291,
          292,
          293,
          294,
          295,
          296,
          297,
          298,
          299,
          300,
          301,
          302,
          303,
          304,
          305,
          306,
          307,
          308,
          309,
          310,
          311,
          312,
          313,
          314,
          315,
          316,
          317,
          318,
          319,
          320,
          321,
          322,
          323,
          324,
          325,
          326,
          327,
          328,
          329,
          330,
          331,
          332,
          333,
          334,
          335,
          336,
          337,
          338,
          339,
          340,
          341,
          342,
          343,
          344,
          345,
          346,
          347,
          348,
          349,
          350,
          351,
          352,
          353,
          354,
          355,
          356,
          357,
          358,
          359,
          360,
          361,
          362,
          363,
          364,
          365,
          366,
          367,
          368,
          369,
          370,
          371,
          372,
          373,
          374,
          375,
          376,
          377,
          378,
          379,
          380,
          381,
          382,
          383,
          384,
          385,
          386,
          387,
          388,
          389,
          390,
          391,
          392,
          393,
          394,
          395,
          396,
          397,
          398,
          399,
          400,
          401,
          402,
          403,
          404,
          405,
          406,
          407,
          408,
          409,
          410,
          411,
          412,
          413,
          414,
          415,
          416,
          417,
          418,
          419,
          420,
          421,
          422,
          423,
          424,
          425,
          426,
          427,
          428,
          429,
          430,
          431,
          432,
          433,
          434,
          435,
          436,
          437,
          438,
          439,
          440,
          441,
          442,
          443,
          444,
          445,
          446,
          447,
          448,
          449,
          450,
          451,
          452,
          453,
          454,
          455,
          456,
          457,
          458,
          459,
          460,
          461,
          462,
          463,
          464,
          465,
          466,
          467,
          468,
          469,
          470,
          471,
          472,
          473,
          474,
          475,
          476,
          477,
          478,
          479,
          480,
          481,
          482,
          483,
          484,
          485,
          486,
          487,
          488,
          489,
          490,
          491,
          492,
          493,
          494,
          495,
          496,
          497,
          498,
          499,
          500,
          501,
          502,
          503,
          504,
          505,
          506,
          507,
          508,
          509,
          510,
          511,
          512,
          513,
          514,
          515,
          516,
          517,
          518,
          519,
          520,
          521,
          522,
          523,
          524,
          525,
          526,
          527,
          528,
          529,
          530,
          531,
          532,
          533,
          534,
          535,
          536,
          537,
          538,
          539,
          540,
          541,
          542,
          543,
          544,
          545,
          546,
          547,
          548,
          549,
          550,
          551,
          552,
          553,
          554,
          555,
          556,
          557,
          558,
          559,
          560,
          561,
          562,
          563,
          564,
          565,
          566,
          567,
          568,
          569,
          570,
          571,
          572,
          573,
          574,
          575,
          576,
          577,
          578,
          579,
          580,
          581,
          582,
          583,
          584,
          585,
          586,
          587,
          588,
          589,
          590,
          591,
          592,
          593,
          594,
          595,
          596,
          597,
          598,
          599,
          600,
          601,
          602,
          603,
          604,
          605,
          606,
          607,
          608,
          609,
          610,
          611,
          612,
          613,
          614,
          615,
          616,
          617,
          618,
          619,
          620,
          621,
          622,
          623,
          624,
          625,
          626,
          627,
          628,
          629,
          630,
          631,
          632,
          633,
          634,
          635,
          636,
          637,
          638,
          639,
          640,
          641,
          642,
          643,
          644,
          645,
          646,
          647,
          648,
          649,
          650,
          651,
          652,
          653,
          654,
          655,
          656,
          657,
          658,
          659,
          660,
          661,
          662,
          663,
          664,
          665,
          666,
          667,
          668,
          669,
          670,
          671,
          672,
          673,
          674,
          675,
          676,
          677,
          678,
          679,
          680,
          681,
          682,
          683,
          684,
          685,
          686,
          687,
          688,
          689,
          690,
          691,
          692,
          693,
          694,
          695,
          696,
          697,
          698,
          699,
          700,
          701,
          702,
          703,
          704,
          705,
          706,
          707,
          708,
          709,
          710,
          711,
          712,
          713,
          714,
          715,
          716,
          717,
          718,
          719,
          720,
          721,
          722,
          723,
          724,
          725,
          726,
          727,
          728,
          729,
          730,
          731,
          732,
          733,
          734,
          735,
          736,
          737,
          738,
          739,
          740,
          741,
          742,
          743,
          744,
          745,
          746,
          747,
          748,
          749,
          750,
          751,
          752,
          753,
          754,
          755,
          756,
          757,
          758,
          759,
          760,
          761,
          762,
          763,
          764,
          765,
          766,
          767,
          768,
          769,
          770,
          771,
          772,
          773,
          774,
          775,
          776,
          777,
          778,
          779,
          780,
          781,
          782,
          783,
          784,
          785,
          786,
          787,
          788,
          789,
          790,
          791,
          792,
          793,
          794,
          795,
          796,
          797,
          798,
          799,
          800,
          801,
          802,
          803,
          804,
          805,
          806,
          807,
          808,
          809,
          810,
          811,
          812,
          813,
          814,
          815,
          816,
          817,
          818,
          819,
          820,
          821,
          822,
          823,
          824,
          825,
          826,
          827,
          828,
          829,
          830,
          831,
          832,
          833,
          834,
          835,
          836,
          837,
          838,
          839,
          840,
          841,
          842,
          843,
          844,
          845,
          846,
          847,
          848,
          849,
          850,
          851,
          852,
          853,
          854,
          855,
          856,
          857,
          858,
          859,
          860,
          861,
          862,
          863,
          864,
          865,
          866,
          867,
          868,
          869,
          870,
          871,
          872,
          873,
          874,
          875,
          876,
          877,
          878,
          879,
          880,
          881,
          882,
          883,
          884,
          885,
          886,
          887,
          888,
          889,
          890,
          891,
          892,
          893,
          894,
          895,
          896,
          897,
          898,
          899,
          900,
          901,
          902,
          903,
          904,
          905,
          906,
          907,
          908,
          909,
          910,
          911,
          912,
          913,
          914,
          915,
          916,
          917,
          918,
          919,
          920,
          921,
          922,
          923,
          924,
          925,
          926,
          927,
          928,
          929,
          930,
          931,
          932,
          933,
          934,
          935,
          936,
          937,
          938,
          939,
          940,
          941,
          942,
          943,
          944,
          945,
          946,
          947,
          948,
          949,
          950,
          951,
          952,
          953,
          954,
          955,
          956,
          957,
          958,
          959,
          960,
          961,
          962,
          963,
          964,
          965,
          966,
          967,
          968,
          969,
          970,
          971,
          972,
          973,
          974,
          975,
          976,
          977,
          978,
          979,
          980,
          981,
          982,
          983,
          984,
          985,
          986,
          987,
          988,
          989,
          990,
          991,
          992,
          993,
          994,
          995,
          996,
          997,
          998,
          999,
          1000,
          1001,
          1002,
          1003,
          1004,
          1005,
          1006,
          1007,
          1008,
          1009,
          1010
         ],
         "xaxis": "x",
         "y": [
          -1,
          0,
          -0.397,
          -0.387,
          -0.379,
          -0.427,
          -0.392,
          -0.404,
          -0.372,
          -0.343,
          -0.308,
          -0.339,
          -0.336,
          -0.357,
          -0.401,
          -0.267,
          -0.288,
          -0.299,
          -0.303,
          -0.319,
          -0.341,
          -0.332,
          -0.32,
          -0.261,
          -0.273,
          -0.289,
          -0.278,
          -0.295,
          -0.287,
          -0.264,
          -0.265,
          -0.257,
          -0.305,
          -0.289,
          -0.269,
          -0.28,
          -0.212,
          -0.242,
          -0.26,
          -0.258,
          -0.234,
          -0.233,
          -0.243,
          -0.17,
          -0.256,
          -0.198,
          -0.259,
          -0.23,
          -0.19,
          -0.219,
          -0.186,
          -0.202,
          -0.218,
          -0.188,
          -0.18,
          -0.175,
          -0.179,
          -0.174,
          -0.239,
          -0.15,
          -0.208,
          -0.223,
          -0.217,
          -0.176,
          -0.169,
          -0.161,
          -0.207,
          -0.205,
          -0.202,
          -0.151,
          -0.175,
          -0.187,
          -0.147,
          -0.129,
          -0.207,
          -0.167,
          -0.173,
          -0.144,
          -0.143,
          -0.152,
          -0.158,
          -0.169,
          -0.176,
          -0.127,
          -0.146,
          -0.101,
          -0.256,
          -0.14,
          -0.163,
          -0.178,
          -0.147,
          -0.16,
          -0.102,
          -0.105,
          -0.085,
          -0.13,
          -0.111,
          -0.138,
          -0.144,
          -0.158,
          -0.095,
          -0.116,
          -0.16,
          -0.179,
          -0.094,
          -0.106,
          -0.096,
          -0.13,
          -0.111,
          -0.165,
          -0.077,
          -0.098,
          -0.145,
          -0.081,
          -0.095,
          -0.101,
          -0.127,
          -0.111,
          -0.023,
          -0.114,
          -0.141,
          -0.125,
          -0.101,
          -0.131,
          -0.118,
          -0.085,
          -0.151,
          -0.082,
          -0.114,
          -0.083,
          -0.057,
          -0.1,
          -0.072,
          -0.064,
          -0.083,
          -0.08,
          -0.115,
          -0.112,
          -0.076,
          -0.14,
          -0.114,
          -0.087,
          -0.169,
          -0.041,
          -0.092,
          -0.075,
          -0.107,
          -0.032,
          -0.095,
          -0.065,
          -0.054,
          -0.087,
          -0.104,
          -0.058,
          -0.033,
          -0.119,
          -0.036,
          -0.101,
          -0.133,
          -0.069,
          -0.082,
          -0.086,
          -0.075,
          -0.092,
          -0.11,
          -0.07,
          -0.071,
          -0.029,
          -0.079,
          -0.085,
          -0.048,
          -0.084,
          -0.054,
          -0.037,
          -0.1,
          -0.078,
          -0.062,
          -0.118,
          -0.075,
          -0.109,
          -0.07,
          -0.081,
          -0.128,
          -0.1,
          -0.095,
          -0.069,
          -0.094,
          -0.055,
          -0.092,
          -0.039,
          -0.097,
          -0.066,
          -0.128,
          -0.095,
          -0.057,
          -0.105,
          -0.091,
          -0.094,
          -0.032,
          -0.033,
          -0.072,
          -0.07,
          -0.009,
          -0.051,
          -0.055,
          -0.089,
          -0.104,
          -0.096,
          -0.043,
          -0.055,
          -0.082,
          -0.018,
          -0.033,
          -0.058,
          -0.039,
          -0.016,
          -0.087,
          -0.081,
          -0.015,
          -0.036,
          -0.082,
          -0.036,
          -0.042,
          -0.084,
          -0.059,
          -0.063,
          -0.039,
          -0.045,
          -0.065,
          -0.072,
          -0.057,
          -0.101,
          0.012,
          -0.06,
          -0.076,
          -0.125,
          -0.038,
          -0.066,
          -0.031,
          -0.065,
          -0.051,
          -0.029,
          -0.075,
          -0.077,
          -0.023,
          -0.069,
          -0.014,
          -0.031,
          -0.062,
          -0.073,
          -0.047,
          -0.078,
          -0.055,
          -0.094,
          -0.065,
          -0.083,
          -0.055,
          -0.03,
          -0.046,
          -0.11,
          -0.029,
          -0.07,
          -0.066,
          -0.057,
          0.011,
          -0.051,
          -0.035,
          0.002,
          -0.043,
          -0.077,
          -0.08,
          -0.055,
          -0.036,
          -0.085,
          -0.018,
          -0.056,
          -0.065,
          -0.087,
          -0.026,
          -0.072,
          -0.104,
          0.002,
          0.014,
          -0.098,
          -0.062,
          -0.068,
          -0.07,
          -0.073,
          -0.066,
          -0.047,
          -0.078,
          -0.106,
          -0.055,
          -0.06,
          -0.026,
          -0.057,
          -0.051,
          -0.047,
          -0.042,
          0.008,
          -0.03,
          -0.088,
          -0.12,
          -0.04,
          -0.048,
          -0.025,
          -0.103,
          -0.088,
          -0.054,
          -0.052,
          -0.028,
          -0.003,
          -0.039,
          -0.063,
          -0.023,
          -0.05,
          -0.06,
          -0.074,
          -0.077,
          -0.093,
          -0.047,
          -0.046,
          -0.041,
          -0.055,
          -0.006,
          -0.067,
          -0.075,
          -0.087,
          -0.032,
          0.014,
          -0.092,
          -0.059,
          -0.076,
          -0.042,
          -0.036,
          -0.027,
          -0.032,
          -0.097,
          -0.093,
          -0.051,
          -0.018,
          -0.069,
          -0.008,
          -0.022,
          -0.075,
          -0.062,
          -0.019,
          -0.063,
          -0.064,
          -0.077,
          -0.005,
          -0.064,
          -0.061,
          -0.078,
          -0.024,
          -0.014,
          -0.021,
          -0.071,
          -0.016,
          -0.077,
          -0.035,
          0.021,
          -0.075,
          -0.038,
          -0.041,
          -0.051,
          -0.089,
          -0.063,
          -0.079,
          0.017,
          -0.086,
          -0.028,
          -0.083,
          -0.067,
          -0.039,
          -0.082,
          -0.015,
          -0.011,
          -0.033,
          -0.014,
          0.01,
          -0.04,
          -0.017,
          -0.042,
          -0.068,
          -0.038,
          -0.047,
          -0.031,
          -0.019,
          -0.037,
          -0.093,
          -0.028,
          0.002,
          -0.048,
          -0.01,
          -0.05,
          0.001,
          0.015,
          -0.069,
          -0.056,
          -0.073,
          -0.026,
          -0.039,
          0.013,
          -0.085,
          -0.067,
          -0.082,
          -0.056,
          -0.032,
          -0.095,
          -0.082,
          -0.06,
          -0.068,
          -0.069,
          -0.11,
          -0.047,
          -0.031,
          -0.084,
          -0.085,
          0.004,
          -0.037,
          -0.017,
          -0.053,
          -0.04,
          -0.046,
          -0.046,
          -0.07,
          -0.07,
          0,
          -0.012,
          -0.019,
          -0.047,
          -0.009,
          -0.021,
          -0.073,
          -0.067,
          -0.029,
          -0.073,
          -0.009,
          -0.062,
          -0.034,
          -0.052,
          -0.091,
          0.006,
          -0.084,
          -0.067,
          -0.061,
          -0.045,
          -0.03,
          -0.046,
          0.019,
          -0.094,
          -0.05,
          -0.017,
          -0.063,
          -0.061,
          -0.074,
          -0.032,
          -0.087,
          0.013,
          -0.048,
          -0.052,
          -0.056,
          -0.049,
          -0.044,
          -0.05,
          -0.051,
          0.013,
          -0.052,
          -0.041,
          -0.001,
          -0.087,
          -0.029,
          0.016,
          -0.05,
          -0.003,
          -0.045,
          0.009,
          -0.044,
          -0.04,
          -0.061,
          -0.071,
          -0.031,
          -0.011,
          -0.075,
          -0.041,
          0,
          -0.064,
          -0.064,
          -0.07,
          -0.078,
          -0.102,
          -0.043,
          -0.021,
          -0.042,
          -0.05,
          -0.047,
          -0.067,
          -0.032,
          -0.047,
          -0.001,
          -0.064,
          -0.052,
          -0.047,
          -0.052,
          0.005,
          -0.085,
          -0.036,
          -0.052,
          -0.061,
          -0.117,
          -0.081,
          -0.064,
          -0.023,
          -0.083,
          -0.027,
          -0.041,
          0.001,
          -0.031,
          -0.014,
          -0.051,
          -0.031,
          0.03,
          -0.067,
          -0.066,
          -0.022,
          -0.04,
          -0.041,
          -0.064,
          -0.01,
          -0.015,
          -0.054,
          -0.03,
          -0.03,
          0.004,
          -0.055,
          -0.093,
          -0.03,
          -0.046,
          -0.068,
          -0.047,
          -0.06,
          -0.056,
          -0.046,
          -0.041,
          -0.092,
          -0.053,
          -0.044,
          0.004,
          -0.055,
          -0.014,
          -0.051,
          -0.009,
          -0.008,
          -0.097,
          -0.05,
          -0.061,
          -0.055,
          -0.038,
          -0.077,
          -0.051,
          -0.046,
          -0.085,
          -0.07,
          0.007,
          -0.047,
          -0.058,
          -0.035,
          -0.043,
          -0.03,
          -0.032,
          -0.018,
          -0.098,
          -0.088,
          -0.125,
          -0.059,
          -0.032,
          -0.05,
          -0.049,
          -0.078,
          -0.02,
          -0.005,
          -0.041,
          -0.049,
          -0.015,
          -0.072,
          -0.012,
          -0.048,
          0.007,
          0.009,
          -0.013,
          -0.03,
          -0.017,
          -0.03,
          -0.046,
          -0.087,
          -0.085,
          -0.042,
          -0.032,
          -0.049,
          -0.084,
          -0.002,
          -0.064,
          -0.003,
          -0.011,
          -0.049,
          -0.048,
          -0.06,
          -0.052,
          -0.051,
          -0.043,
          -0.04,
          -0.065,
          -0.059,
          -0.045,
          -0.051,
          -0.057,
          -0.028,
          0.008,
          -0.036,
          -0.032,
          -0.031,
          -0.002,
          -0.005,
          -0.066,
          -0.047,
          -0.086,
          -0.049,
          -0.039,
          -0.003,
          -0.037,
          -0.03,
          -0.032,
          -0.065,
          -0.029,
          -0.047,
          -0.002,
          -0.044,
          -0.042,
          -0.045,
          -0.085,
          -0.03,
          -0.03,
          -0.055,
          -0.024,
          -0.061,
          -0.064,
          -0.054,
          -0.027,
          -0.049,
          -0.014,
          -0.04,
          -0.005,
          -0.035,
          -0.055,
          -0.055,
          -0.058,
          0.006,
          -0.056,
          -0.033,
          -0.005,
          -0.024,
          -0.005,
          0.008,
          -0.107,
          -0.046,
          -0.044,
          -0.04,
          0.021,
          -0.027,
          -0.003,
          -0.04,
          -0.02,
          -0.015,
          -0.052,
          -0.032,
          -0.035,
          -0.06,
          -0.027,
          -0.033,
          -0.003,
          -0.011,
          0.008,
          -0.003,
          -0.035,
          -0.055,
          -0.018,
          -0.101,
          -0.046,
          -0.049,
          -0.016,
          -0.022,
          0.005,
          -0.05,
          -0.095,
          -0.03,
          -0.073,
          -0.062,
          -0.071,
          -0.07,
          -0.033,
          -0.03,
          -0.03,
          -0.074,
          0.025,
          -0.093,
          -0.061,
          -0.031,
          -0.034,
          -0.056,
          -0.033,
          -0.033,
          -0.034,
          -0.087,
          -0.023,
          -0.077,
          -0.045,
          0.008,
          -0.007,
          -0.045,
          -0.045,
          -0.053,
          -0.019,
          -0.067,
          -0.036,
          -0.078,
          -0.054,
          -0.068,
          0.015,
          -0.048,
          -0.07,
          -0.012,
          -0.027,
          -0.028,
          -0.057,
          -0.053,
          0.001,
          -0.05,
          0.003,
          -0.021,
          -0.091,
          -0.002,
          -0.097,
          -0.045,
          -0.007,
          -0.056,
          -0.038,
          -0.043,
          -0.031,
          -0.052,
          -0.097,
          -0.031,
          -0.008,
          -0.025,
          -0.077,
          -0.001,
          -0.08,
          -0.033,
          -0.03,
          -0.064,
          -0.046,
          -0.088,
          -0.045,
          -0.032,
          -0.037,
          -0.072,
          -0.042,
          -0.052,
          -0.064,
          -0.031,
          -0.065,
          -0.028,
          0.003,
          -0.003,
          -0.046,
          -0.025,
          -0.063,
          -0.04,
          -0.086,
          0.013,
          -0.06,
          -0.036,
          -0.037,
          -0.053,
          -0.053,
          -0.036,
          -0.069,
          -0.066,
          -0.035,
          -0.042,
          0.04,
          -0.046,
          -0.071,
          -0.059,
          -0.045,
          -0.052,
          -0.021,
          -0.005,
          -0.038,
          0.013,
          -0.079,
          -0.002,
          -0.09,
          -0.027,
          -0.001,
          0.026,
          -0.015,
          -0.03,
          -0.065,
          -0.071,
          -0.028,
          -0.026,
          -0.067,
          -0.062,
          -0.077,
          -0.035,
          -0.039,
          -0.042,
          -0.065,
          -0.04,
          -0.041,
          -0.075,
          -0.063,
          -0.054,
          -0.076,
          -0.075,
          -0.018,
          -0.039,
          -0.102,
          -0.053,
          0.018,
          -0.051,
          -0.07,
          -0.041,
          -0.023,
          -0.103,
          -0.01,
          -0.038,
          -0.033,
          -0.034,
          -0.049,
          -0.067,
          -0.019,
          -0.025,
          -0.049,
          -0.06,
          -0.049,
          -0.015,
          -0.021,
          -0.024,
          -0.066,
          -0.012,
          -0.048,
          -0.072,
          -0.026,
          -0.047,
          -0.085,
          -0.087,
          -0.061,
          -0.069,
          -0.041,
          0,
          -0.042,
          0.026,
          -0.093,
          -0.062,
          -0.029,
          -0.043,
          -0.052,
          -0.102,
          -0.089,
          -0.02,
          -0.093,
          -0.042,
          -0.065,
          -0.035,
          -0.078,
          -0.025,
          -0.026,
          -0.051,
          -0.014,
          -0.072,
          -0.031,
          -0.051,
          -0.047,
          -0.034,
          -0.057,
          -0.017,
          -0.067,
          0.008,
          0.026,
          -0.037,
          -0.037,
          -0.081,
          -0.049,
          -0.043,
          -0.024,
          -0.039,
          -0.052,
          -0.011,
          -0.02,
          -0.013,
          -0.072,
          -0.027,
          -0.092,
          -0.023,
          -0.077,
          -0.047,
          -0.023,
          -0.031,
          -0.065,
          -0.036,
          -0.056,
          -0.056,
          -0.065,
          0.009,
          -0.062,
          -0.038,
          -0.101,
          -0.051,
          -0.053,
          -0.054,
          -0.038,
          -0.031,
          -0.072,
          -0.03,
          -0.071,
          0,
          -0.132,
          -0.05,
          -0.028,
          -0.045,
          -0.097,
          0.003,
          -0.073,
          -0.005,
          -0.005,
          0.011,
          -0.007,
          -0.025,
          -0.006,
          -0.042,
          -0.065,
          -0.036,
          -0.12,
          0.04,
          -0.075,
          -0.044,
          -0.038,
          -0.037,
          -0.014,
          -0.001,
          -0.064,
          -0.05,
          -0.058,
          0.019,
          -0.064,
          -0.039,
          -0.016,
          -0.109,
          -0.056,
          -0.061,
          0.007,
          -0.012,
          -0.039,
          -0.039,
          -0.065,
          -0.026,
          -0.075,
          -0.037,
          -0.033,
          0,
          -0.048,
          -0.031,
          -0.057,
          0.024,
          -0.064,
          -0.027,
          -0.056,
          -0.024,
          -0.014,
          -0.03,
          -0.06,
          -0.021,
          -0.04,
          -0.046,
          -0.037,
          -0.038,
          -0.032,
          -0.026,
          -0.004,
          -0.01,
          0.022,
          -0.035,
          -0.014,
          -0.043,
          -0.087,
          -0.016,
          -0.038,
          -0.084,
          -0.014,
          -0.007,
          -0.002,
          -0.018,
          -0.025,
          -0.115,
          -0.032,
          -0.104,
          -0.056,
          -0.003,
          -0.012
         ],
         "yaxis": "y"
        }
       ],
       "layout": {
        "legend": {
         "tracegroupgap": 0
        },
        "template": {
         "data": {
          "bar": [
           {
            "error_x": {
             "color": "#2a3f5f"
            },
            "error_y": {
             "color": "#2a3f5f"
            },
            "marker": {
             "line": {
              "color": "#E5ECF6",
              "width": 0.5
             },
             "pattern": {
              "fillmode": "overlay",
              "size": 10,
              "solidity": 0.2
             }
            },
            "type": "bar"
           }
          ],
          "barpolar": [
           {
            "marker": {
             "line": {
              "color": "#E5ECF6",
              "width": 0.5
             },
             "pattern": {
              "fillmode": "overlay",
              "size": 10,
              "solidity": 0.2
             }
            },
            "type": "barpolar"
           }
          ],
          "carpet": [
           {
            "aaxis": {
             "endlinecolor": "#2a3f5f",
             "gridcolor": "white",
             "linecolor": "white",
             "minorgridcolor": "white",
             "startlinecolor": "#2a3f5f"
            },
            "baxis": {
             "endlinecolor": "#2a3f5f",
             "gridcolor": "white",
             "linecolor": "white",
             "minorgridcolor": "white",
             "startlinecolor": "#2a3f5f"
            },
            "type": "carpet"
           }
          ],
          "choropleth": [
           {
            "colorbar": {
             "outlinewidth": 0,
             "ticks": ""
            },
            "type": "choropleth"
           }
          ],
          "contour": [
           {
            "colorbar": {
             "outlinewidth": 0,
             "ticks": ""
            },
            "colorscale": [
             [
              0,
              "#0d0887"
             ],
             [
              0.1111111111111111,
              "#46039f"
             ],
             [
              0.2222222222222222,
              "#7201a8"
             ],
             [
              0.3333333333333333,
              "#9c179e"
             ],
             [
              0.4444444444444444,
              "#bd3786"
             ],
             [
              0.5555555555555556,
              "#d8576b"
             ],
             [
              0.6666666666666666,
              "#ed7953"
             ],
             [
              0.7777777777777778,
              "#fb9f3a"
             ],
             [
              0.8888888888888888,
              "#fdca26"
             ],
             [
              1,
              "#f0f921"
             ]
            ],
            "type": "contour"
           }
          ],
          "contourcarpet": [
           {
            "colorbar": {
             "outlinewidth": 0,
             "ticks": ""
            },
            "type": "contourcarpet"
           }
          ],
          "heatmap": [
           {
            "colorbar": {
             "outlinewidth": 0,
             "ticks": ""
            },
            "colorscale": [
             [
              0,
              "#0d0887"
             ],
             [
              0.1111111111111111,
              "#46039f"
             ],
             [
              0.2222222222222222,
              "#7201a8"
             ],
             [
              0.3333333333333333,
              "#9c179e"
             ],
             [
              0.4444444444444444,
              "#bd3786"
             ],
             [
              0.5555555555555556,
              "#d8576b"
             ],
             [
              0.6666666666666666,
              "#ed7953"
             ],
             [
              0.7777777777777778,
              "#fb9f3a"
             ],
             [
              0.8888888888888888,
              "#fdca26"
             ],
             [
              1,
              "#f0f921"
             ]
            ],
            "type": "heatmap"
           }
          ],
          "heatmapgl": [
           {
            "colorbar": {
             "outlinewidth": 0,
             "ticks": ""
            },
            "colorscale": [
             [
              0,
              "#0d0887"
             ],
             [
              0.1111111111111111,
              "#46039f"
             ],
             [
              0.2222222222222222,
              "#7201a8"
             ],
             [
              0.3333333333333333,
              "#9c179e"
             ],
             [
              0.4444444444444444,
              "#bd3786"
             ],
             [
              0.5555555555555556,
              "#d8576b"
             ],
             [
              0.6666666666666666,
              "#ed7953"
             ],
             [
              0.7777777777777778,
              "#fb9f3a"
             ],
             [
              0.8888888888888888,
              "#fdca26"
             ],
             [
              1,
              "#f0f921"
             ]
            ],
            "type": "heatmapgl"
           }
          ],
          "histogram": [
           {
            "marker": {
             "pattern": {
              "fillmode": "overlay",
              "size": 10,
              "solidity": 0.2
             }
            },
            "type": "histogram"
           }
          ],
          "histogram2d": [
           {
            "colorbar": {
             "outlinewidth": 0,
             "ticks": ""
            },
            "colorscale": [
             [
              0,
              "#0d0887"
             ],
             [
              0.1111111111111111,
              "#46039f"
             ],
             [
              0.2222222222222222,
              "#7201a8"
             ],
             [
              0.3333333333333333,
              "#9c179e"
             ],
             [
              0.4444444444444444,
              "#bd3786"
             ],
             [
              0.5555555555555556,
              "#d8576b"
             ],
             [
              0.6666666666666666,
              "#ed7953"
             ],
             [
              0.7777777777777778,
              "#fb9f3a"
             ],
             [
              0.8888888888888888,
              "#fdca26"
             ],
             [
              1,
              "#f0f921"
             ]
            ],
            "type": "histogram2d"
           }
          ],
          "histogram2dcontour": [
           {
            "colorbar": {
             "outlinewidth": 0,
             "ticks": ""
            },
            "colorscale": [
             [
              0,
              "#0d0887"
             ],
             [
              0.1111111111111111,
              "#46039f"
             ],
             [
              0.2222222222222222,
              "#7201a8"
             ],
             [
              0.3333333333333333,
              "#9c179e"
             ],
             [
              0.4444444444444444,
              "#bd3786"
             ],
             [
              0.5555555555555556,
              "#d8576b"
             ],
             [
              0.6666666666666666,
              "#ed7953"
             ],
             [
              0.7777777777777778,
              "#fb9f3a"
             ],
             [
              0.8888888888888888,
              "#fdca26"
             ],
             [
              1,
              "#f0f921"
             ]
            ],
            "type": "histogram2dcontour"
           }
          ],
          "mesh3d": [
           {
            "colorbar": {
             "outlinewidth": 0,
             "ticks": ""
            },
            "type": "mesh3d"
           }
          ],
          "parcoords": [
           {
            "line": {
             "colorbar": {
              "outlinewidth": 0,
              "ticks": ""
             }
            },
            "type": "parcoords"
           }
          ],
          "pie": [
           {
            "automargin": true,
            "type": "pie"
           }
          ],
          "scatter": [
           {
            "fillpattern": {
             "fillmode": "overlay",
             "size": 10,
             "solidity": 0.2
            },
            "type": "scatter"
           }
          ],
          "scatter3d": [
           {
            "line": {
             "colorbar": {
              "outlinewidth": 0,
              "ticks": ""
             }
            },
            "marker": {
             "colorbar": {
              "outlinewidth": 0,
              "ticks": ""
             }
            },
            "type": "scatter3d"
           }
          ],
          "scattercarpet": [
           {
            "marker": {
             "colorbar": {
              "outlinewidth": 0,
              "ticks": ""
             }
            },
            "type": "scattercarpet"
           }
          ],
          "scattergeo": [
           {
            "marker": {
             "colorbar": {
              "outlinewidth": 0,
              "ticks": ""
             }
            },
            "type": "scattergeo"
           }
          ],
          "scattergl": [
           {
            "marker": {
             "colorbar": {
              "outlinewidth": 0,
              "ticks": ""
             }
            },
            "type": "scattergl"
           }
          ],
          "scattermapbox": [
           {
            "marker": {
             "colorbar": {
              "outlinewidth": 0,
              "ticks": ""
             }
            },
            "type": "scattermapbox"
           }
          ],
          "scatterpolar": [
           {
            "marker": {
             "colorbar": {
              "outlinewidth": 0,
              "ticks": ""
             }
            },
            "type": "scatterpolar"
           }
          ],
          "scatterpolargl": [
           {
            "marker": {
             "colorbar": {
              "outlinewidth": 0,
              "ticks": ""
             }
            },
            "type": "scatterpolargl"
           }
          ],
          "scatterternary": [
           {
            "marker": {
             "colorbar": {
              "outlinewidth": 0,
              "ticks": ""
             }
            },
            "type": "scatterternary"
           }
          ],
          "surface": [
           {
            "colorbar": {
             "outlinewidth": 0,
             "ticks": ""
            },
            "colorscale": [
             [
              0,
              "#0d0887"
             ],
             [
              0.1111111111111111,
              "#46039f"
             ],
             [
              0.2222222222222222,
              "#7201a8"
             ],
             [
              0.3333333333333333,
              "#9c179e"
             ],
             [
              0.4444444444444444,
              "#bd3786"
             ],
             [
              0.5555555555555556,
              "#d8576b"
             ],
             [
              0.6666666666666666,
              "#ed7953"
             ],
             [
              0.7777777777777778,
              "#fb9f3a"
             ],
             [
              0.8888888888888888,
              "#fdca26"
             ],
             [
              1,
              "#f0f921"
             ]
            ],
            "type": "surface"
           }
          ],
          "table": [
           {
            "cells": {
             "fill": {
              "color": "#EBF0F8"
             },
             "line": {
              "color": "white"
             }
            },
            "header": {
             "fill": {
              "color": "#C8D4E3"
             },
             "line": {
              "color": "white"
             }
            },
            "type": "table"
           }
          ]
         },
         "layout": {
          "annotationdefaults": {
           "arrowcolor": "#2a3f5f",
           "arrowhead": 0,
           "arrowwidth": 1
          },
          "autotypenumbers": "strict",
          "coloraxis": {
           "colorbar": {
            "outlinewidth": 0,
            "ticks": ""
           }
          },
          "colorscale": {
           "diverging": [
            [
             0,
             "#8e0152"
            ],
            [
             0.1,
             "#c51b7d"
            ],
            [
             0.2,
             "#de77ae"
            ],
            [
             0.3,
             "#f1b6da"
            ],
            [
             0.4,
             "#fde0ef"
            ],
            [
             0.5,
             "#f7f7f7"
            ],
            [
             0.6,
             "#e6f5d0"
            ],
            [
             0.7,
             "#b8e186"
            ],
            [
             0.8,
             "#7fbc41"
            ],
            [
             0.9,
             "#4d9221"
            ],
            [
             1,
             "#276419"
            ]
           ],
           "sequential": [
            [
             0,
             "#0d0887"
            ],
            [
             0.1111111111111111,
             "#46039f"
            ],
            [
             0.2222222222222222,
             "#7201a8"
            ],
            [
             0.3333333333333333,
             "#9c179e"
            ],
            [
             0.4444444444444444,
             "#bd3786"
            ],
            [
             0.5555555555555556,
             "#d8576b"
            ],
            [
             0.6666666666666666,
             "#ed7953"
            ],
            [
             0.7777777777777778,
             "#fb9f3a"
            ],
            [
             0.8888888888888888,
             "#fdca26"
            ],
            [
             1,
             "#f0f921"
            ]
           ],
           "sequentialminus": [
            [
             0,
             "#0d0887"
            ],
            [
             0.1111111111111111,
             "#46039f"
            ],
            [
             0.2222222222222222,
             "#7201a8"
            ],
            [
             0.3333333333333333,
             "#9c179e"
            ],
            [
             0.4444444444444444,
             "#bd3786"
            ],
            [
             0.5555555555555556,
             "#d8576b"
            ],
            [
             0.6666666666666666,
             "#ed7953"
            ],
            [
             0.7777777777777778,
             "#fb9f3a"
            ],
            [
             0.8888888888888888,
             "#fdca26"
            ],
            [
             1,
             "#f0f921"
            ]
           ]
          },
          "colorway": [
           "#636efa",
           "#EF553B",
           "#00cc96",
           "#ab63fa",
           "#FFA15A",
           "#19d3f3",
           "#FF6692",
           "#B6E880",
           "#FF97FF",
           "#FECB52"
          ],
          "font": {
           "color": "#2a3f5f"
          },
          "geo": {
           "bgcolor": "white",
           "lakecolor": "white",
           "landcolor": "#E5ECF6",
           "showlakes": true,
           "showland": true,
           "subunitcolor": "white"
          },
          "hoverlabel": {
           "align": "left"
          },
          "hovermode": "closest",
          "mapbox": {
           "style": "light"
          },
          "paper_bgcolor": "white",
          "plot_bgcolor": "#E5ECF6",
          "polar": {
           "angularaxis": {
            "gridcolor": "white",
            "linecolor": "white",
            "ticks": ""
           },
           "bgcolor": "#E5ECF6",
           "radialaxis": {
            "gridcolor": "white",
            "linecolor": "white",
            "ticks": ""
           }
          },
          "scene": {
           "xaxis": {
            "backgroundcolor": "#E5ECF6",
            "gridcolor": "white",
            "gridwidth": 2,
            "linecolor": "white",
            "showbackground": true,
            "ticks": "",
            "zerolinecolor": "white"
           },
           "yaxis": {
            "backgroundcolor": "#E5ECF6",
            "gridcolor": "white",
            "gridwidth": 2,
            "linecolor": "white",
            "showbackground": true,
            "ticks": "",
            "zerolinecolor": "white"
           },
           "zaxis": {
            "backgroundcolor": "#E5ECF6",
            "gridcolor": "white",
            "gridwidth": 2,
            "linecolor": "white",
            "showbackground": true,
            "ticks": "",
            "zerolinecolor": "white"
           }
          },
          "shapedefaults": {
           "line": {
            "color": "#2a3f5f"
           }
          },
          "ternary": {
           "aaxis": {
            "gridcolor": "white",
            "linecolor": "white",
            "ticks": ""
           },
           "baxis": {
            "gridcolor": "white",
            "linecolor": "white",
            "ticks": ""
           },
           "bgcolor": "#E5ECF6",
           "caxis": {
            "gridcolor": "white",
            "linecolor": "white",
            "ticks": ""
           }
          },
          "title": {
           "x": 0.05
          },
          "xaxis": {
           "automargin": true,
           "gridcolor": "white",
           "linecolor": "white",
           "ticks": "",
           "title": {
            "standoff": 15
           },
           "zerolinecolor": "white",
           "zerolinewidth": 2
          },
          "yaxis": {
           "automargin": true,
           "gridcolor": "white",
           "linecolor": "white",
           "ticks": "",
           "title": {
            "standoff": 15
           },
           "zerolinecolor": "white",
           "zerolinewidth": 2
          }
         }
        },
        "title": {
         "text": "Mean reward"
        },
        "xaxis": {
         "anchor": "y",
         "domain": [
          0,
          1
         ],
         "title": {
          "text": "x"
         }
        },
        "yaxis": {
         "anchor": "x",
         "domain": [
          0,
          1
         ],
         "title": {
          "text": "y"
         }
        }
       }
      }
     },
     "metadata": {},
     "output_type": "display_data"
    },
    {
     "data": {
      "application/vnd.plotly.v1+json": {
       "config": {
        "plotlyServerURL": "https://plot.ly"
       },
       "data": [
        {
         "hovertemplate": "x=%{x}<br>y=%{y}<extra></extra>",
         "legendgroup": "",
         "line": {
          "color": "#636efa",
          "dash": "solid"
         },
         "marker": {
          "symbol": "circle"
         },
         "mode": "lines",
         "name": "",
         "orientation": "v",
         "showlegend": false,
         "type": "scatter",
         "x": [
          0,
          1,
          2,
          3,
          4,
          5,
          6,
          7,
          8,
          9,
          10,
          11,
          12,
          13,
          14,
          15,
          16,
          17,
          18,
          19,
          20,
          21,
          22,
          23,
          24,
          25,
          26,
          27,
          28,
          29,
          30,
          31,
          32,
          33,
          34,
          35,
          36,
          37,
          38,
          39,
          40,
          41,
          42,
          43,
          44,
          45,
          46,
          47,
          48,
          49,
          50,
          51,
          52,
          53,
          54,
          55,
          56,
          57,
          58,
          59,
          60,
          61,
          62,
          63,
          64,
          65,
          66,
          67,
          68,
          69,
          70,
          71,
          72,
          73,
          74,
          75,
          76,
          77,
          78,
          79,
          80,
          81,
          82,
          83,
          84,
          85,
          86,
          87,
          88,
          89,
          90,
          91,
          92,
          93,
          94,
          95,
          96,
          97,
          98,
          99,
          100,
          101,
          102,
          103,
          104,
          105,
          106,
          107,
          108,
          109,
          110,
          111,
          112,
          113,
          114,
          115,
          116,
          117,
          118,
          119,
          120,
          121,
          122,
          123,
          124,
          125,
          126,
          127,
          128,
          129,
          130,
          131,
          132,
          133,
          134,
          135,
          136,
          137,
          138,
          139,
          140,
          141,
          142,
          143,
          144,
          145,
          146,
          147,
          148,
          149,
          150,
          151,
          152,
          153,
          154,
          155,
          156,
          157,
          158,
          159,
          160,
          161,
          162,
          163,
          164,
          165,
          166,
          167,
          168,
          169,
          170,
          171,
          172,
          173,
          174,
          175,
          176,
          177,
          178,
          179,
          180,
          181,
          182,
          183,
          184,
          185,
          186,
          187,
          188,
          189,
          190,
          191,
          192,
          193,
          194,
          195,
          196,
          197,
          198,
          199,
          200,
          201,
          202,
          203,
          204,
          205,
          206,
          207,
          208,
          209,
          210,
          211,
          212,
          213,
          214,
          215,
          216,
          217,
          218,
          219,
          220,
          221,
          222,
          223,
          224,
          225,
          226,
          227,
          228,
          229,
          230,
          231,
          232,
          233,
          234,
          235,
          236,
          237,
          238,
          239,
          240,
          241,
          242,
          243,
          244,
          245,
          246,
          247,
          248,
          249,
          250,
          251,
          252,
          253,
          254,
          255,
          256,
          257,
          258,
          259,
          260,
          261,
          262,
          263,
          264,
          265,
          266,
          267,
          268,
          269,
          270,
          271,
          272,
          273,
          274,
          275,
          276,
          277,
          278,
          279,
          280,
          281,
          282,
          283,
          284,
          285,
          286,
          287,
          288,
          289,
          290,
          291,
          292,
          293,
          294,
          295,
          296,
          297,
          298,
          299,
          300,
          301,
          302,
          303,
          304,
          305,
          306,
          307,
          308,
          309,
          310,
          311,
          312,
          313,
          314,
          315,
          316,
          317,
          318,
          319,
          320,
          321,
          322,
          323,
          324,
          325,
          326,
          327,
          328,
          329,
          330,
          331,
          332,
          333,
          334,
          335,
          336,
          337,
          338,
          339,
          340,
          341,
          342,
          343,
          344,
          345,
          346,
          347,
          348,
          349,
          350,
          351,
          352,
          353,
          354,
          355,
          356,
          357,
          358,
          359,
          360,
          361,
          362,
          363,
          364,
          365,
          366,
          367,
          368,
          369,
          370,
          371,
          372,
          373,
          374,
          375,
          376,
          377,
          378,
          379,
          380,
          381,
          382,
          383,
          384,
          385,
          386,
          387,
          388,
          389,
          390,
          391,
          392,
          393,
          394,
          395,
          396,
          397,
          398,
          399,
          400,
          401,
          402,
          403,
          404,
          405,
          406,
          407,
          408,
          409,
          410,
          411,
          412,
          413,
          414,
          415,
          416,
          417,
          418,
          419,
          420,
          421,
          422,
          423,
          424,
          425,
          426,
          427,
          428,
          429,
          430,
          431,
          432,
          433,
          434,
          435,
          436,
          437,
          438,
          439,
          440,
          441,
          442,
          443,
          444,
          445,
          446,
          447,
          448,
          449,
          450,
          451,
          452,
          453,
          454,
          455,
          456,
          457,
          458,
          459,
          460,
          461,
          462,
          463,
          464,
          465,
          466,
          467,
          468,
          469,
          470,
          471,
          472,
          473,
          474,
          475,
          476,
          477,
          478,
          479,
          480,
          481,
          482,
          483,
          484,
          485,
          486,
          487,
          488,
          489,
          490,
          491,
          492,
          493,
          494,
          495,
          496,
          497,
          498,
          499,
          500,
          501,
          502,
          503,
          504,
          505,
          506,
          507,
          508,
          509,
          510,
          511,
          512,
          513,
          514,
          515,
          516,
          517,
          518,
          519,
          520,
          521,
          522,
          523,
          524,
          525,
          526,
          527,
          528,
          529,
          530,
          531,
          532,
          533,
          534,
          535,
          536,
          537,
          538,
          539,
          540,
          541,
          542,
          543,
          544,
          545,
          546,
          547,
          548,
          549,
          550,
          551,
          552,
          553,
          554,
          555,
          556,
          557,
          558,
          559,
          560,
          561,
          562,
          563,
          564,
          565,
          566,
          567,
          568,
          569,
          570,
          571,
          572,
          573,
          574,
          575,
          576,
          577,
          578,
          579,
          580,
          581,
          582,
          583,
          584,
          585,
          586,
          587,
          588,
          589,
          590,
          591,
          592,
          593,
          594,
          595,
          596,
          597,
          598,
          599,
          600,
          601,
          602,
          603,
          604,
          605,
          606,
          607,
          608,
          609,
          610,
          611,
          612,
          613,
          614,
          615,
          616,
          617,
          618,
          619,
          620,
          621,
          622,
          623,
          624,
          625,
          626,
          627,
          628,
          629,
          630,
          631,
          632,
          633,
          634,
          635,
          636,
          637,
          638,
          639,
          640,
          641,
          642,
          643,
          644,
          645,
          646,
          647,
          648,
          649,
          650,
          651,
          652,
          653,
          654,
          655,
          656,
          657,
          658,
          659,
          660,
          661,
          662,
          663,
          664,
          665,
          666,
          667,
          668,
          669,
          670,
          671,
          672,
          673,
          674,
          675,
          676,
          677,
          678,
          679,
          680,
          681,
          682,
          683,
          684,
          685,
          686,
          687,
          688,
          689,
          690,
          691,
          692,
          693,
          694,
          695,
          696,
          697,
          698,
          699,
          700,
          701,
          702,
          703,
          704,
          705,
          706,
          707,
          708,
          709,
          710,
          711,
          712,
          713,
          714,
          715,
          716,
          717,
          718,
          719,
          720,
          721,
          722,
          723,
          724,
          725,
          726,
          727,
          728,
          729,
          730,
          731,
          732,
          733,
          734,
          735,
          736,
          737,
          738,
          739,
          740,
          741,
          742,
          743,
          744,
          745,
          746,
          747,
          748,
          749,
          750,
          751,
          752,
          753,
          754,
          755,
          756,
          757,
          758,
          759,
          760,
          761,
          762,
          763,
          764,
          765,
          766,
          767,
          768,
          769,
          770,
          771,
          772,
          773,
          774,
          775,
          776,
          777,
          778,
          779,
          780,
          781,
          782,
          783,
          784,
          785,
          786,
          787,
          788,
          789,
          790,
          791,
          792,
          793,
          794,
          795,
          796,
          797,
          798,
          799,
          800,
          801,
          802,
          803,
          804,
          805,
          806,
          807,
          808,
          809,
          810,
          811,
          812,
          813,
          814,
          815,
          816,
          817,
          818,
          819,
          820,
          821,
          822,
          823,
          824,
          825,
          826,
          827,
          828,
          829,
          830,
          831,
          832,
          833,
          834,
          835,
          836,
          837,
          838,
          839,
          840,
          841,
          842,
          843,
          844,
          845,
          846,
          847,
          848,
          849,
          850,
          851,
          852,
          853,
          854,
          855,
          856,
          857,
          858,
          859,
          860,
          861,
          862,
          863,
          864,
          865,
          866,
          867,
          868,
          869,
          870,
          871,
          872,
          873,
          874,
          875,
          876,
          877,
          878,
          879,
          880,
          881,
          882,
          883,
          884,
          885,
          886,
          887,
          888,
          889,
          890,
          891,
          892,
          893,
          894,
          895,
          896,
          897,
          898,
          899,
          900,
          901,
          902,
          903,
          904,
          905,
          906,
          907,
          908,
          909,
          910,
          911,
          912,
          913,
          914,
          915,
          916,
          917,
          918,
          919,
          920,
          921,
          922,
          923,
          924,
          925,
          926,
          927,
          928,
          929,
          930,
          931,
          932,
          933,
          934,
          935,
          936,
          937,
          938,
          939,
          940,
          941,
          942,
          943,
          944,
          945,
          946,
          947,
          948,
          949,
          950,
          951,
          952,
          953,
          954,
          955,
          956,
          957,
          958,
          959,
          960,
          961,
          962,
          963,
          964,
          965,
          966,
          967,
          968,
          969,
          970,
          971,
          972,
          973,
          974,
          975,
          976,
          977,
          978,
          979,
          980,
          981,
          982,
          983,
          984,
          985,
          986,
          987,
          988,
          989,
          990,
          991,
          992,
          993,
          994,
          995,
          996,
          997,
          998,
          999
         ],
         "xaxis": "x",
         "y": [
          1.141075623325777,
          0.7661163217831162,
          0.7168654651183125,
          1.4245200577465122,
          0.1115374815267759,
          0.01882204400383325,
          0.5653228038147364,
          0.20335037331718359,
          0.4859973990460629,
          0.23054790989297824,
          0.40307382416736826,
          0.017178363635835487,
          0.36045639597172363,
          0.7037844367991193,
          0.5071820870299961,
          0.5356296121747214,
          0.621720124295565,
          0.03630069324004259,
          0.49932743167781024,
          0.6158160743288945,
          0.5935743253509056,
          1.1499044155359717,
          0.5356280241237514,
          0.11153691312789127,
          0.5863700443351002,
          0.7938850069166112,
          0.46394618677403876,
          1.2020936369514668,
          0.5438636287537633,
          0.44665540934058723,
          1.2204975981147466,
          1.4641610140664676,
          0.49932608353243646,
          0.2255053716958472,
          0.7611319085753987,
          0.0026731041062607874,
          0.7812942843646665,
          0.20983783783784216,
          0.6476600958748004,
          1.245533355071566,
          1.448439255160407,
          0.059363612304305535,
          1.1581680202369873,
          0.017176945753345385,
          0.6003012252081474,
          0.22745108234755435,
          1.0185919911422774,
          1.2849067651562938,
          0.4311808770161375,
          0.7544806494411853,
          0.8465446289201083,
          0.9156699491427517,
          0.38527770334036127,
          1.4346783636600302,
          0.8343813564247087,
          0.7795162295360563,
          0.08360192590824767,
          0.8171668490613673,
          0.7092132436213439,
          0.13909467895388467,
          0.3111694584501969,
          1.003495631265826,
          0.4346754008442417,
          0.5797489695104374,
          1.2455278336837592,
          1.1828417497079977,
          0.08360145067588998,
          1.2187159670922287,
          0.18105019080362955,
          0.5623849291318105,
          0.8937570640249984,
          0.2099832556334041,
          0.2023108773194042,
          1.1818230717639029,
          0.23054599278218402,
          0.4311823469331194,
          0.3639509470616804,
          1.0888993220275218,
          0.011838105903054452,
          0.20805670991687752,
          0.6217135754613577,
          0.2749054180857705,
          1.152493976978674,
          0.4311812394973108,
          0.543863820148089,
          0.6217070267651122,
          0.5358426480114683,
          0.01288182699189469,
          0.7532255945342246,
          0.8824758786443282,
          0.2020726294082675,
          0.8418473991825417,
          0.4346745031792922,
          0.43118013206719086,
          1.1656283416244386,
          0.5653263944819498,
          0.7899394594455985,
          0.10069106966588878,
          0.25464684607012983,
          0.8815458628320438,
          0.3523468652930526,
          1.1493859346043893,
          0.05598921879545554,
          0.7339410519954017,
          0.7067869567781104,
          1.1534673837465053,
          0.8589337817120823,
          0.4639449732559011,
          0.09589041095890605,
          0.9156570494759375,
          0.03276473510135225,
          0.4311790246427595,
          0.43117791722401655,
          0.680048630886571,
          0.2919555447165741,
          0.6257956411230365,
          0.07195166364485056,
          0.6158098619966138,
          0.08360097544893508,
          0.12261036347629278,
          0.004459955877782057,
          0.7795073980921308,
          0.039549800496722215,
          1.1352728939548107,
          0.01183783536724603,
          0.36357545698172344,
          0.3293751864344592,
          0.017176547049808977,
          1.1728662420382154,
          0.7938756207141175,
          0.579747304928358,
          0.5766399296780595,
          1.1410732977820262,
          0.1403892398196337,
          1.0543516439883327,
          0.5356271630242074,
          0.6256736290267342,
          0.4030760459567563,
          1.0171783136874064,
          0.4993247353943424,
          0.08360050022738297,
          0.26456445125215544,
          0.5356256757906575,
          0.43117680981096207,
          1.1493678837848431,
          0.8345906610066706,
          1.2223973051877854,
          0.6360564178319202,
          0.5653252270094119,
          0.579746797665889,
          0.5797451331043834,
          0.49221193836234434,
          1.304020894128446,
          0.07019031857675584,
          0.8990517518929375,
          0.565324059541696,
          1.2538085453128343,
          0.8501089883318382,
          0.6754036726213636,
          1.166747565885276,
          0.834681054316965,
          1.007203570007968,
          0.4064326118461089,
          0.07189763375137803,
          0.5358413077950498,
          1.0728942031934234,
          0.32042623100442624,
          0.6364281785910677,
          0.329371407592675,
          1.5935721381405896,
          0.24318168093508885,
          0.3635781853088842,
          1.1654194612557762,
          0.017176148364781207,
          0.570912189844761,
          0.09411584306373438,
          0.5876432893495452,
          0.8475207138304655,
          0.2803726935022228,
          0.018177151390700308,
          0.35234307824591915,
          0.7819410738683825,
          1.1410638929183692,
          1.1656147936352987,
          0.5356266848773454,
          0.34049838516294284,
          0.43117570240359604,
          0.07168133555668899,
          0.4639438621008225,
          0.017175356111688304,
          1.0171753061722943,
          0.37803370420977195,
          0.09910302033410479,
          0.6258030690135508,
          1.3434366206940835,
          0.07018886659358259,
          0.8549336393687617,
          0.565322892078802,
          0.9163999749887665,
          0.05999241385541021,
          0.023083462656753873,
          0.36357454978151804,
          1.1728513012573076,
          1.0071647369701522,
          0.4064464857536926,
          0.10466537258341707,
          0.5358399675853354,
          1.3821803793150476,
          0.11153634473479979,
          0.3866577703285978,
          0.08360523413786347,
          0.535624998627831,
          1.1047757039299624,
          0.08360475890020758,
          1.2388700951678944,
          0.31501759948441715,
          0.715107703048113,
          0.4311748638164894,
          0.4993233872635281,
          1.1534510160063567,
          0.5358386273823251,
          1.01717234862252,
          1.1564050367517125,
          0.7489398528775434,
          0.824750289806741,
          0.011837564843802495,
          0.10625283942956544,
          0.1616857598064762,
          0.8413143574717462,
          0.011837294332722847,
          0.38527321449376517,
          0.7611331662524733,
          0.06017231783631255,
          0.045213506376310275,
          0.6217004782068241,
          0.7462062612926443,
          1.1162100517253697,
          0.08360428366795447,
          0.7794985668483126,
          0.7080478457786612,
          0.34049470728019104,
          1.0071587930809869,
          0.40644173571587716,
          0.5653217246207299,
          0.5709060192886788,
          0.017175749698260856,
          1.1581638087123245,
          0.03276889217880785,
          0.32995740609376545,
          0.7611311625164193,
          0.23054407570327284,
          0.7938662347335697,
          0.8506501664677448,
          0.4639425628908209,
          0.8475099106448613,
          0.7067786216330945,
          0.11753436745309241,
          0.4346794428325203,
          1.1893937898813474,
          0.6360435468857502,
          0.01136576239476017,
          0.5247330680411171,
          0.24172589085059126,
          1.1563909407835422,
          0.6256669562423367,
          1.296224804674675,
          0.42099072920990716,
          0.2919603767230607,
          0.005734320863924003,
          0.5766341697299047,
          0.43467854517220006,
          0.036301472280944325,
          0.4993220391399934,
          0.5562747688243079,
          0.7661175128816744,
          0.8549317243028411,
          0.5653223524844126,
          0.43117460385577144,
          0.3635709143268566,
          1.1499009208532454,
          0.706770286684669,
          0.11261659971403307,
          0.6004312251216275,
          0.2943244081463927,
          0.5358372871860189,
          0.8465653512692809,
          0.3523392912801917,
          0.6004245861943145,
          0.7489305936750501,
          0.7339327877310593,
          1.457290727184207,
          0.11153577634750134,
          0.8501124826613523,
          0.00021253636922446972,
          0.46416405300358354,
          0.7611291587909153,
          0.43117723922435014,
          0.20983609283914906,
          0.5653211850370985,
          1.2447949879398017,
          0.9265530917983555,
          0.34049102947689147,
          0.23054215865624383,
          0.40308223104954566,
          1.0171693910899442,
          0.11153520796599581,
          0.23054024164109632,
          0.00021369670294429932,
          0.5358371079202577,
          0.17208503848468665,
          1.1500388533368384,
          0.6360306764604707,
          0.4311761318357903,
          1.1728363608570471,
          0.4472101546147778,
          1.0171664335745672,
          0.8927620867675632,
          0.360452534256122,
          0.8686580788879031,
          0.4064369857890854,
          0.4346799824053938,
          0.43117502445291855,
          1.1654053267355553,
          0.6257962152540881,
          0.49932069102373833,
          1.2538025507794068,
          0.3852687257517664,
          0.5766284098968188,
          0.8589455117902571,
          0.6158036497896714,
          0.6605400042353122,
          0.5656462282341065,
          1.2544165307874338,
          0.07018741467048062,
          0.5995072907650323,
          0.5358357677378076,
          0.23068245910886387,
          1.238872844924039,
          1.3528407068970507,
          0.1115346395902832,
          0.8332690907533509,
          0.17503090377721225,
          1.3783060702135113,
          0.3964619796348845,
          0.11753300282134871,
          0.7813000236177076,
          0.8171706968032479,
          0.8465533388199908,
          1.3821568058942892,
          0.11753163822129273,
          0.3763631585862559,
          0.3995820525861879,
          0.7532156981251045,
          0.5766226501787983,
          0.018821603927985597,
          0.08360380844110404,
          1.1563768451590126,
          0.9828365239236114,
          1.2062450278440748,
          0.8474991077346659,
          0.5356284097340869,
          0.6004223654677532,
          0.00020750501956323664,
          1.4641655724379385,
          0.12260843591315744,
          0.3591308013800826,
          0.46394134940120646,
          0.12260650841062776,
          0.020716818784575708,
          0.24317889070679843,
          0.3635672789448977,
          0.7249150504653533,
          1.1893528279049947,
          0.3639821934439498,
          0.915644150172571,
          1.378291552559517,
          1.1062516620866945,
          1.3891465858648737,
          0.1115340712203634,
          0.10815791194558033,
          0.056111423980396036,
          0.6256602836002678,
          0.40712977507996473,
          0.4922069070637819,
          0.7611304164692242,
          0.5653209152486257,
          0.8937605956852708,
          0.4030841310791766,
          1.0171663337491172,
          0.3523355043958676,
          0.7037922159777316,
          0.8332571950662399,
          0.5653197478115123,
          0.9083513454673554,
          0.24053585311883263,
          0.8474883050998688,
          0.34048735175304157,
          1.1177543039260711,
          0.9456644574081425,
          1.054349983965304,
          1.4641619104310344,
          1.206230033934544,
          0.12244592247263542,
          0.3635636436356392,
          0.43117391707573505,
          0.4922018758680764,
          0.9156312512326367,
          0.7168529092373948,
          1.0171633762684271,
          1.1667547002812322,
          0.2098343478694784,
          0.7611284127615088,
          0.5358417515575518,
          0.3553132881335478,
          0.012902810944989379,
          1.246794198023967,
          0.8501025736665432,
          1.0171604188049352,
          1.0171574613586412,
          0.7937849596022358,
          0.49932309344214587,
          0.707499474653582,
          0.43117280970423955,
          0.35912713528370266,
          0.09450685861846428,
          0.15869738108858464,
          0.30486419077341376,
          0.8346088074418152,
          0.35912346926217076,
          0.34048367410863867,
          0.5358404113768951,
          0.5653185803792206,
          0.03932991441293676,
          0.43579147944416763,
          0.8824697263470767,
          0.11581055656709438,
          0.46394013591794003,
          1.3697376853465262,
          0.05936240381091551,
          0.7544861704519916,
          0.28911318918316964,
          1.2467778171928603,
          0.8773954190312991,
          0.002677524052717206,
          0.7812897723545229,
          0.39129554502260855,
          0.8247371931273209,
          0.5653174129517505,
          0.8491327148043564,
          0.5653162455291021,
          0.7067619519328272,
          0.7067536173775619,
          0.761126409064343,
          0.7067452830188665,
          0.7899283614518708,
          0.14857865763855854,
          1.0035132195502925,
          0.43468492188872465,
          0.46393892244102153,
          1.1341831956252917,
          0.11901994513923975,
          0.5438589420920199,
          0.2694876753094574,
          0.89514128640998,
          0.6706323711624027,
          0.8506368076385526,
          0.8418516102405693,
          0.7794897358045952,
          0.5071723475756125,
          1.352839574025122,
          0.8884664971437638,
          0.17421127068895406,
          0.5797499333884446,
          0.5653159757643729,
          0.3758083263262045,
          0.877381626108281,
          0.49932174533396356,
          0.5358390712029424,
          0.20983260292882933,
          0.02077199869152757,
          0.49932039723306065,
          0.6119144969724432,
          0.0044914070368108905,
          1.2205190950390283,
          0.41367231490469414,
          0.5356306793056294,
          0.3404799965436802,
          0.29432102736107546,
          0.3758177489513119,
          1.122632166381086,
          0.5358377310356932,
          1.238875594622273,
          0.9828454960704551,
          0.1485739892370097,
          0.5516683587940239,
          1.0171573615868166,
          1.172821420837419,
          0.9930834585774316,
          0.6817710943745661,
          0.03651734173571081,
          0.5358363908751478,
          1.1493765507710652,
          1.1728064811984091,
          0.49931914773076813,
          0.9163966667803438,
          1.4572862732069765,
          0.11153803035089649,
          0.7997601414752338,
          1.2919569862504585,
          0.5358350507213061,
          1.156362749878111,
          1.134166800745777,
          0.11901441190143691,
          0.01882116387271615,
          0.01183702383400631,
          0.32994822763403797,
          0.761127666743886,
          0.5438533204623364,
          0.8436513450591748,
          1.2849003490597921,
          0.071691483149676,
          0.9707474826776242,
          0.5653148083519248,
          0.28035562050907326,
          0.7611256630645085,
          0.01717535105024648,
          0.8067830758898591,
          1.3528335449592628,
          0.1115374619723869,
          1.0069317711288666,
          0.6004157268586086,
          1.156358938104876,
          0.20983085801720125,
          0.23053832465782942,
          0.9828455958247919,
          0.2417238862905119,
          0.7462122554055789,
          0.7694635922935577,
          0.35911980331548465,
          0.5876371466297485,
          0.16426268816293585,
          0.6256564850839211,
          0.78991726261575,
          0.7080580167918957,
          0.570914714816461,
          0.23054280582717912,
          0.5624578508256391,
          1.328731130971455,
          0.9406388046332718,
          0.2643707809460778,
          0.46416628942583216,
          0.0836085421794337,
          0.11308068459658027,
          0.08360806693648104,
          0.7938568489749599,
          0.027577956547774937,
          0.08376726083638761,
          0.27643050885431625,
          0.7037829746444861,
          0.31232964929040463,
          0.4993177996477973,
          0.8465413267116003,
          0.2756593056087572,
          0.4687916336300689,
          0.882459480796917,
          0.3866537149316108,
          0.07189462343763431,
          0.5358348714716639,
          0.13571525469021772,
          0.3782770352113475,
          1.4641664686683225,
          0.981423672515339,
          0.7794947320720518,
          0.0365207416771296,
          1.4641628067507648,
          1.3891465562285124,
          0.11153689359967,
          1.158695166871302,
          0.9707459229763301,
          0.5653136409442983,
          1.0069163292847503,
          0.7249066092458272,
          1.120816169062399,
          0.11307536790634587,
          0.3272770144149812,
          1.4130334714276331,
          0.01882072383802358,
          0.012097150864074813,
          0.23189171595568844,
          0.8549396841750305,
          0.5653124735414932,
          0.05455677270525239,
          0.359116137443642,
          0.26180335877756555,
          1.2388763406043197,
          0.00020810594116504877,
          0.5358408551484761,
          0.6353012582454671,
          0.6178667667223818,
          0.011836753347652107,
          0.5002972062611454,
          1.1828379018256445,
          0.6119224898562278,
          0.8343987540389107,
          0.43468869385649034,
          0.7067369488567337,
          1.1463624516276778,
          0.2417218817636787,
          0.40643223597331346,
          0.4136723209383417,
          0.6157974377080635,
          0.49932100743827146,
          0.5797502969047609,
          0.3075004635650307,
          0.5356327497851151,
          0.6754102033203349,
          0.7544119080057917,
          1.1410615676254834,
          0.5358395150035795,
          0.6360251714858056,
          0.10915631131458559,
          0.9156183526561193,
          0.06813937287302496,
          0.551662451688395,
          0.9828427381838476,
          0.0026927326710843857,
          1.2187204786396562,
          0.4639429751255886,
          0.8345986853275764,
          0.5356312626103805,
          0.03631030003800989,
          0.4993194754058944,
          0.04306562844447026,
          1.2962262664460709,
          1.3821437707853648,
          0.04609874590371815,
          0.11972342946817721,
          0.08441187105240677,
          0.57661689057584,
          1.4641618251346136,
          1.1581595974119354,
          1.1147683015261607,
          0.2098291131345933,
          1.434687796204872,
          0.22549724610847996,
          0.7611269207380464,
          0.8119599075653652,
          0.600409088396263,
          1.003503130224112,
          0.4346848335164449,
          1.1581441789256488,
          0.1091069424710987,
          1.3842087742482136,
          0.8346698240137748,
          0.30749458696218707,
          0.0363121733659002,
          0.48352175321200486,
          0.9828398805595205,
          0.020771513353115667,
          1.0843945455569963,
          0.2098273682810048,
          0.011836482873659238,
          0.2760034999783597,
          0.2254947171820201,
          0.7611249170764568,
          0.43118428051405355,
          0.9156207299722484,
          1.7056823533465753,
          1.4346839358765056,
          0.23054088887041013,
          0.011836212412027036,
          0.46394176165711354,
          1.4158920977521403,
          0.9406196563797778,
          0.3293753226639171,
          0.2992058766997482,
          0.7067286148911567,
          0.5356308259677881,
          0.11580808419079258,
          0.4639405481949863,
          0.8773854811833868,
          0.23053897194551976,
          0.024868274440941113,
          0.08213443054843414,
          1.1828254556168203,
          0.5797482998905616,
          0.5653190267917136,
          0.6400083908664432,
          0.6607414931437313,
          0.8500926649027318,
          0.565317859392251,
          1.352834335944085,
          0.1115363252327457,
          0.8773716890670434,
          1.2061525365617198,
          1.1410521630910475,
          0.248404533371417,
          0.48600926709097414,
          0.10827471088582469,
          0.03801032137241045,
          0.5876394913945927,
          1.1586790004604237,
          0.36356000839907887,
          0.9156078320890259,
          0.15916032514100292,
          1.1828130096699194,
          0.43118317313869425,
          0.5653166919976098,
          0.841337165499345,
          0.7532385632078176,
          0.5653155246077899,
          1.4245249083891793,
          0.11153575687161388,
          0.9178445259332739,
          0.018818585103892893,
          0.018818145735559066,
          1.1177387480168117,
          1.2543988784749165,
          0.07018596280744627,
          0.018817706387741162,
          0.535841836734697,
          0.5071626084952765,
          1.08440506543083,
          0.703790753555064,
          0.8247240968638334,
          0.26261447743805805,
          1.3782730509153014,
          0.5358404965974006,
          0.36398769778641094,
          0.7037815126050437,
          0.7037722718976921,
          1.2388770865745835,
          0.29195020554148543,
          0.24317159985177744,
          0.3635563732352145,
          0.04946759094672898,
          0.6754293068180462,
          1.0035035770081855,
          0.43468564277720856,
          0.01164379575568858,
          0.7544776874557306,
          0.7151141187465502,
          0.600291066623794,
          0.32937154395062684,
          1.3528317166132573,
          0.11153518851627442,
          1.150015975540477,
          0.6360196669566801,
          0.2305370550525072,
          0.017162977048189428,
          0.12381988433974297,
          1.1015169985100908,
          1.1493585012327436,
          0.07169379026652123,
          1.4245223191997272,
          0.11153462016672733,
          0.5864101649534605,
          0.56531525485328,
          0.033015255131570775,
          0.054552701001584936,
          0.004437585800445953,
          0.363552738144044,
          0.08360759169893106,
          0.7489213347014984,
          1.1656109438742919,
          0.8345885634588562,
          0.8272084580599973,
          0.11579984887550437,
          0.07189236995544074,
          0.5358391564668075,
          0.023108468854456388,
          0.6364508968744349,
          1.0171629271469655,
          0.027542131977438045,
          0.004440269039199585,
          0.3635554666800007,
          0.841871239150113,
          1.165597396559742,
          0.6339183212755993,
          0.7080531846948908,
          0.14008053139452503,
          0.25034027899442307,
          0.10814443094065945,
          0.7178339061063732,
          0.6004024500807111,
          0.8332619557458953,
          0.07018451100447576,
          0.8271979211780003,
          0.4311846429720344,
          0.5071528697889667,
          0.32041891984393145,
          1.0171599697621683,
          0.10465428073864158,
          0.5358378163429177,
          0.14856249854065334,
          0.4311838043765539,
          0.020771028037383066,
          0.09588415628465397,
          0.6606995492922019,
          0.03537245820444512,
          0.07188950167835928,
          1.464163523774269,
          0.09239465306441172,
          0.8067288966489827,
          0.009889503978038477,
          1.2061382767426456,
          0.4030971112205787,
          0.017157012394568183,
          0.10445395483187908,
          0.43118269701663714,
          0.18137914104509165,
          0.76112617474399,
          0.634162128779089,
          0.4343621612802763,
          0.9828430374888785,
          1.2537965565291347,
          0.2920804887934508,
          1.1208086003334041,
          0.11307005171603524,
          1.245530795349777,
          0.56531408747366,
          0.2943372386859695,
          0.018176727255754033,
          1.1659444820582259,
          0.7168403537963012,
          0.011615084334494569,
          0.21832156598624528,
          1.3528295863349937,
          0.11153405182297249,
          0.7489120759568799,
          0.8937506925207757,
          0.18137661665326396,
          0.7611241711001879,
          0.49220588233054574,
          0.7273754945203033,
          0.8589572412883666,
          0.012096868358975388,
          0.4993193372540775,
          0.7273747184914112,
          0.14104983804900478,
          0.08194166269587938,
          0.5438476989488684,
          0.5516585902511235,
          1.0171598200864684,
          0.565312920098861,
          1.2447625628182997,
          0.07346594878961454,
          0.248302618831733,
          0.8271873845644349,
          1.2388778325330652,
          0.35911524296493114,
          0.5381690894046984,
          0.8551211321659864,
          0.5653117527288833,
          0.981408580655082,
          0.35233171759294424,
          0.36044867262326374,
          0.2919550373914194,
          0.565310585363727,
          0.08360711646678365,
          0.6147357628856387,
          0.7582801227299092,
          0.3925229386154136,
          0.009983275203117314,
          0.6158051890408782,
          0.8247110010162586,
          0.5864039386688343,
          0.08360664124003869,
          1.0186065107410314,
          0.7794859013719116,
          0.7080483528223291,
          1.0035075755799836,
          0.5653094180033919,
          1.0171568627450986,
          0.0723339098350193,
          0.7273657007260846,
          0.14104867555672687,
          0.4311855835901929,
          0.41369082992147277,
          0.5071431314566615,
          0.7037630314329997,
          0.5653082506478778,
          1.1177231925405329,
          0.5358401380534988,
          0.9828460945790747,
          0.6754216888792576,
          0.9828432370197642,
          0.1811984239786782,
          1.0185908475827288,
          1.434692916702815,
          0.08043008597921675,
          0.2618074395547263,
          0.7611254287617164,
          0.3866570407591967,
          0.8271768482192909,
          0.06813421978772394,
          0.10465432170012662,
          0.535838797937209,
          0.5358374578276222,
          0.4466827401714567,
          0.8808052963937296,
          0.38527139911222796,
          1.2062249070863025,
          0.07346443910158074,
          1.0171596205229299,
          0.08360616601869608,
          0.2305351381913716,
          0.7611234251357015,
          1.1667499393299172,
          0.3404763190581638,
          0.6217414659321852,
          0.7210513245170749,
          0.7080401309830758,
          0.4064274862685574,
          0.7937900860140192,
          1.206124017260743,
          0.7661343677403072,
          0.4030954925144852,
          0.9828433367834668,
          0.3635518317069296,
          0.8822923625027835,
          0.08360569080275582,
          0.35911157732673327,
          1.3528263986805573,
          0.1115334834850098,
          0.6817850911652074,
          0.46394716257538315,
          0.767225666092261,
          0.7080319093347638,
          0.11306473602557798,
          1.0171595207429014,
          0.24172616530255364,
          0.23439969051397413,
          0.6580357780189993,
          0.562447013487473,
          0.5516586915406854,
          0.01715656345399091,
          0.0734629294755923,
          0.6003958119119484,
          0.5797490015650888,
          0.5358361177247386,
          0.04391255946905642,
          0.5358347776285579,
          0.4311861617452465,
          0.32993636712105295,
          0.7611214215202355,
          1.100247622196695,
          0.24172416080668901,
          0.7979309019100731,
          0.21812038457098556,
          0.5358334375390803,
          0.41057351305206413,
          1.1449301433111476,
          0.8546471400628811,
          0.012096585867070297,
          1.4346899540955824,
          0.707490729295428,
          0.4471996126192913,
          0.01715651357315482,
          1.0171564636926087,
          1.4572811831276522,
          0.8884670848471609,
          0.08360521559221779,
          0.08360474038708188,
          1.0497351857735744,
          0.40642273667481343,
          0.867064412564714,
          0.24052146872383684,
          0.9930991120857551,
          0.18137220689091318,
          1.2388805820846815,
          0.011642259753866513,
          0.7544832083469204,
          1.01715350643838,
          0.11771991594416668,
          0.5797477317435524,
          0.024871312864407247,
          0.3283870482796447,
          0.04616585751616553,
          0.524750479858461,
          0.41276436903212466,
          0.09414429178773687,
          0.5876333489071215,
          0.7248963217632038,
          0.5653130084994147,
          0.5653118411461286,
          0.0596150939805718,
          0.6157989771317355,
          0.5624361765669226,
          0.01817630314060037,
          0.7812955115000586,
          0.08718214360842946,
          1.415855538470152,
          0.05939949109414333,
          0.7937802195070398,
          1.1654215581643546,
          0.8824492354846581,
          0.7067202811221287,
          0.5797460672940596,
          0.46394594911817266
         ],
         "yaxis": "y"
        }
       ],
       "layout": {
        "legend": {
         "tracegroupgap": 0
        },
        "template": {
         "data": {
          "bar": [
           {
            "error_x": {
             "color": "#2a3f5f"
            },
            "error_y": {
             "color": "#2a3f5f"
            },
            "marker": {
             "line": {
              "color": "#E5ECF6",
              "width": 0.5
             },
             "pattern": {
              "fillmode": "overlay",
              "size": 10,
              "solidity": 0.2
             }
            },
            "type": "bar"
           }
          ],
          "barpolar": [
           {
            "marker": {
             "line": {
              "color": "#E5ECF6",
              "width": 0.5
             },
             "pattern": {
              "fillmode": "overlay",
              "size": 10,
              "solidity": 0.2
             }
            },
            "type": "barpolar"
           }
          ],
          "carpet": [
           {
            "aaxis": {
             "endlinecolor": "#2a3f5f",
             "gridcolor": "white",
             "linecolor": "white",
             "minorgridcolor": "white",
             "startlinecolor": "#2a3f5f"
            },
            "baxis": {
             "endlinecolor": "#2a3f5f",
             "gridcolor": "white",
             "linecolor": "white",
             "minorgridcolor": "white",
             "startlinecolor": "#2a3f5f"
            },
            "type": "carpet"
           }
          ],
          "choropleth": [
           {
            "colorbar": {
             "outlinewidth": 0,
             "ticks": ""
            },
            "type": "choropleth"
           }
          ],
          "contour": [
           {
            "colorbar": {
             "outlinewidth": 0,
             "ticks": ""
            },
            "colorscale": [
             [
              0,
              "#0d0887"
             ],
             [
              0.1111111111111111,
              "#46039f"
             ],
             [
              0.2222222222222222,
              "#7201a8"
             ],
             [
              0.3333333333333333,
              "#9c179e"
             ],
             [
              0.4444444444444444,
              "#bd3786"
             ],
             [
              0.5555555555555556,
              "#d8576b"
             ],
             [
              0.6666666666666666,
              "#ed7953"
             ],
             [
              0.7777777777777778,
              "#fb9f3a"
             ],
             [
              0.8888888888888888,
              "#fdca26"
             ],
             [
              1,
              "#f0f921"
             ]
            ],
            "type": "contour"
           }
          ],
          "contourcarpet": [
           {
            "colorbar": {
             "outlinewidth": 0,
             "ticks": ""
            },
            "type": "contourcarpet"
           }
          ],
          "heatmap": [
           {
            "colorbar": {
             "outlinewidth": 0,
             "ticks": ""
            },
            "colorscale": [
             [
              0,
              "#0d0887"
             ],
             [
              0.1111111111111111,
              "#46039f"
             ],
             [
              0.2222222222222222,
              "#7201a8"
             ],
             [
              0.3333333333333333,
              "#9c179e"
             ],
             [
              0.4444444444444444,
              "#bd3786"
             ],
             [
              0.5555555555555556,
              "#d8576b"
             ],
             [
              0.6666666666666666,
              "#ed7953"
             ],
             [
              0.7777777777777778,
              "#fb9f3a"
             ],
             [
              0.8888888888888888,
              "#fdca26"
             ],
             [
              1,
              "#f0f921"
             ]
            ],
            "type": "heatmap"
           }
          ],
          "heatmapgl": [
           {
            "colorbar": {
             "outlinewidth": 0,
             "ticks": ""
            },
            "colorscale": [
             [
              0,
              "#0d0887"
             ],
             [
              0.1111111111111111,
              "#46039f"
             ],
             [
              0.2222222222222222,
              "#7201a8"
             ],
             [
              0.3333333333333333,
              "#9c179e"
             ],
             [
              0.4444444444444444,
              "#bd3786"
             ],
             [
              0.5555555555555556,
              "#d8576b"
             ],
             [
              0.6666666666666666,
              "#ed7953"
             ],
             [
              0.7777777777777778,
              "#fb9f3a"
             ],
             [
              0.8888888888888888,
              "#fdca26"
             ],
             [
              1,
              "#f0f921"
             ]
            ],
            "type": "heatmapgl"
           }
          ],
          "histogram": [
           {
            "marker": {
             "pattern": {
              "fillmode": "overlay",
              "size": 10,
              "solidity": 0.2
             }
            },
            "type": "histogram"
           }
          ],
          "histogram2d": [
           {
            "colorbar": {
             "outlinewidth": 0,
             "ticks": ""
            },
            "colorscale": [
             [
              0,
              "#0d0887"
             ],
             [
              0.1111111111111111,
              "#46039f"
             ],
             [
              0.2222222222222222,
              "#7201a8"
             ],
             [
              0.3333333333333333,
              "#9c179e"
             ],
             [
              0.4444444444444444,
              "#bd3786"
             ],
             [
              0.5555555555555556,
              "#d8576b"
             ],
             [
              0.6666666666666666,
              "#ed7953"
             ],
             [
              0.7777777777777778,
              "#fb9f3a"
             ],
             [
              0.8888888888888888,
              "#fdca26"
             ],
             [
              1,
              "#f0f921"
             ]
            ],
            "type": "histogram2d"
           }
          ],
          "histogram2dcontour": [
           {
            "colorbar": {
             "outlinewidth": 0,
             "ticks": ""
            },
            "colorscale": [
             [
              0,
              "#0d0887"
             ],
             [
              0.1111111111111111,
              "#46039f"
             ],
             [
              0.2222222222222222,
              "#7201a8"
             ],
             [
              0.3333333333333333,
              "#9c179e"
             ],
             [
              0.4444444444444444,
              "#bd3786"
             ],
             [
              0.5555555555555556,
              "#d8576b"
             ],
             [
              0.6666666666666666,
              "#ed7953"
             ],
             [
              0.7777777777777778,
              "#fb9f3a"
             ],
             [
              0.8888888888888888,
              "#fdca26"
             ],
             [
              1,
              "#f0f921"
             ]
            ],
            "type": "histogram2dcontour"
           }
          ],
          "mesh3d": [
           {
            "colorbar": {
             "outlinewidth": 0,
             "ticks": ""
            },
            "type": "mesh3d"
           }
          ],
          "parcoords": [
           {
            "line": {
             "colorbar": {
              "outlinewidth": 0,
              "ticks": ""
             }
            },
            "type": "parcoords"
           }
          ],
          "pie": [
           {
            "automargin": true,
            "type": "pie"
           }
          ],
          "scatter": [
           {
            "fillpattern": {
             "fillmode": "overlay",
             "size": 10,
             "solidity": 0.2
            },
            "type": "scatter"
           }
          ],
          "scatter3d": [
           {
            "line": {
             "colorbar": {
              "outlinewidth": 0,
              "ticks": ""
             }
            },
            "marker": {
             "colorbar": {
              "outlinewidth": 0,
              "ticks": ""
             }
            },
            "type": "scatter3d"
           }
          ],
          "scattercarpet": [
           {
            "marker": {
             "colorbar": {
              "outlinewidth": 0,
              "ticks": ""
             }
            },
            "type": "scattercarpet"
           }
          ],
          "scattergeo": [
           {
            "marker": {
             "colorbar": {
              "outlinewidth": 0,
              "ticks": ""
             }
            },
            "type": "scattergeo"
           }
          ],
          "scattergl": [
           {
            "marker": {
             "colorbar": {
              "outlinewidth": 0,
              "ticks": ""
             }
            },
            "type": "scattergl"
           }
          ],
          "scattermapbox": [
           {
            "marker": {
             "colorbar": {
              "outlinewidth": 0,
              "ticks": ""
             }
            },
            "type": "scattermapbox"
           }
          ],
          "scatterpolar": [
           {
            "marker": {
             "colorbar": {
              "outlinewidth": 0,
              "ticks": ""
             }
            },
            "type": "scatterpolar"
           }
          ],
          "scatterpolargl": [
           {
            "marker": {
             "colorbar": {
              "outlinewidth": 0,
              "ticks": ""
             }
            },
            "type": "scatterpolargl"
           }
          ],
          "scatterternary": [
           {
            "marker": {
             "colorbar": {
              "outlinewidth": 0,
              "ticks": ""
             }
            },
            "type": "scatterternary"
           }
          ],
          "surface": [
           {
            "colorbar": {
             "outlinewidth": 0,
             "ticks": ""
            },
            "colorscale": [
             [
              0,
              "#0d0887"
             ],
             [
              0.1111111111111111,
              "#46039f"
             ],
             [
              0.2222222222222222,
              "#7201a8"
             ],
             [
              0.3333333333333333,
              "#9c179e"
             ],
             [
              0.4444444444444444,
              "#bd3786"
             ],
             [
              0.5555555555555556,
              "#d8576b"
             ],
             [
              0.6666666666666666,
              "#ed7953"
             ],
             [
              0.7777777777777778,
              "#fb9f3a"
             ],
             [
              0.8888888888888888,
              "#fdca26"
             ],
             [
              1,
              "#f0f921"
             ]
            ],
            "type": "surface"
           }
          ],
          "table": [
           {
            "cells": {
             "fill": {
              "color": "#EBF0F8"
             },
             "line": {
              "color": "white"
             }
            },
            "header": {
             "fill": {
              "color": "#C8D4E3"
             },
             "line": {
              "color": "white"
             }
            },
            "type": "table"
           }
          ]
         },
         "layout": {
          "annotationdefaults": {
           "arrowcolor": "#2a3f5f",
           "arrowhead": 0,
           "arrowwidth": 1
          },
          "autotypenumbers": "strict",
          "coloraxis": {
           "colorbar": {
            "outlinewidth": 0,
            "ticks": ""
           }
          },
          "colorscale": {
           "diverging": [
            [
             0,
             "#8e0152"
            ],
            [
             0.1,
             "#c51b7d"
            ],
            [
             0.2,
             "#de77ae"
            ],
            [
             0.3,
             "#f1b6da"
            ],
            [
             0.4,
             "#fde0ef"
            ],
            [
             0.5,
             "#f7f7f7"
            ],
            [
             0.6,
             "#e6f5d0"
            ],
            [
             0.7,
             "#b8e186"
            ],
            [
             0.8,
             "#7fbc41"
            ],
            [
             0.9,
             "#4d9221"
            ],
            [
             1,
             "#276419"
            ]
           ],
           "sequential": [
            [
             0,
             "#0d0887"
            ],
            [
             0.1111111111111111,
             "#46039f"
            ],
            [
             0.2222222222222222,
             "#7201a8"
            ],
            [
             0.3333333333333333,
             "#9c179e"
            ],
            [
             0.4444444444444444,
             "#bd3786"
            ],
            [
             0.5555555555555556,
             "#d8576b"
            ],
            [
             0.6666666666666666,
             "#ed7953"
            ],
            [
             0.7777777777777778,
             "#fb9f3a"
            ],
            [
             0.8888888888888888,
             "#fdca26"
            ],
            [
             1,
             "#f0f921"
            ]
           ],
           "sequentialminus": [
            [
             0,
             "#0d0887"
            ],
            [
             0.1111111111111111,
             "#46039f"
            ],
            [
             0.2222222222222222,
             "#7201a8"
            ],
            [
             0.3333333333333333,
             "#9c179e"
            ],
            [
             0.4444444444444444,
             "#bd3786"
            ],
            [
             0.5555555555555556,
             "#d8576b"
            ],
            [
             0.6666666666666666,
             "#ed7953"
            ],
            [
             0.7777777777777778,
             "#fb9f3a"
            ],
            [
             0.8888888888888888,
             "#fdca26"
            ],
            [
             1,
             "#f0f921"
            ]
           ]
          },
          "colorway": [
           "#636efa",
           "#EF553B",
           "#00cc96",
           "#ab63fa",
           "#FFA15A",
           "#19d3f3",
           "#FF6692",
           "#B6E880",
           "#FF97FF",
           "#FECB52"
          ],
          "font": {
           "color": "#2a3f5f"
          },
          "geo": {
           "bgcolor": "white",
           "lakecolor": "white",
           "landcolor": "#E5ECF6",
           "showlakes": true,
           "showland": true,
           "subunitcolor": "white"
          },
          "hoverlabel": {
           "align": "left"
          },
          "hovermode": "closest",
          "mapbox": {
           "style": "light"
          },
          "paper_bgcolor": "white",
          "plot_bgcolor": "#E5ECF6",
          "polar": {
           "angularaxis": {
            "gridcolor": "white",
            "linecolor": "white",
            "ticks": ""
           },
           "bgcolor": "#E5ECF6",
           "radialaxis": {
            "gridcolor": "white",
            "linecolor": "white",
            "ticks": ""
           }
          },
          "scene": {
           "xaxis": {
            "backgroundcolor": "#E5ECF6",
            "gridcolor": "white",
            "gridwidth": 2,
            "linecolor": "white",
            "showbackground": true,
            "ticks": "",
            "zerolinecolor": "white"
           },
           "yaxis": {
            "backgroundcolor": "#E5ECF6",
            "gridcolor": "white",
            "gridwidth": 2,
            "linecolor": "white",
            "showbackground": true,
            "ticks": "",
            "zerolinecolor": "white"
           },
           "zaxis": {
            "backgroundcolor": "#E5ECF6",
            "gridcolor": "white",
            "gridwidth": 2,
            "linecolor": "white",
            "showbackground": true,
            "ticks": "",
            "zerolinecolor": "white"
           }
          },
          "shapedefaults": {
           "line": {
            "color": "#2a3f5f"
           }
          },
          "ternary": {
           "aaxis": {
            "gridcolor": "white",
            "linecolor": "white",
            "ticks": ""
           },
           "baxis": {
            "gridcolor": "white",
            "linecolor": "white",
            "ticks": ""
           },
           "bgcolor": "#E5ECF6",
           "caxis": {
            "gridcolor": "white",
            "linecolor": "white",
            "ticks": ""
           }
          },
          "title": {
           "x": 0.05
          },
          "xaxis": {
           "automargin": true,
           "gridcolor": "white",
           "linecolor": "white",
           "ticks": "",
           "title": {
            "standoff": 15
           },
           "zerolinecolor": "white",
           "zerolinewidth": 2
          },
          "yaxis": {
           "automargin": true,
           "gridcolor": "white",
           "linecolor": "white",
           "ticks": "",
           "title": {
            "standoff": 15
           },
           "zerolinecolor": "white",
           "zerolinewidth": 2
          }
         }
        },
        "title": {
         "text": "Mean td errors"
        },
        "xaxis": {
         "anchor": "y",
         "domain": [
          0,
          1
         ],
         "title": {
          "text": "x"
         }
        },
        "yaxis": {
         "anchor": "x",
         "domain": [
          0,
          1
         ],
         "title": {
          "text": "y"
         }
        }
       }
      }
     },
     "metadata": {},
     "output_type": "display_data"
    }
   ],
   "source": [
    "import math\n",
    "import random\n",
    "from copy import deepcopy\n",
    "from collections import deque\n",
    "import plotly.express as px\n",
    "    \n",
    "q_grid: tp.Dict[str, np.ndarray] = {\n",
    "    'no_ace': np.zeros((10, 10, 2), dtype=float),\n",
    "    'ace': np.zeros((10, 10, 2), dtype=float)\n",
    "}\n",
    "\n",
    "def estimate_q_function(num_episodes: int = 10_000_000, frame_step: int = 100_000, plot_step: int = 10_000):\n",
    "    \n",
    "    global q_grid\n",
    "\n",
    "    last_rewards = deque(maxlen=1000)\n",
    "    last_td_errors = deque(maxlen=1000)\n",
    "\n",
    "    mean_rewards = []\n",
    "    mean_td_errors = []\n",
    "    \n",
    "    env = gym.make(\"Blackjack-v1\", sab=True)\n",
    "\n",
    "    temp_dir = Path('tmp')\n",
    "    if temp_dir.exists():\n",
    "        shutil.rmtree(temp_dir)\n",
    "    temp_dir.mkdir()\n",
    "    \n",
    "    eps_from = 1.0\n",
    "    eps_to = 1e-3\n",
    "    n_epochs_of_decays = math.ceil(num_episodes * 0.5)\n",
    "    \n",
    "    q_grid_count: tp.Dict[str, np.ndarray] = {\n",
    "        'no_ace': np.zeros((10, 10, 2), dtype=int),\n",
    "        'ace': np.zeros((10, 10, 2), dtype=int)\n",
    "    }\n",
    "    \n",
    "    frames = []\n",
    "    \n",
    "    for ep_idx in tqdm(range(num_episodes + frame_step)):\n",
    "        if ep_idx > n_epochs_of_decays:\n",
    "            eps_greedy_coeff = 0.0\n",
    "        else:\n",
    "            step_coeff = min(max(ep_idx / n_epochs_of_decays, 0.0), 1.0)\n",
    "            eps_greedy_coeff = eps_from * math.exp(math.log(eps_to / eps_from) * step_coeff)\n",
    "            # eps_greedy_coeff = eps_from + (eps_to - eps_from) * step_coeff\n",
    "    \n",
    "        obs, info = env.reset()\n",
    "        done = False\n",
    "        ep_reward = 0\n",
    "\n",
    "        while not done:\n",
    "            player_scores, dealer_card, player_has_ace = obs\n",
    "            q = q_grid['ace' if player_has_ace else 'no_ace']\n",
    "            q_count = q_grid_count['ace' if player_has_ace else 'no_ace']\n",
    "            if player_scores >= player_scores_offset:\n",
    "                cell_idx = (dealer_card - dealer_card_offset, player_scores - player_scores_offset)\n",
    "                if random.uniform(0, 1) < eps_greedy_coeff:\n",
    "                    action = np.random.choice([0, 1])\n",
    "                else:\n",
    "                    action = q[cell_idx].argmax()\n",
    "            else:\n",
    "                action = 1\n",
    "            \n",
    "            next_obs, reward, terminated, truncated, info = env.step(action)\n",
    "            ep_reward += reward\n",
    "            \n",
    "            done = terminated or truncated\n",
    "            \n",
    "            if player_scores >= player_scores_offset:\n",
    "                if terminated:\n",
    "                    td_target = reward\n",
    "                else:\n",
    "                    next_player_scores, next_dealer_card, next_player_has_ace = next_obs\n",
    "                    next_cell_idx = (next_dealer_card - dealer_card_offset, next_player_scores - player_scores_offset)\n",
    "                    next_q = q_grid['ace' if next_player_has_ace else 'no_ace']\n",
    "                    \n",
    "                    td_target = reward + next_q[next_cell_idx].max()\n",
    "                td_error = td_target - q[cell_idx][action]\n",
    "                q_count[cell_idx][action] += 1\n",
    "                q[cell_idx][action] += td_error / q_count[cell_idx][action]\n",
    "                last_td_errors.append(abs(td_error))\n",
    "                \n",
    "            obs = next_obs\n",
    "        \n",
    "        last_rewards.append(ep_reward)\n",
    "        \n",
    "        mean_reward = sum(last_rewards) / len(last_rewards)\n",
    "        if len(last_td_errors) > 0 and math.ceil(ep_idx / plot_step) >= len(mean_rewards):\n",
    "            mean_rewards.append(mean_reward)\n",
    "            mean_td_error = sum(last_td_errors) / len(last_td_errors)\n",
    "            mean_td_errors.append(mean_td_error)\n",
    "        \n",
    "        if ep_idx % frame_step == 0:\n",
    "            ep_name = str(ep_idx) if ep_idx > 0 else '1'\n",
    "            \n",
    "            values = {\n",
    "                'no_ace': q_grid['no_ace'].max(axis=2),\n",
    "                'ace': q_grid['ace'].max(axis=2)\n",
    "            }\n",
    "            fig = draw_value_function(f'Value-function from Q-function on step: {ep_name}', values)\n",
    "\n",
    "            image_path = temp_dir / f'{ep_name}.png'\n",
    "            fig.write_image(image_path)\n",
    "            frames.append(imageio.imread(image_path))\n",
    "            \n",
    "    imageio.mimsave('blackjack_optimal_value_function.mp4', frames)\n",
    "    \n",
    "    px.line(y=mean_rewards, title='Mean reward').show()\n",
    "    px.line(y=last_td_errors, title='Mean td errors').show()\n",
    "    \n",
    "\n",
    "estimate_q_function()"
   ]
  },
  {
   "cell_type": "code",
   "execution_count": 31,
   "metadata": {},
   "outputs": [
    {
     "name": "stderr",
     "output_type": "stream",
     "text": [
      "100%|██████████| 100000/100000 [00:13<00:00, 7594.05it/s]\n",
      "IMAGEIO FFMPEG_WRITER WARNING: input image is not divisible by macro_block_size=16, resizing from (600, 500) to (608, 512) to ensure video compatibility with most codecs and players. To prevent resizing, make your input image divisible by the macro_block_size or set the macro_block_size to 1 (risking incompatibility).\n"
     ]
    },
    {
     "data": {
      "text/plain": [
       "-0.04617"
      ]
     },
     "execution_count": 31,
     "metadata": {},
     "output_type": "execute_result"
    }
   ],
   "source": [
    "policy_grids['no_ace'] = q_grid['no_ace'].argmax(axis=2)\n",
    "policy_grids['ace'] = q_grid['ace'].argmax(axis=2)\n",
    "\n",
    "new_policy_reward = estimate_policy(out_file_name='optimal_policy_game.mp4')\n",
    "new_policy_reward"
   ]
  },
  {
   "cell_type": "code",
   "execution_count": 33,
   "metadata": {},
   "outputs": [
    {
     "data": {
      "application/vnd.plotly.v1+json": {
       "config": {
        "plotlyServerURL": "https://plot.ly"
       },
       "data": [
        {
         "colorscale": [
          [
           0,
           "rgb(150,150,150)"
          ],
          [
           1,
           "rgb(155,230,155)"
          ]
         ],
         "showscale": false,
         "text": [
          [
           "Hit",
           "Hit",
           "Hit",
           "Hit",
           "Hit",
           "Stick",
           "Stick",
           "Stick",
           "Stick",
           "Stick"
          ],
          [
           "Hit",
           "Stick",
           "Stick",
           "Stick",
           "Stick",
           "Stick",
           "Stick",
           "Stick",
           "Stick",
           "Stick"
          ],
          [
           "Hit",
           "Stick",
           "Stick",
           "Stick",
           "Stick",
           "Stick",
           "Stick",
           "Stick",
           "Stick",
           "Stick"
          ],
          [
           "Hit",
           "Stick",
           "Stick",
           "Stick",
           "Stick",
           "Stick",
           "Stick",
           "Stick",
           "Stick",
           "Stick"
          ],
          [
           "Stick",
           "Stick",
           "Stick",
           "Stick",
           "Stick",
           "Stick",
           "Stick",
           "Stick",
           "Stick",
           "Stick"
          ],
          [
           "Stick",
           "Stick",
           "Stick",
           "Stick",
           "Stick",
           "Stick",
           "Stick",
           "Stick",
           "Stick",
           "Stick"
          ],
          [
           "Hit",
           "Hit",
           "Hit",
           "Hit",
           "Hit",
           "Stick",
           "Stick",
           "Stick",
           "Stick",
           "Stick"
          ],
          [
           "Hit",
           "Hit",
           "Hit",
           "Hit",
           "Hit",
           "Stick",
           "Stick",
           "Stick",
           "Stick",
           "Stick"
          ],
          [
           "Hit",
           "Hit",
           "Hit",
           "Hit",
           "Hit",
           "Stick",
           "Stick",
           "Stick",
           "Stick",
           "Stick"
          ],
          [
           "Hit",
           "Hit",
           "Hit",
           "Hit",
           "Hit",
           "Stick",
           "Stick",
           "Stick",
           "Stick",
           "Stick"
          ]
         ],
         "texttemplate": "%{text}",
         "type": "heatmap",
         "x": [
          12,
          13,
          14,
          15,
          16,
          17,
          18,
          19,
          20,
          21
         ],
         "xaxis": "x",
         "y": [
          "A",
          "2",
          "3",
          "4",
          "5",
          "6",
          "7",
          "8",
          "9",
          "10"
         ],
         "yaxis": "y",
         "z": [
          [
           1,
           1,
           1,
           1,
           1,
           0,
           0,
           0,
           0,
           0
          ],
          [
           1,
           0,
           0,
           0,
           0,
           0,
           0,
           0,
           0,
           0
          ],
          [
           1,
           0,
           0,
           0,
           0,
           0,
           0,
           0,
           0,
           0
          ],
          [
           1,
           0,
           0,
           0,
           0,
           0,
           0,
           0,
           0,
           0
          ],
          [
           0,
           0,
           0,
           0,
           0,
           0,
           0,
           0,
           0,
           0
          ],
          [
           0,
           0,
           0,
           0,
           0,
           0,
           0,
           0,
           0,
           0
          ],
          [
           1,
           1,
           1,
           1,
           1,
           0,
           0,
           0,
           0,
           0
          ],
          [
           1,
           1,
           1,
           1,
           1,
           0,
           0,
           0,
           0,
           0
          ],
          [
           1,
           1,
           1,
           1,
           1,
           0,
           0,
           0,
           0,
           0
          ],
          [
           1,
           1,
           1,
           1,
           1,
           0,
           0,
           0,
           0,
           0
          ]
         ]
        },
        {
         "colorscale": [
          [
           0,
           "rgb(150,150,150)"
          ],
          [
           1,
           "rgb(155,230,155)"
          ]
         ],
         "showscale": false,
         "text": [
          [
           "Hit",
           "Hit",
           "Hit",
           "Hit",
           "Hit",
           "Stick",
           "Stick",
           "Stick",
           "Stick",
           "Stick"
          ],
          [
           "Hit",
           "Stick",
           "Stick",
           "Stick",
           "Stick",
           "Stick",
           "Stick",
           "Stick",
           "Stick",
           "Stick"
          ],
          [
           "Hit",
           "Stick",
           "Stick",
           "Stick",
           "Stick",
           "Stick",
           "Stick",
           "Stick",
           "Stick",
           "Stick"
          ],
          [
           "Hit",
           "Stick",
           "Stick",
           "Stick",
           "Stick",
           "Stick",
           "Stick",
           "Stick",
           "Stick",
           "Stick"
          ],
          [
           "Stick",
           "Stick",
           "Stick",
           "Stick",
           "Stick",
           "Stick",
           "Stick",
           "Stick",
           "Stick",
           "Stick"
          ],
          [
           "Stick",
           "Stick",
           "Stick",
           "Stick",
           "Stick",
           "Stick",
           "Stick",
           "Stick",
           "Stick",
           "Stick"
          ],
          [
           "Hit",
           "Hit",
           "Hit",
           "Hit",
           "Hit",
           "Stick",
           "Stick",
           "Stick",
           "Stick",
           "Stick"
          ],
          [
           "Hit",
           "Hit",
           "Hit",
           "Hit",
           "Hit",
           "Stick",
           "Stick",
           "Stick",
           "Stick",
           "Stick"
          ],
          [
           "Hit",
           "Hit",
           "Hit",
           "Hit",
           "Hit",
           "Stick",
           "Stick",
           "Stick",
           "Stick",
           "Stick"
          ],
          [
           "Hit",
           "Hit",
           "Hit",
           "Hit",
           "Hit",
           "Stick",
           "Stick",
           "Stick",
           "Stick",
           "Stick"
          ]
         ],
         "texttemplate": "%{text}",
         "type": "heatmap",
         "x": [
          12,
          13,
          14,
          15,
          16,
          17,
          18,
          19,
          20,
          21
         ],
         "xaxis": "x2",
         "y": [
          "A",
          "2",
          "3",
          "4",
          "5",
          "6",
          "7",
          "8",
          "9",
          "10"
         ],
         "yaxis": "y2",
         "z": [
          [
           1,
           1,
           1,
           1,
           1,
           1,
           1,
           0,
           0,
           0
          ],
          [
           1,
           1,
           1,
           1,
           1,
           1,
           0,
           0,
           0,
           0
          ],
          [
           1,
           1,
           1,
           1,
           1,
           1,
           0,
           0,
           0,
           0
          ],
          [
           1,
           1,
           1,
           1,
           1,
           1,
           0,
           0,
           0,
           0
          ],
          [
           1,
           1,
           1,
           1,
           1,
           1,
           0,
           0,
           0,
           0
          ],
          [
           1,
           1,
           1,
           1,
           1,
           1,
           0,
           0,
           0,
           0
          ],
          [
           1,
           1,
           1,
           1,
           1,
           1,
           0,
           0,
           0,
           0
          ],
          [
           1,
           1,
           1,
           1,
           1,
           1,
           0,
           0,
           0,
           0
          ],
          [
           1,
           1,
           1,
           1,
           1,
           1,
           1,
           0,
           0,
           0
          ],
          [
           1,
           1,
           1,
           1,
           1,
           1,
           1,
           0,
           0,
           0
          ]
         ]
        }
       ],
       "layout": {
        "annotations": [
         {
          "font": {
           "size": 16
          },
          "showarrow": false,
          "text": "No ace",
          "x": 0.225,
          "xanchor": "center",
          "xref": "paper",
          "y": 1,
          "yanchor": "bottom",
          "yref": "paper"
         },
         {
          "font": {
           "size": 16
          },
          "showarrow": false,
          "text": "Ace",
          "x": 0.775,
          "xanchor": "center",
          "xref": "paper",
          "y": 1,
          "yanchor": "bottom",
          "yref": "paper"
         }
        ],
        "height": 400,
        "scene": {
         "xaxis": {
          "title": {
           "text": "Dealer"
          }
         },
         "yaxis": {
          "title": {
           "text": "Player"
          }
         }
        },
        "template": {
         "data": {
          "bar": [
           {
            "error_x": {
             "color": "#2a3f5f"
            },
            "error_y": {
             "color": "#2a3f5f"
            },
            "marker": {
             "line": {
              "color": "#E5ECF6",
              "width": 0.5
             },
             "pattern": {
              "fillmode": "overlay",
              "size": 10,
              "solidity": 0.2
             }
            },
            "type": "bar"
           }
          ],
          "barpolar": [
           {
            "marker": {
             "line": {
              "color": "#E5ECF6",
              "width": 0.5
             },
             "pattern": {
              "fillmode": "overlay",
              "size": 10,
              "solidity": 0.2
             }
            },
            "type": "barpolar"
           }
          ],
          "carpet": [
           {
            "aaxis": {
             "endlinecolor": "#2a3f5f",
             "gridcolor": "white",
             "linecolor": "white",
             "minorgridcolor": "white",
             "startlinecolor": "#2a3f5f"
            },
            "baxis": {
             "endlinecolor": "#2a3f5f",
             "gridcolor": "white",
             "linecolor": "white",
             "minorgridcolor": "white",
             "startlinecolor": "#2a3f5f"
            },
            "type": "carpet"
           }
          ],
          "choropleth": [
           {
            "colorbar": {
             "outlinewidth": 0,
             "ticks": ""
            },
            "type": "choropleth"
           }
          ],
          "contour": [
           {
            "colorbar": {
             "outlinewidth": 0,
             "ticks": ""
            },
            "colorscale": [
             [
              0,
              "#0d0887"
             ],
             [
              0.1111111111111111,
              "#46039f"
             ],
             [
              0.2222222222222222,
              "#7201a8"
             ],
             [
              0.3333333333333333,
              "#9c179e"
             ],
             [
              0.4444444444444444,
              "#bd3786"
             ],
             [
              0.5555555555555556,
              "#d8576b"
             ],
             [
              0.6666666666666666,
              "#ed7953"
             ],
             [
              0.7777777777777778,
              "#fb9f3a"
             ],
             [
              0.8888888888888888,
              "#fdca26"
             ],
             [
              1,
              "#f0f921"
             ]
            ],
            "type": "contour"
           }
          ],
          "contourcarpet": [
           {
            "colorbar": {
             "outlinewidth": 0,
             "ticks": ""
            },
            "type": "contourcarpet"
           }
          ],
          "heatmap": [
           {
            "colorbar": {
             "outlinewidth": 0,
             "ticks": ""
            },
            "colorscale": [
             [
              0,
              "#0d0887"
             ],
             [
              0.1111111111111111,
              "#46039f"
             ],
             [
              0.2222222222222222,
              "#7201a8"
             ],
             [
              0.3333333333333333,
              "#9c179e"
             ],
             [
              0.4444444444444444,
              "#bd3786"
             ],
             [
              0.5555555555555556,
              "#d8576b"
             ],
             [
              0.6666666666666666,
              "#ed7953"
             ],
             [
              0.7777777777777778,
              "#fb9f3a"
             ],
             [
              0.8888888888888888,
              "#fdca26"
             ],
             [
              1,
              "#f0f921"
             ]
            ],
            "type": "heatmap"
           }
          ],
          "heatmapgl": [
           {
            "colorbar": {
             "outlinewidth": 0,
             "ticks": ""
            },
            "colorscale": [
             [
              0,
              "#0d0887"
             ],
             [
              0.1111111111111111,
              "#46039f"
             ],
             [
              0.2222222222222222,
              "#7201a8"
             ],
             [
              0.3333333333333333,
              "#9c179e"
             ],
             [
              0.4444444444444444,
              "#bd3786"
             ],
             [
              0.5555555555555556,
              "#d8576b"
             ],
             [
              0.6666666666666666,
              "#ed7953"
             ],
             [
              0.7777777777777778,
              "#fb9f3a"
             ],
             [
              0.8888888888888888,
              "#fdca26"
             ],
             [
              1,
              "#f0f921"
             ]
            ],
            "type": "heatmapgl"
           }
          ],
          "histogram": [
           {
            "marker": {
             "pattern": {
              "fillmode": "overlay",
              "size": 10,
              "solidity": 0.2
             }
            },
            "type": "histogram"
           }
          ],
          "histogram2d": [
           {
            "colorbar": {
             "outlinewidth": 0,
             "ticks": ""
            },
            "colorscale": [
             [
              0,
              "#0d0887"
             ],
             [
              0.1111111111111111,
              "#46039f"
             ],
             [
              0.2222222222222222,
              "#7201a8"
             ],
             [
              0.3333333333333333,
              "#9c179e"
             ],
             [
              0.4444444444444444,
              "#bd3786"
             ],
             [
              0.5555555555555556,
              "#d8576b"
             ],
             [
              0.6666666666666666,
              "#ed7953"
             ],
             [
              0.7777777777777778,
              "#fb9f3a"
             ],
             [
              0.8888888888888888,
              "#fdca26"
             ],
             [
              1,
              "#f0f921"
             ]
            ],
            "type": "histogram2d"
           }
          ],
          "histogram2dcontour": [
           {
            "colorbar": {
             "outlinewidth": 0,
             "ticks": ""
            },
            "colorscale": [
             [
              0,
              "#0d0887"
             ],
             [
              0.1111111111111111,
              "#46039f"
             ],
             [
              0.2222222222222222,
              "#7201a8"
             ],
             [
              0.3333333333333333,
              "#9c179e"
             ],
             [
              0.4444444444444444,
              "#bd3786"
             ],
             [
              0.5555555555555556,
              "#d8576b"
             ],
             [
              0.6666666666666666,
              "#ed7953"
             ],
             [
              0.7777777777777778,
              "#fb9f3a"
             ],
             [
              0.8888888888888888,
              "#fdca26"
             ],
             [
              1,
              "#f0f921"
             ]
            ],
            "type": "histogram2dcontour"
           }
          ],
          "mesh3d": [
           {
            "colorbar": {
             "outlinewidth": 0,
             "ticks": ""
            },
            "type": "mesh3d"
           }
          ],
          "parcoords": [
           {
            "line": {
             "colorbar": {
              "outlinewidth": 0,
              "ticks": ""
             }
            },
            "type": "parcoords"
           }
          ],
          "pie": [
           {
            "automargin": true,
            "type": "pie"
           }
          ],
          "scatter": [
           {
            "fillpattern": {
             "fillmode": "overlay",
             "size": 10,
             "solidity": 0.2
            },
            "type": "scatter"
           }
          ],
          "scatter3d": [
           {
            "line": {
             "colorbar": {
              "outlinewidth": 0,
              "ticks": ""
             }
            },
            "marker": {
             "colorbar": {
              "outlinewidth": 0,
              "ticks": ""
             }
            },
            "type": "scatter3d"
           }
          ],
          "scattercarpet": [
           {
            "marker": {
             "colorbar": {
              "outlinewidth": 0,
              "ticks": ""
             }
            },
            "type": "scattercarpet"
           }
          ],
          "scattergeo": [
           {
            "marker": {
             "colorbar": {
              "outlinewidth": 0,
              "ticks": ""
             }
            },
            "type": "scattergeo"
           }
          ],
          "scattergl": [
           {
            "marker": {
             "colorbar": {
              "outlinewidth": 0,
              "ticks": ""
             }
            },
            "type": "scattergl"
           }
          ],
          "scattermapbox": [
           {
            "marker": {
             "colorbar": {
              "outlinewidth": 0,
              "ticks": ""
             }
            },
            "type": "scattermapbox"
           }
          ],
          "scatterpolar": [
           {
            "marker": {
             "colorbar": {
              "outlinewidth": 0,
              "ticks": ""
             }
            },
            "type": "scatterpolar"
           }
          ],
          "scatterpolargl": [
           {
            "marker": {
             "colorbar": {
              "outlinewidth": 0,
              "ticks": ""
             }
            },
            "type": "scatterpolargl"
           }
          ],
          "scatterternary": [
           {
            "marker": {
             "colorbar": {
              "outlinewidth": 0,
              "ticks": ""
             }
            },
            "type": "scatterternary"
           }
          ],
          "surface": [
           {
            "colorbar": {
             "outlinewidth": 0,
             "ticks": ""
            },
            "colorscale": [
             [
              0,
              "#0d0887"
             ],
             [
              0.1111111111111111,
              "#46039f"
             ],
             [
              0.2222222222222222,
              "#7201a8"
             ],
             [
              0.3333333333333333,
              "#9c179e"
             ],
             [
              0.4444444444444444,
              "#bd3786"
             ],
             [
              0.5555555555555556,
              "#d8576b"
             ],
             [
              0.6666666666666666,
              "#ed7953"
             ],
             [
              0.7777777777777778,
              "#fb9f3a"
             ],
             [
              0.8888888888888888,
              "#fdca26"
             ],
             [
              1,
              "#f0f921"
             ]
            ],
            "type": "surface"
           }
          ],
          "table": [
           {
            "cells": {
             "fill": {
              "color": "#EBF0F8"
             },
             "line": {
              "color": "white"
             }
            },
            "header": {
             "fill": {
              "color": "#C8D4E3"
             },
             "line": {
              "color": "white"
             }
            },
            "type": "table"
           }
          ]
         },
         "layout": {
          "annotationdefaults": {
           "arrowcolor": "#2a3f5f",
           "arrowhead": 0,
           "arrowwidth": 1
          },
          "autotypenumbers": "strict",
          "coloraxis": {
           "colorbar": {
            "outlinewidth": 0,
            "ticks": ""
           }
          },
          "colorscale": {
           "diverging": [
            [
             0,
             "#8e0152"
            ],
            [
             0.1,
             "#c51b7d"
            ],
            [
             0.2,
             "#de77ae"
            ],
            [
             0.3,
             "#f1b6da"
            ],
            [
             0.4,
             "#fde0ef"
            ],
            [
             0.5,
             "#f7f7f7"
            ],
            [
             0.6,
             "#e6f5d0"
            ],
            [
             0.7,
             "#b8e186"
            ],
            [
             0.8,
             "#7fbc41"
            ],
            [
             0.9,
             "#4d9221"
            ],
            [
             1,
             "#276419"
            ]
           ],
           "sequential": [
            [
             0,
             "#0d0887"
            ],
            [
             0.1111111111111111,
             "#46039f"
            ],
            [
             0.2222222222222222,
             "#7201a8"
            ],
            [
             0.3333333333333333,
             "#9c179e"
            ],
            [
             0.4444444444444444,
             "#bd3786"
            ],
            [
             0.5555555555555556,
             "#d8576b"
            ],
            [
             0.6666666666666666,
             "#ed7953"
            ],
            [
             0.7777777777777778,
             "#fb9f3a"
            ],
            [
             0.8888888888888888,
             "#fdca26"
            ],
            [
             1,
             "#f0f921"
            ]
           ],
           "sequentialminus": [
            [
             0,
             "#0d0887"
            ],
            [
             0.1111111111111111,
             "#46039f"
            ],
            [
             0.2222222222222222,
             "#7201a8"
            ],
            [
             0.3333333333333333,
             "#9c179e"
            ],
            [
             0.4444444444444444,
             "#bd3786"
            ],
            [
             0.5555555555555556,
             "#d8576b"
            ],
            [
             0.6666666666666666,
             "#ed7953"
            ],
            [
             0.7777777777777778,
             "#fb9f3a"
            ],
            [
             0.8888888888888888,
             "#fdca26"
            ],
            [
             1,
             "#f0f921"
            ]
           ]
          },
          "colorway": [
           "#636efa",
           "#EF553B",
           "#00cc96",
           "#ab63fa",
           "#FFA15A",
           "#19d3f3",
           "#FF6692",
           "#B6E880",
           "#FF97FF",
           "#FECB52"
          ],
          "font": {
           "color": "#2a3f5f"
          },
          "geo": {
           "bgcolor": "white",
           "lakecolor": "white",
           "landcolor": "#E5ECF6",
           "showlakes": true,
           "showland": true,
           "subunitcolor": "white"
          },
          "hoverlabel": {
           "align": "left"
          },
          "hovermode": "closest",
          "mapbox": {
           "style": "light"
          },
          "paper_bgcolor": "white",
          "plot_bgcolor": "#E5ECF6",
          "polar": {
           "angularaxis": {
            "gridcolor": "white",
            "linecolor": "white",
            "ticks": ""
           },
           "bgcolor": "#E5ECF6",
           "radialaxis": {
            "gridcolor": "white",
            "linecolor": "white",
            "ticks": ""
           }
          },
          "scene": {
           "xaxis": {
            "backgroundcolor": "#E5ECF6",
            "gridcolor": "white",
            "gridwidth": 2,
            "linecolor": "white",
            "showbackground": true,
            "ticks": "",
            "zerolinecolor": "white"
           },
           "yaxis": {
            "backgroundcolor": "#E5ECF6",
            "gridcolor": "white",
            "gridwidth": 2,
            "linecolor": "white",
            "showbackground": true,
            "ticks": "",
            "zerolinecolor": "white"
           },
           "zaxis": {
            "backgroundcolor": "#E5ECF6",
            "gridcolor": "white",
            "gridwidth": 2,
            "linecolor": "white",
            "showbackground": true,
            "ticks": "",
            "zerolinecolor": "white"
           }
          },
          "shapedefaults": {
           "line": {
            "color": "#2a3f5f"
           }
          },
          "ternary": {
           "aaxis": {
            "gridcolor": "white",
            "linecolor": "white",
            "ticks": ""
           },
           "baxis": {
            "gridcolor": "white",
            "linecolor": "white",
            "ticks": ""
           },
           "bgcolor": "#E5ECF6",
           "caxis": {
            "gridcolor": "white",
            "linecolor": "white",
            "ticks": ""
           }
          },
          "title": {
           "x": 0.05
          },
          "xaxis": {
           "automargin": true,
           "gridcolor": "white",
           "linecolor": "white",
           "ticks": "",
           "title": {
            "standoff": 15
           },
           "zerolinecolor": "white",
           "zerolinewidth": 2
          },
          "yaxis": {
           "automargin": true,
           "gridcolor": "white",
           "linecolor": "white",
           "ticks": "",
           "title": {
            "standoff": 15
           },
           "zerolinecolor": "white",
           "zerolinewidth": 2
          }
         }
        },
        "width": 800,
        "xaxis": {
         "anchor": "y",
         "domain": [
          0,
          0.45
         ],
         "dtick": 1,
         "linewidth": 1,
         "showline": true,
         "title": {
          "text": "Player scores"
         }
        },
        "xaxis2": {
         "anchor": "y2",
         "domain": [
          0.55,
          1
         ],
         "dtick": 1,
         "linewidth": 1,
         "showline": true,
         "title": {
          "text": "Player scores"
         }
        },
        "yaxis": {
         "anchor": "x",
         "domain": [
          0,
          1
         ],
         "dtick": 1,
         "linewidth": 1,
         "showline": true,
         "title": {
          "text": "Dealer card"
         }
        },
        "yaxis2": {
         "anchor": "x2",
         "domain": [
          0,
          1
         ],
         "dtick": 1,
         "linewidth": 1,
         "showline": true,
         "title": {
          "text": "Dealer card"
         }
        }
       }
      }
     },
     "metadata": {},
     "output_type": "display_data"
    }
   ],
   "source": [
    "import plotly.express as px\n",
    "\n",
    "fig = make_subplots(rows=1, cols=2, subplot_titles=(\"No ace\", \"Ace\"))\n",
    "dealer_axis = np.linspace(1, 10, 10)\n",
    "colorscale = [[0, \"rgb(150,150,150)\"], [1, \"rgb(155,230,155)\"]]\n",
    "\n",
    "annotations = ['Stick', 'Hit']\n",
    "policy_texts = {\n",
    "    'no_ace': [[annotations[policy_grids['no_ace'][i, j]] for j in range(10)] for i in range(10)],\n",
    "    'ace': [[annotations[policy_grids['ace'][i, j]] for j in range(10)] for i in range(10)]\n",
    "}\n",
    "\n",
    "fig.add_trace(go.Heatmap(x=player_scores_axis, y=card_names, z=policy_grids['no_ace'],\n",
    "                         colorscale=colorscale,\n",
    "                         text=policy_texts['no_ace'], texttemplate=\"%{text}\"), 1, 1)\n",
    "fig.add_trace(go.Heatmap(x=player_scores_axis, y=card_names, z=policy_grids['ace'],\n",
    "                         colorscale=colorscale,\n",
    "                         text=policy_texts['no_ace'], texttemplate=\"%{text}\"), 1, 2)\n",
    "fig.update_layout(width=800, height=400)\n",
    "fig.update_scenes(xaxis_title_text='Dealer', yaxis_title_text='Player')\n",
    "fig.update_traces(showscale=False)\n",
    "fig.update_xaxes(showline=True, linewidth=1, title='Player scores', dtick=1)\n",
    "fig.update_yaxes(showline=True, linewidth=1, title='Dealer card', dtick=1)\n",
    "\n",
    "\n",
    "fig.show()\n"
   ]
  }
 ],
 "metadata": {
  "kernelspec": {
   "display_name": "Python 3",
   "language": "python",
   "name": "python3"
  },
  "language_info": {
   "codemirror_mode": {
    "name": "ipython",
    "version": 3
   },
   "file_extension": ".py",
   "mimetype": "text/x-python",
   "name": "python",
   "nbconvert_exporter": "python",
   "pygments_lexer": "ipython3",
   "version": "3.7.9"
  }
 },
 "nbformat": 4,
 "nbformat_minor": 2
}
